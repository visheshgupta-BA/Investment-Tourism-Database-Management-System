{
 "cells": [
  {
   "cell_type": "code",
   "execution_count": 90,
   "id": "d119c3b3",
   "metadata": {},
   "outputs": [
    {
     "name": "stdout",
     "output_type": "stream",
     "text": [
      "Requirement already satisfied: mysql-connector-python in /Applications/anaconda3/lib/python3.9/site-packages (8.0.31)\n",
      "Requirement already satisfied: protobuf<=3.20.1,>=3.11.0 in /Applications/anaconda3/lib/python3.9/site-packages (from mysql-connector-python) (3.19.1)\n"
     ]
    }
   ],
   "source": [
    "# installingmysql connector\n",
    "!pip install mysql-connector-python"
   ]
  },
  {
   "cell_type": "code",
   "execution_count": 91,
   "id": "bb805fa7",
   "metadata": {},
   "outputs": [],
   "source": [
    "# importing the required libraries\n",
    "import mysql.connector as c\n",
    "import pandas as pd\n",
    "import numpy as np\n",
    "import matplotlib.pyplot as plt \n",
    "import seaborn as sns\n",
    "import plotly.express as px\n",
    "import plotly.graph_objects as go\n",
    "import warnings\n",
    "warnings.filterwarnings('ignore')"
   ]
  },
  {
   "cell_type": "code",
   "execution_count": 92,
   "id": "89deb2a1",
   "metadata": {},
   "outputs": [
    {
     "name": "stdout",
     "output_type": "stream",
     "text": [
      "Successfully Connected\n"
     ]
    }
   ],
   "source": [
    "con = c.connect(host = \"localhost\",\n",
    "               user = \"root\",\n",
    "               passwd = \"gmail@8821\",\n",
    "               database = \"A&S Consulting Group Ltd\")\n",
    "if con.is_connected():\n",
    "    print(\"Successfully Connected\")\n",
    "else:\n",
    "    print(\"Connectivity Issue\")"
   ]
  },
  {
   "cell_type": "code",
   "execution_count": 93,
   "id": "1d0e0eb0",
   "metadata": {},
   "outputs": [
    {
     "name": "stdout",
     "output_type": "stream",
     "text": [
      "Afghanistan\n",
      "Netherlands\n",
      "Albania\n",
      "Algeria\n",
      "American Samoa\n",
      "And or ra\n",
      "Angola\n",
      "Antigua and Barbuda\n",
      "United Arab Emirates\n",
      "Argentina\n",
      "Armenia\n",
      "Aruba\n",
      "Australia\n",
      "Azerbaijan\n",
      "Bahamas\n",
      "Bahrain\n",
      "Bangladesh\n",
      "Barbados\n",
      "Belgium\n",
      "Belize\n",
      "Benin\n",
      "Bermuda\n",
      "Bhutan\n",
      "Bolivia\n",
      "Bosnia and Herzegovina\n",
      "Botswana\n",
      "Brazil\n",
      "United Kingdom\n",
      "Virgin Islands British\n",
      "Brunei\n",
      "Bulgaria\n",
      "Burkina Faso\n",
      "Burundi\n",
      "Cayman Islands\n",
      "Chile\n",
      "Costa Rica\n",
      "Djibouti\n",
      "Dominica\n",
      "Dominican Republic\n",
      "Ecuad or \n",
      "Egypt\n",
      "El Salvad or \n",
      "Eritrea\n",
      "Spain\n",
      "South Africa\n",
      "Ethiopia\n",
      "Fiji Islands\n",
      "Philippines\n",
      "Faroe Islands\n",
      "Gabon\n",
      "Gambia\n",
      "Ge or gia\n",
      "Ghana\n",
      "Gibraltar\n",
      "Grenada\n",
      "Greenland\n",
      "Guam\n",
      "Guatemala\n",
      "Guinea\n",
      "Guinea Bissau\n",
      "Guyana\n",
      "Haiti\n",
      "Honduras\n",
      "Indonesia\n",
      "India\n",
      "Iraq\n",
      "Iran\n",
      "Ireland\n",
      "Iceland\n",
      "Israel\n",
      "Italy\n",
      "Austria\n",
      "Jamaica\n",
      "Japan\n",
      "Yemen\n",
      "J or dan\n",
      "Cambodia\n",
      "Cameroon\n",
      "Canada\n",
      "Cape Verde\n",
      "Kazakhstan\n",
      "Kenya\n",
      "Central African Republic\n",
      "China\n",
      "Kyrgyzstan\n",
      "Kiribati\n",
      "Colombia\n",
      "Com or os\n",
      "Congo\n",
      "Congo The Democratic Republic of the\n",
      "N or th K or ea\n",
      "South K or ea\n",
      "Greece\n",
      "Croatia\n",
      "Cuba\n",
      "Kuwait\n",
      "Cyprus\n",
      "Laos\n",
      "Latvia\n",
      "Lesotho\n",
      "Lebanon\n",
      "Liberia\n",
      "Libya\n",
      "Liechtenstein\n",
      "Lithuania\n",
      "Luxembourg\n",
      "Macao\n",
      "Madagascar\n",
      "Macedonia\n",
      "Malawi\n",
      "Maldives\n",
      "Malaysia\n",
      "Mali\n",
      "Malta\n",
      "M or occo\n",
      "Marshall Islands\n",
      "Mauritania\n",
      "Mauritius\n",
      "Mexico\n",
      "Micronesia  Federated States of\n",
      "Moldova\n",
      "Monaco\n",
      "Mongolia\n",
      "Mozambique\n",
      "Myanmar\n",
      "Namibia\n",
      "Nauru\n",
      "Nepal\n",
      "Nicaragua\n",
      "Niger\n",
      "Nigeria\n",
      "N or way\n",
      "Cote d'Ivoire\n",
      "Oman\n",
      "Pakistan\n",
      "Palau\n",
      "Panama\n",
      "Papua New Guinea\n",
      "Paraguay\n",
      "Peru\n",
      "N or thern Mariana Islands\n",
      "P or tugal\n",
      "Puerto Rico\n",
      "Poland\n",
      "Equat or ial Guinea\n",
      "Qatar\n",
      "France\n",
      "French Polynesia\n",
      "Rwanda\n",
      "Sweden\n",
      "Saint Kitts and Nevis\n",
      "Saint Lucia\n",
      "Saint Vincent and the Grenadines\n",
      "Germany\n",
      "Solomon Islands\n",
      "Zambia\n",
      "Samoa\n",
      "San Marino\n",
      "Sao Tome and Principe\n",
      "Saudi Arabia\n",
      "Senegal\n",
      "Seychelles\n",
      "Sierra Leone\n",
      "Singap or e\n",
      "Slovakia\n",
      "Slovenia\n",
      "Somalia\n",
      "Sri Lanka\n",
      "Sudan\n",
      "Finland\n",
      "Suriname\n",
      "Swaziland\n",
      "Switzerland\n",
      "Syria\n",
      "Tajikistan\n",
      "Tanzania\n",
      "Denmark\n",
      "Thailand\n",
      "Togo\n",
      "Tonga\n",
      "Trinidad and Tobago\n",
      "Chad\n",
      "Czech Republic\n",
      "Tunisia\n",
      "Turkey\n",
      "Turkmenistan\n",
      "Turks and Caicos Islands\n",
      "Tuvalu\n",
      "Uganda\n",
      "Ukraine\n",
      "Hungary\n",
      "Uruguay\n",
      "New Caledonia\n",
      "New Zealand\n",
      "Uzbekistan\n",
      "Belarus\n",
      "Vanuatu\n",
      "Venezuela\n",
      "Russian Federation\n",
      "Vietnam\n",
      "Estonia\n",
      "United States\n",
      "Virgin Islands U.S.\n",
      "Zimbabwe\n",
      "Palestine\n",
      "The list of countries have been printed\n"
     ]
    }
   ],
   "source": [
    "# getting the list of all the countries from the 'nation' table\n",
    "cur = con.cursor()\n",
    "nation = \"SELECT * From nation\"\n",
    "cur.execute(nation)\n",
    "result = cur.fetchall()\n",
    "for rec in result:\n",
    "    print(rec[1])\n",
    "print(\"The list of countries have been printed\")"
   ]
  },
  {
   "cell_type": "code",
   "execution_count": 94,
   "id": "46e85a09",
   "metadata": {},
   "outputs": [
    {
     "name": "stdout",
     "output_type": "stream",
     "text": [
      "('AFG', 'Afghanistan', 'Asia', 'Southern and Central Asia', 652090, 1919, 'Afganistan and Afqanestan', 'Islamic Emirate', 'Kabul', 69.1761, 34.5228)\n",
      "('NLD', 'Netherlands', 'Europe', 'Western Europe', 41526, 1581, 'Nederland', 'Constitutional Monarchy', 'Amsterdam', 4.89095, 52.3738)\n",
      "('ALB', 'Albania', 'Europe', 'Southern Europe', 28748, 1912, 'Shqiperia', 'Republic', 'Tirane', 19.8172, 41.3317)\n",
      "('DZA', 'Algeria', 'Africa', 'N or thern Africa', 2381740, 1962, 'Al Jaza or   or  Algerie', 'Republic', 'Algiers', 3.05097, 36.7397)\n",
      "('ASM', 'American Samoa', 'Oceania', 'Polynesia', 199, 0, 'Amerika Samoa', 'US Territ or y', 'Pago Pago', 170.691, 14.2846)\n",
      "('AND', 'And or ra', 'Europe', 'Southern Europe', 468, 1278, 'And or ra', 'Parliamentary Coprincipality', 'And or ra la Vella', 1.5218, 42.5075)\n",
      "('AGO', 'Angola', 'Africa', 'Central Africa', 1246700, 1975, 'Angola', 'Republic', 'Luanda', 13.242, 8.81155)\n",
      "('ATG', 'Antigua and Barbuda', 'N or th America', 'Caribbean', 442, 1981, 'Antigua and Barbuda', 'Constitutional Monarchy', \"Saint John's\", 61.8456, 17.1175)\n",
      "('ARE', 'United Arab Emirates', 'Asia', 'Middle East', 83600, 1971, 'Al Imarat al  or  Arabiya al Muttahida', 'Emirate Federation', 'Abu Dhabi', 54.3705, 24.4764)\n",
      "('ARG', 'Argentina', 'South America', 'South America', 2780400, 1816, 'Argentina', 'Federal Republic', 'Buenos Aires', 58.4173, 34.6118)\n",
      "('ARM', 'Armenia', 'Asia', 'Middle East', 29800, 1991, 'Hajastan', 'Republic', 'Yerevan', 44.509, 40.1596)\n",
      "('ABW', 'Aruba', 'N or th America', 'Caribbean', 193, 0, 'Aruba', 'Nonmetropolitan Territ or y of The Netherlands', ' or anjestad', 70.0167, 12.5167)\n",
      "('AUS', 'Australia', 'Oceania', 'Australia and New Zealand', 7741220, 1901, 'Australia', 'Constitutional Monarchy Federation', 'Canberra', 149.129, 35.282)\n",
      "('AZE', 'Azerbaijan', 'Asia', 'Middle East', 86600, 1991, 'Azarbaycan', 'Federal Republic', 'Baku', 49.8932, 40.3834)\n",
      "('BHS', 'Bahamas', 'N or th America', 'Caribbean', 13878, 1973, 'The Bahamas', 'Constitutional Monarchy', 'Nassau', 77.339, 25.0661)\n",
      "('BHR', 'Bahrain', 'Asia', 'Middle East', 694, 1971, 'Al Bahrayn', 'Monarchy (Emirate)', 'Manama', 50.5354, 26.1921)\n",
      "('BGD', 'Bangladesh', 'Asia', 'Southern and Central Asia', 143998, 1971, 'Bangladesh', 'Republic', 'Dhaka', 90.4113, 23.7055)\n",
      "('BRB', 'Barbados', 'N or th America', 'Caribbean', 430, 1966, 'Barbados', 'Constitutional Monarchy', 'Bridgetown', 59.6105, 13.0935)\n",
      "('BEL', 'Belgium', 'Europe', 'Western Europe', 30518, 1830, 'Belgie Belgique', 'Constitutional Monarchy Federation', 'Brussels', 4.36761, 50.8371)\n",
      "('BLZ', 'Belize', 'N or th America', 'Central America', 22696, 1981, 'Belize', 'Constitutional Monarchy', 'Belmopan', 88.7713, 17.2534)\n",
      "('BEN', 'Benin', 'Africa', 'Western Africa', 112622, 1960, 'Benin', 'Republic', 'P or toNovo', 2.6323, 6.4779)\n",
      "('BMU', 'Bermuda', 'N or th America', 'N or th America', 53, 0, 'Bermuda', 'Dependent Territ or y of the UK', 'Hamilton', 64.706, 32.3293)\n",
      "('BTN', 'Bhutan', 'Asia', 'Southern and Central Asia', 47000, 1910, 'DrukYul', 'Monarchy', 'Thimphu', 89.6177, 27.5768)\n",
      "('BOL', 'Bolivia', 'South America', 'South America', 1098580, 1825, 'Bolivia', 'Republic', 'La Paz', 66.1936, 13.9908)\n",
      "('BIH', 'Bosnia and Herzegovina', 'Europe', 'Southern Europe', 51197, 1992, 'Bosna i Hercegovina', 'Federal Republic', 'Sarajevo', 18.4214, 43.8607)\n",
      "('BWA', 'Botswana', 'Africa', 'Southern Africa', 581730, 1966, 'Botswana', 'Republic', 'Gab or one', 25.9201, 24.6544)\n",
      "('BRA', 'Brazil', 'South America', 'South America', 8547400, 1822, 'Brasil', 'Federal Republic', 'Brasilia', 47.9292, 15.7801)\n",
      "('GBR', 'United Kingdom', 'Europe', 'British Islands', 242900, 1066, 'United Kingdom', 'Constitutional Monarchy', 'London', 0.126236, 51.5002)\n",
      "('VGB', 'Virgin Islands British', 'N or th America', 'Caribbean', 151, 0, 'British Virgin Islands', 'Dependent Territ or y of the UK', 'Road Town', 64.623056, 18.431389)\n",
      "('BRN', 'Brunei', 'Asia', 'Southeast Asia', 5765, 1984, 'Brunei Darussalam', 'Monarchy Sultanate', 'Bandar Seri Begawan', 114.946, 4.94199)\n",
      "('BGR', 'Bulgaria', 'Europe', 'Eastern Europe', 110994, 1908, 'Balgarija', 'Republic', 'Sofia', 23.3238, 42.7105)\n",
      "('BFA', 'Burkina Faso', 'Africa', 'Western Africa', 274000, 1960, 'Burkina Faso', 'Republic', 'Ouagadougou', 1.53395, 12.3605)\n",
      "('BDI', 'Burundi', 'Africa', 'Eastern Africa', 27834, 1962, 'Burundi or Uburundi', 'Republic', 'Bujumbura', 29.3639, 3.3784)\n",
      "('CYM', 'Cayman Islands', 'N or th America', 'Caribbean', 264, 0, 'Cayman Islands', 'Dependent Territ or y of the UK', 'Ge or ge Town', 81.3857, 19.3022)\n",
      "('CHL', 'Chile', 'South America', 'South America', 756626, 1810, 'Chile', 'Republic', 'Santiago', 70.6475, 33.475)\n",
      "('CRI', 'Costa Rica', 'N or th America', 'Central America', 51100, 1821, 'Costa Rica', 'Republic', 'San Jose', 84.0089, 9.63701)\n",
      "('DJI', 'Djibouti', 'Africa', 'Eastern Africa', 23200, 1977, 'Djibouti or Jibuti', 'Republic', 'Djibouti', 43.1425, 11.5806)\n",
      "('DMA', 'Dominica', 'N or th America', 'Caribbean', 751, 1978, 'Dominica', 'Republic', 'Roseau', 61.39, 15.2976)\n",
      "('DOM', 'Dominican Republic', 'N or th America', 'Caribbean', 48511, 1844, 'Republica Dominicana', 'Republic', 'Santo Domingo', 69.8908, 18.479)\n",
      "('ECU', 'Ecuad or ', 'South America', 'South America', 283561, 1822, 'Ecuad or ', 'Republic', 'Quito', 78.5243, 0.229498)\n",
      "('EGY', 'Egypt', 'Africa', 'N or thern Africa', 1001450, 1922, 'Misr', 'Republic', 'Cairo', 31.2461, 30.0982)\n",
      "('SLV', 'El Salvad or ', 'N or th America', 'Central America', 21041, 1841, 'El Salvad or ', 'Republic', 'San Salvad or ', 89.2073, 13.7034)\n",
      "('ERI', 'Eritrea', 'Africa', 'Eastern Africa', 117600, 1993, 'Ertra', 'Republic', 'Asmara', 38.9183, 15.3315)\n",
      "('ESP', 'Spain', 'Europe', 'Southern Europe', 505992, 1492, 'Espana', 'Constitutional Monarchy', 'Madrid', 3.70327, 40.4167)\n",
      "('ZAF', 'South Africa', 'Africa', 'Southern Africa', 1221040, 1910, 'South Africa', 'Republic', 'Pret or ia', 28.1871, 25.746)\n",
      "('ETH', 'Ethiopia', 'Africa', 'Eastern Africa', 1104300, 1000, 'YeItyop yiya', 'Republic', 'Addis Ababa', 38.7468, 9.02274)\n",
      "('FJI', 'Fiji Islands', 'Oceania', 'Melanesia', 18274, 1970, 'Fiji Islands', 'Republic', 'Suva', 178.399, 18.1149)\n",
      "('PHL', 'Philippines', 'Asia', 'Southeast Asia', 300000, 1946, 'Pilipinas', 'Republic', 'Manila', 121.035, 14.5515)\n",
      "('FRO', 'Faroe Islands', 'Europe', 'N or dic Countries', 1399, 0, 'F or oyar', 'Part of Denmark', 'T or shavn', 6.91181, 61.8926)\n",
      "('GAB', 'Gabon', 'Africa', 'Central Africa', 267668, 1960, 'Le Gabon', 'Republic', 'Libreville', 9.45162, 0.38832)\n",
      "('GMB', 'Gambia', 'Africa', 'Western Africa', 11295, 1965, 'The Gambia', 'Republic', 'Banjul', 16.5885, 13.4495)\n",
      "('GEO', 'Ge or gia', 'Asia', 'Middle East', 69700, 1991, 'Sakartvelo', 'Republic', 'Tbilisi', 44.793, 41.71)\n",
      "('GHA', 'Ghana', 'Africa', 'Western Africa', 238533, 1957, 'Ghana', 'Republic', 'Accra', 0.20795, 5.57045)\n",
      "('GIB', 'Gibraltar', 'Europe', 'Southern Europe', 6, 0, 'Gibraltar', 'Dependent Territ or y of the UK', 'NA', 36.1408, 5.3536)\n",
      "('GRD', 'Grenada', 'N or th America', 'Caribbean', 344, 1974, 'Grenada', 'Constitutional Monarchy', \"Saint Ge or ge's\", 61.7449, 12.0653)\n",
      "('GRL', 'Greenland', 'N or th America', 'N or th America', 2166090, 0, 'Kalaallit Nunaat or Gronland', 'Part of Denmark', 'Nuuk', 51.7214, 64.1836)\n",
      "('GUM', 'Guam', 'Oceania', 'Micronesia', 549, 0, 'Guam', 'US Territ or y', 'Agana', 144.794, 13.4443)\n",
      "('GTM', 'Guatemala', 'N or th America', 'Central America', 108889, 1821, 'Guatemala', 'Republic', 'Guatemala City', 90.5328, 14.6248)\n",
      "('GIN', 'Guinea', 'Africa', 'Western Africa', 245857, 1958, 'Guinee', 'Republic', 'Conakry', 13.7, 9.51667)\n",
      "('GNB', 'Guinea Bissau', 'Africa', 'Western Africa', 36125, 1974, 'GuineBissau', 'Republic', 'Bissau', 15.1804, 11.8037)\n",
      "('GUY', 'Guyana', 'South America', 'South America', 214969, 1966, 'Guyana', 'Republic', 'Ge or getown', 58.1548, 6.80461)\n",
      "('HTI', 'Haiti', 'N or th America', 'Caribbean', 27750, 1804, 'Haiti or Dayti', 'Republic', 'P or tauPrince', 72.3288, 18.5392)\n",
      "('HND', 'Honduras', 'N or th America', 'Central America', 112088, 1838, 'Honduras', 'Republic', 'Tegucigalpa', 87.4667, 15.1333)\n",
      "('IDN', 'Indonesia', 'Asia', 'Southeast Asia', 1904570, 1945, 'Indonesia', 'Republic', 'Jakarta', 106.83, 6.19752)\n",
      "('IND', 'India', 'Asia', 'Southern and Central Asia', 3287260, 1947, 'Bharat or India', 'Federal Republic', 'New Delhi', 77.225, 28.6353)\n",
      "('IRQ', 'Iraq', 'Asia', 'Middle East', 438317, 1932, 'Al yIraq', 'Republic', 'Baghdad', 44.394, 33.3302)\n",
      "('IRN', 'Iran', 'Asia', 'Southern and Central Asia', 1648200, 1906, 'Iran', 'Islamic Republic', 'Tehran', 51.4447, 35.6878)\n",
      "('IRL', 'Ireland', 'Europe', 'British Islands', 70273, 1921, 'Ireland or Eire', 'Republic', 'Dublin', 6.26749, 53.3441)\n",
      "('ISL', 'Iceland', 'Europe', 'N or dic Countries', 103000, 1944, 'Island', 'Republic', 'Reykjavik', 21.8952, 64.1353)\n",
      "('ISR', 'Israel', 'Asia', 'Middle East', 21056, 1948, 'Yisraiel or Israil', 'Republic', 'NA', 35.2035, 31.7717)\n",
      "('ITA', 'Italy', 'Europe', 'Southern Europe', 301316, 1861, 'Italia', 'Republic', 'Rome', 12.4823, 41.8955)\n",
      "('AUT', 'Austria', 'Europe', 'Western Europe', 83859, 1918, 'Osterreich', 'Federal Republic', 'Vienna', 16.3798, 48.2201)\n",
      "('JAM', 'Jamaica', 'N or th America', 'Caribbean', 10990, 1962, 'Jamaica', 'Constitutional Monarchy', 'Kingston', 76.792, 17.9927)\n",
      "('JPN', 'Japan', 'Asia', 'Eastern Asia', 377829, 660, 'Nihon or Nippon', 'Constitutional Monarchy', 'Tokyo', 139.77, 35.67)\n",
      "('YEM', 'Yemen', 'Asia', 'Middle East', 527968, 1918, 'AlYaman', 'Republic', \"Sana'a\", 44.2075, 15.352)\n",
      "('J or ', 'J or dan', 'Asia', 'Middle East', 88946, 1946, 'AlUrdunn', 'Constitutional Monarchy', 'Amman', 35.9263, 31.9497)\n",
      "('KHM', 'Cambodia', 'Asia', 'Southeast Asia', 181035, 1953, 'Kampuchea', 'Constitutional Monarchy', 'Phnom Penh', 104.874, 11.5556)\n",
      "('CMR', 'Cameroon', 'Africa', 'Central Africa', 475442, 1960, 'Cameroun or Cameroon', 'Republic', 'Yaounde', 11.5174, 3.8721)\n",
      "('CAN', 'Canada', 'N or th America', 'N or th America', 9970610, 1867, 'Canada', 'Constitutional Monarchy Federation', 'Ottawa', 75.6919, 45.4215)\n",
      "('CPV', 'Cape Verde', 'Africa', 'Western Africa', 4033, 1975, 'Cabo Verde', 'Republic', 'Praia', 23.5087, 14.9218)\n",
      "('KAZ', 'Kazakhstan', 'Asia', 'Southern and Central Asia', 2724900, 1991, 'Qazaqstan', 'Republic', 'Astana', 71.4382, 51.1879)\n",
      "('KEN', 'Kenya', 'Africa', 'Eastern Africa', 580367, 1963, 'Kenya', 'Republic', 'Nairobi', 36.8126, 1.27975)\n",
      "('CAF', 'Central African Republic', 'Africa', 'Central Africa', 622984, 1960, 'Centrafrique or BeAfrika', 'Republic', 'Bangui', 21.6407, 5.63056)\n",
      "('CHN', 'China', 'Asia', 'Eastern Asia', 9572900, 1523, 'Zhongquo', \"People'sRepublic\", 'Beijing', 116.286, 40.0495)\n",
      "('KGZ', 'Kyrgyzstan', 'Asia', 'Southern and Central Asia', 199900, 1991, 'Kyrgyzstan', 'Republic', 'Bishkek', 74.6057, 42.8851)\n",
      "('KIR', 'Kiribati', 'Oceania', 'Micronesia', 726, 1979, 'Kiribati', 'Republic', 'Tarawa', 172.979, 1.32905)\n",
      "('COL', 'Colombia', 'South America', 'South America', 1138910, 1810, 'Colombia', 'Republic', 'Bogota', 74.082, 4.60987)\n",
      "('COM', 'Com or os', 'Africa', 'Eastern Africa', 1862, 1975, 'Kom or i or Com or es', 'Republic', 'M or oni', 43.2418, 11.6986)\n",
      "('COG', 'Congo', 'Africa', 'Central Africa', 342000, 1960, 'Congo', 'Republic', 'Brazzaville', 15.2662, 4.2767)\n",
      "('COD', 'Congo The Democratic Republic of the', 'Africa', 'Central Africa', 2344860, 1960, 'Republique Democratique du Congo', 'Republic', 'Kinshasa', 15.3222, 4.325)\n",
      "('PRK', 'N or th K or ea', 'Asia', 'Eastern Asia', 120538, 1948, 'Choson Minjujuui In ymin Konghwaguk Bukhan', 'Socialistic Republic', 'Pyongyang', 125.754, 39.0319)\n",
      "('K or ', 'South K or ea', 'Asia', 'Eastern Asia', 99434, 1948, 'Taehan Miniguk or Namhan', 'Republic', 'Seoul', 126.957, 37.5323)\n",
      "('GRC', 'Greece', 'Europe', 'Southern Europe', 131626, 1830, 'Ellada', 'Republic', 'Athens', 23.7166, 37.9792)\n",
      "('HRV', 'Croatia', 'Europe', 'Southern Europe', 56538, 1991, 'Hrvatska', 'Republic', 'Zagreb', 15.9614, 45.8069)\n",
      "('CUB', 'Cuba', 'N or th America', 'Caribbean', 110861, 1902, 'Cuba', 'Socialistic Republic', 'Havana', 82.3667, 23.1333)\n",
      "('KWT', 'Kuwait', 'Asia', 'Middle East', 17818, 1961, 'AlKuwayt', 'Constitutional Monarchy or Emirate', 'Kuwait City', 47.9824, 29.3721)\n",
      "('CYP', 'Cyprus', 'Asia', 'Middle East', 9251, 1960, 'Kypros or Kibris', 'Republic', 'Nicosia', 33.3736, 35.1676)\n",
      "('LAO', 'Laos', 'Asia', 'Southeast Asia', 236800, 1953, 'Lao', 'Republic', 'Vientiane', 102.177, 18.5826)\n",
      "('LVA', 'Latvia', 'Europe', 'Baltic Countries', 64589, 1991, 'Latvija', 'Republic', 'Riga', 24.1048, 56.9465)\n",
      "('LSO', 'Lesotho', 'Africa', 'Southern Africa', 30355, 1966, 'Lesotho', 'Constitutional Monarchy', 'Maseru', 27.7167, 29.5208)\n",
      "('LBN', 'Lebanon', 'Asia', 'Middle East', 10400, 1941, 'Lubnan', 'Republic', 'Beirut', 35.5134, 33.8872)\n",
      "('LBR', 'Liberia', 'Africa', 'Western Africa', 111369, 1847, 'Liberia', 'Republic', 'Monrovia', 10.7957, 6.30039)\n",
      "('LBY', 'Libya', 'Africa', 'N or thern Africa', 1759540, 1951, 'Libiya', 'Socialistic State', 'Tripoli', 13.1072, 32.8578)\n",
      "('LIE', 'Liechtenstein', 'Europe', 'Western Europe', 160, 1806, 'Liechtenstein', 'Constitutional Monarchy', 'Vaduz', 9.52148, 47.1411)\n",
      "('LTU', 'Lithuania', 'Europe', 'Baltic Countries', 65301, 1991, 'Lietuva', 'Republic', 'Vilnius', 25.2799, 54.6896)\n",
      "('LUX', 'Luxembourg', 'Europe', 'Western Europe', 2586, 1867, 'Luxembourg or Letzebuerg', 'Constitutional Monarchy', 'Luxembourg', 6.1296, 49.61)\n",
      "('MAC', 'Macao', 'Asia', 'Eastern Asia', 18, 0, 'Macau or Aomen', 'Special Administrative Region of China', 'NA', 113.55, 22.1667)\n",
      "('MDG', 'Madagascar', 'Africa', 'Eastern Africa', 587041, 1960, 'Madagasikara or Madagascar', 'Federal Republic', 'Antananarivo', 45.7167, 20.4667)\n",
      "('MKD', 'Macedonia', 'Europe', 'Southern Europe', 25713, 1991, 'Makedonija', 'Republic', 'Skopje', 21.4361, 42.0024)\n",
      "('MWI', 'Malawi', 'Africa', 'Eastern Africa', 118484, 1964, 'Malawi', 'Republic', 'Lilongwe', 33.7703, 13.9899)\n",
      "('MDV', 'Maldives', 'Asia', 'Southern and Central Asia', 298, 1965, 'Dhivehi Raajje or Maldives', 'Republic', 'Male', 73.5109, 4.1742)\n",
      "('MYS', 'Malaysia', 'Asia', 'Southeast Asia', 329758, 1957, 'Malaysia', 'Constitutional Monarchy Federation', 'Kuala Lumpur', 101.684, 3.12433)\n",
      "('MLI', 'Mali', 'Africa', 'Western Africa', 1240190, 1960, 'Mali', 'Republic', 'Bamako', 7.50034, 13.5667)\n",
      "('MLT', 'Malta', 'Europe', 'Southern Europe', 316, 1964, 'Malta', 'Republic', 'Valletta', 14.5189, 35.9042)\n",
      "('MAR', 'M or occo', 'Africa', 'N or thern Africa', 446550, 1956, 'AlMaghrib', 'Constitutional Monarchy', 'Rabat', 6.8704, 33.9905)\n",
      "('MHL', 'Marshall Islands', 'Oceania', 'Micronesia', 181, 1990, 'Marshall Islands or Majol', 'Republic', 'Majuro', 171.135, 7.11046)\n",
      "('MRT', 'Mauritania', 'Africa', 'Western Africa', 1025520, 1960, 'Muritaniya or Mauritanie', 'Republic', 'Nouakchott', 15.9824, 18.2367)\n",
      "('MUS', 'Mauritius', 'Africa', 'Eastern Africa', 2040, 1968, 'Mauritius', 'Republic', 'P or t Louis', 57.4977, 20.1605)\n",
      "('MEX', 'Mexico', 'N or th America', 'Central America', 1958200, 1810, 'Mexico', 'Federal Republic', 'Mexico City', 99.1276, 19.427)\n",
      "('FSM', 'Micronesia  Federated States of', 'Oceania', 'Micronesia', 702, 1990, 'Micronesia', 'Federal Republic', 'Palikir', 158.185, 6.91771)\n",
      "('MDA', 'Moldova', 'Europe', 'Eastern Europe', 33851, 1991, 'Moldova', 'Republic', 'Chisinau', 28.8497, 47.0167)\n",
      "('MCO', 'Monaco', 'Europe', 'Western Europe', 2, 1861, 'Monaco', 'Constitutional Monarchy', 'Monaco', 7.41891, 43.7325)\n",
      "('MNG', 'Mongolia', 'Asia', 'Eastern Asia', 1566500, 1921, 'Mongol Uls', 'Republic', 'Ulaanbaatar', 106.937, 47.9129)\n",
      "('MOZ', 'Mozambique', 'Africa', 'Eastern Africa', 801590, 1975, 'Mocambique', 'Republic', 'Maputo', 32.5713, 25.9664)\n",
      "('MMR', 'Myanmar', 'Asia', 'Southeast Asia', 676578, 1948, 'Myanma Pye', 'Republic', 'Naypyidaw', 95.9562, 21.914)\n",
      "('NAM', 'Namibia', 'Africa', 'Southern Africa', 824292, 1990, 'Namibia', 'Republic', 'Windhoek', 17.0931, 22.5648)\n",
      "('NRU', 'Nauru', 'Oceania', 'Micronesia', 21, 1968, 'Naoero or Nauru', 'Republic', 'Yaren District', 166.920867, 0.5477)\n",
      "('NPL', 'Nepal', 'Asia', 'Southern and Central Asia', 147181, 1769, 'Nepal', 'Constitutional Monarchy', 'Kathmandu', 85.3157, 27.6939)\n",
      "('NIC', 'Nicaragua', 'N or th America', 'Central America', 130000, 1838, 'Nicaragua', 'Republic', 'Managua', 86.2734, 12.1475)\n",
      "('NER', 'Niger', 'Africa', 'Western Africa', 1267000, 1960, 'Niger', 'Republic', 'Niamey', 2.1073, 13.514)\n",
      "('NGA', 'Nigeria', 'Africa', 'Western Africa', 923768, 1960, 'Nigeria', 'Federal Republic', 'Abuja', 7.48906, 9.05804)\n",
      "('N or ', 'N or way', 'Europe', 'N or dic Countries', 323877, 1905, 'N or ge', 'Constitutional Monarchy', 'Oslo', 10.7387, 59.9138)\n",
      "('CIV', \"Cote d'Ivoire\", 'Africa', 'Western Africa', 322463, 1960, 'Cote d iIvoire', 'Republic', 'Yamoussoukro', 4.0305, 5.332)\n",
      "('OMN', 'Oman', 'Asia', 'Middle East', 309500, 1951, 'YUman', 'Monarchy or Sultanate', 'Muscat', 58.5874, 23.6105)\n",
      "('PAK', 'Pakistan', 'Asia', 'Southern and Central Asia', 796095, 1947, 'Pakistan', 'Republic', 'Islamabad', 72.8, 30.5167)\n",
      "('PLW', 'Palau', 'Oceania', 'Micronesia', 459, 1994, 'Belau or Palau', 'Republic', 'K or  or ', 134.479, 7.34194)\n",
      "('PAN', 'Panama', 'N or th America', 'Central America', 75517, 1903, 'Panama', 'Republic', 'Panama City', 79.5188, 8.99427)\n",
      "('PNG', 'Papua New Guinea', 'Oceania', 'Melanesia', 462840, 1975, 'Papua New Guinea or Papua Niugini', 'Constitutional Monarchy', 'P or t M or esby', 147.194, 9.47357)\n",
      "('PRY', 'Paraguay', 'South America', 'South America', 406752, 1811, 'Paraguay', 'Republic', 'Asuncion', 57.6362, 25.3005)\n",
      "('PER', 'Peru', 'South America', 'South America', 1285220, 1821, 'Peru or Piruw', 'Republic', 'Lima', 77.0465, 12.0931)\n",
      "('MNP', 'N or thern Mariana Islands', 'Oceania', 'Micronesia', 464, 0, 'N or thern Mariana Islands', 'Commonwealth of the US', 'Saipan', 145.765, 15.1935)\n",
      "('PRT', 'P or tugal', 'Europe', 'Southern Europe', 91982, 1143, 'P or tugal', 'Republic', 'Lisbon', 9.13552, 38.7072)\n",
      "('PRI', 'Puerto Rico', 'N or th America', 'Caribbean', 8875, 0, 'Puerto Rico', 'Commonwealth of the US', 'San Juan', 66.0, 18.23)\n",
      "('POL', 'Poland', 'Europe', 'Eastern Europe', 323250, 1918, 'Polska', 'Republic', 'Warsaw', 21.02, 52.26)\n",
      "('GNQ', 'Equat or ial Guinea', 'Africa', 'Central Africa', 28051, 1968, 'Guinea Ecuat or ial', 'Republic', 'Malabo', 8.7741, 3.7523)\n",
      "('QAT', 'Qatar', 'Asia', 'Middle East', 11000, 1971, 'Qatar', 'Monarchy', 'Doha', 51.5082, 25.2948)\n",
      "('FRA', 'France', 'Europe', 'Western Europe', 551500, 843, 'France', 'Republic', 'Paris', 2.35097, 48.8566)\n",
      "('PYF', 'French Polynesia', 'Oceania', 'Polynesia', 4000, 0, 'Polynesie francaise', 'Nonmetropolitan Territ or y of France', 'Papeete', 149.57, 17.535)\n",
      "('RWA', 'Rwanda', 'Africa', 'Eastern Africa', 26338, 1962, 'Rwanda or Urwanda', 'Republic', 'Kigali', 30.0587, 1.95325)\n",
      "('SWE', 'Sweden', 'Europe', 'N or dic Countries', 449964, 836, 'Sverige', 'Constitutional Monarchy', 'Stockholm', 18.0645, 59.3327)\n",
      "('KNA', 'Saint Kitts and Nevis', 'N or th America', 'Caribbean', 261, 1983, 'Saint Kitts and Nevis', 'Constitutional Monarchy', 'Basseterre', 62.7309, 17.3)\n",
      "('LCA', 'Saint Lucia', 'N or th America', 'Caribbean', 622, 1979, 'Saint Lucia', 'Constitutional Monarchy', 'Castries', 60.9832, 14.0)\n",
      "('VCT', 'Saint Vincent and the Grenadines', 'N or th America', 'Caribbean', 388, 1979, 'Saint Vincent and the Grenadines', 'Constitutional Monarchy', 'Kingstown', 61.2653, 13.2035)\n",
      "('DEU', 'Germany', 'Europe', 'Western Europe', 357022, 1955, 'Deutschland', 'Federal Republic', 'Berlin', 13.4115, 52.5235)\n",
      "('SLB', 'Solomon Islands', 'Oceania', 'Melanesia', 28896, 1978, 'Solomon Islands', 'Constitutional Monarchy', 'Honiara', 159.949, 9.42676)\n",
      "('ZMB', 'Zambia', 'Africa', 'Eastern Africa', 752618, 1964, 'Zambia', 'Republic', 'Lusaka', 28.2937, 15.3982)\n",
      "('WSM', 'Samoa', 'Oceania', 'Polynesia', 2831, 1962, 'Samoa', 'Parlementary Monarchy', 'Apia', 171.752, 13.8314)\n",
      "('SMR', 'San Marino', 'Europe', 'Southern Europe', 61, 885, 'San Marino', 'Republic', 'San Marino', 12.4486, 43.9322)\n",
      "('STP', 'Sao Tome and Principe', 'Africa', 'Central Africa', 964, 1975, 'Sao Tome e Principe', 'Republic', 'Sao Tome', 6.6071, 0.20618)\n",
      "('SAU', 'Saudi Arabia', 'Asia', 'Middle East', 2149690, 1932, 'Al Arabiya as Saudiya', 'Monarchy', 'Riyadh', 46.6977, 24.6748)\n",
      "('SEN', 'Senegal', 'Africa', 'Western Africa', 196722, 1960, 'Senegal or Sounougal', 'Republic', 'Dakar', 17.4734, 14.7247)\n",
      "('SYC', 'Seychelles', 'Africa', 'Eastern Africa', 455, 1976, 'Sesel or Seychelles', 'Republic', 'Vict or ia', 55.4466, 4.6309)\n",
      "('SLE', 'Sierra Leone', 'Africa', 'Western Africa', 71740, 1961, 'Sierra Leone', 'Republic', 'Freetown', 13.2134, 8.4821)\n",
      "('SGP', 'Singap or e', 'Asia', 'Southeast Asia', 618, 1965, 'Singap or e or Singapura or Xinjiapo or Singapur', 'Republic', 'Singap or e', 103.85, 1.28941)\n",
      "('SVK', 'Slovakia', 'Europe', 'Eastern Europe', 49012, 1993, 'Slovensko', 'Republic', 'Bratislava', 17.1073, 48.1484)\n",
      "('SVN', 'Slovenia', 'Europe', 'Southern Europe', 20256, 1991, 'Slovenija', 'Republic', 'Ljubljana', 14.5044, 46.0546)\n",
      "('SOM', 'Somalia', 'Africa', 'Eastern Africa', 637657, 1960, 'Soomaaliya', 'Republic', 'Mogadishu', 45.3254, 2.07515)\n",
      "('LKA', 'Sri Lanka', 'Asia', 'Southern and Central Asia', 65610, 1948, 'Sri Lanka or Ilankai', 'Republic', 'Colombo', 79.8528, 6.92148)\n",
      "('SDN', 'Sudan', 'Africa', 'N or thern Africa', 2505810, 1956, 'AsSudan', 'Islamic Republic', 'Khartoum', 32.5363, 15.5932)\n",
      "('FIN', 'Finland', 'Europe', 'N or dic Countries', 338145, 1917, 'Suomi', 'Republic', 'Helsinki', 24.9525, 60.1608)\n",
      "('SUR', 'Suriname', 'South America', 'South America', 163265, 1975, 'Suriname', 'Republic', 'Paramaribo', 55.1679, 5.8232)\n",
      "('SWZ', 'Swaziland', 'Africa', 'Southern Africa', 17364, 1968, 'kaNgwane', 'Monarchy', 'Mbabane', 31.4659, 26.5225)\n",
      "('CHE', 'Switzerland', 'Europe', 'Western Europe', 41284, 1499, 'Schweiz or Suisse or Svizzera or Svizra', 'Federation', 'Bern', 7.44821, 46.948)\n",
      "('SYR', 'Syria', 'Asia', 'Middle East', 185180, 1941, 'Suriya', 'Republic', 'Damascus', 36.3119, 33.5146)\n",
      "('TJK', 'Tajikistan', 'Asia', 'Southern and Central Asia', 143100, 1991, 'Tocikiston', 'Republic', 'Dushanbe', 68.7864, 38.5878)\n",
      "('TZA', 'Tanzania', 'Africa', 'Eastern Africa', 883749, 1961, 'Tanzania', 'Republic', 'Dodoma', 35.7382, 6.17486)\n",
      "('DNK', 'Denmark', 'Europe', 'N or dic Countries', 43094, 800, 'Danmark', 'Constitutional Monarchy', 'Copenhagen', 12.5681, 55.6763)\n",
      "('THA', 'Thailand', 'Asia', 'Southeast Asia', 513115, 1350, 'Prathet Thai', 'Constitutional Monarchy', 'Bangkok', 100.521, 13.7308)\n",
      "('TGO', 'Togo', 'Africa', 'Western Africa', 56785, 1960, 'Togo', 'Republic', 'Lome', 1.2255, 6.1228)\n",
      "('TON', 'Tonga', 'Oceania', 'Polynesia', 650, 1970, 'Tonga', 'Monarchy', \"Nuku'alofa\", 175.216, 21.136)\n",
      "('TTO', 'Trinidad and Tobago', 'N or th America', 'Caribbean', 5130, 1962, 'Trinidad and Tobago', 'Republic', 'P or tofSpain', 61.4789, 10.6596)\n",
      "('TCD', 'Chad', 'Africa', 'Central Africa', 1284000, 1960, 'Tchad or Tshad', 'Republic', \"N'Djamena\", 15.0445, 12.1048)\n",
      "('CZE', 'Czech Republic', 'Europe', 'Eastern Europe', 78866, 1993, 'lesko', 'Republic', 'Prague', 14.4205, 50.0878)\n",
      "('TUN', 'Tunisia', 'Africa', 'N or thern Africa', 163610, 1956, 'Tunis or Tunisie', 'Republic', 'Tunis', 10.21, 36.7899)\n",
      "('TUR', 'Turkey', 'Asia', 'Middle East', 774815, 1923, 'Turkiye', 'Republic', 'Ankara', 32.3606, 39.7153)\n",
      "('TKM', 'Turkmenistan', 'Asia', 'Southern and Central Asia', 488100, 1991, 'Turkmenostan', 'Republic', 'Ashgabat', 58.3794, 37.9509)\n",
      "('TCA', 'Turks and Caicos Islands', 'N or th America', 'Caribbean', 430, 0, 'The Turks and Caicos Islands', 'Dependent Territ or y of the UK', 'Grand Turk', 71.141389, 21.4602778)\n",
      "('TUV', 'Tuvalu', 'Oceania', 'Polynesia', 26, 1978, 'Tuvalu', 'Constitutional Monarchy', 'Funafuti', 179.089567, 8.6314877)\n",
      "('UGA', 'Uganda', 'Africa', 'Eastern Africa', 241038, 1962, 'Uganda', 'Republic', 'Kampala', 32.5729, 0.314269)\n",
      "('UKR', 'Ukraine', 'Europe', 'Eastern Europe', 603700, 1991, 'Ukrajina', 'Republic', 'Kiev', 30.5038, 50.4536)\n",
      "('HUN', 'Hungary', 'Europe', 'Eastern Europe', 93030, 1918, 'Magyar or szag', 'Republic', 'Budapest', 19.0408, 47.4984)\n",
      "('URY', 'Uruguay', 'South America', 'South America', 175016, 1828, 'Uruguay', 'Republic', 'Montevideo', 56.0675, 34.8941)\n",
      "('NCL', 'New Caledonia', 'Oceania', 'Melanesia', 18575, 0, 'NouvelleCaledonie', 'Nonmetropolitan Territ or y of France', \"Noum'ea\", 166.464, 22.2677)\n",
      "('NZL', 'New Zealand', 'Oceania', 'Australia and New Zealand', 270534, 1907, 'New Zealand or Aotearoa', 'Constitutional Monarchy', 'Wellington', 174.776, 41.2865)\n",
      "('UZB', 'Uzbekistan', 'Asia', 'Southern and Central Asia', 447400, 1991, 'Uzbekiston', 'Republic', 'Tashkent', 69.269, 41.3052)\n",
      "('BLR', 'Belarus', 'Europe', 'Eastern Europe', 207600, 1991, 'Belarus', 'Republic', 'Minsk', 27.5766, 53.9678)\n",
      "('VUT', 'Vanuatu', 'Oceania', 'Melanesia', 12189, 1980, 'Vanuatu', 'Republic', 'P or tVila', 168.321, 17.7404)\n",
      "('VEN', 'Venezuela', 'South America', 'South America', 912050, 1811, 'Venezuela', 'Federal Republic', 'Caracas', 69.8371, 9.08165)\n",
      "('RUS', 'Russian Federation', 'Europe', 'Eastern Europe', 17075400, 1991, 'Rossija', 'Federal Republic', 'Moscow', 37.6176, 55.7558)\n",
      "('VNM', 'Vietnam', 'Asia', 'Southeast Asia', 331689, 1945, 'Viet Nam', 'Socialistic Republic', 'Hanoi', 105.825, 21.0069)\n",
      "('EST', 'Estonia', 'Europe', 'Baltic Countries', 45227, 1991, 'Eesti', 'Republic', 'Tallinn', 24.7586, 59.4392)\n",
      "('USA', 'United States', 'N or th America', 'N or th America', 9363520, 1776, 'United States', 'Federal Republic', 'Washington D.C.', 77.032, 38.8895)\n",
      "('VIR', 'Virgin Islands U.S.', 'N or th America', 'Caribbean', 347, 0, 'Virgin Islands of the United States', 'US Territ or y', 'Charlotte Amalie', 64.8963, 18.3358)\n",
      "('ZWE', 'Zimbabwe', 'Africa', 'Eastern Africa', 390757, 1980, 'Zimbabwe', 'Republic', 'Harare', 31.0672, 17.8312)\n",
      "('PSE', 'Palestine', 'Asia', 'Middle East', 6257, 0, 'Filastin', 'Autonomous Area', 'NA', 0.0, 0.0)\n",
      "All records have been printed\n"
     ]
    }
   ],
   "source": [
    "# printing all records in 'nation' table\n",
    "cur = con.cursor()\n",
    "nation = \"SELECT * From nation\"\n",
    "cur.execute(nation)\n",
    "result = cur.fetchall()\n",
    "for rec in result:\n",
    "    print(rec)\n",
    "print(\"All records have been printed\")"
   ]
  },
  {
   "cell_type": "code",
   "execution_count": 95,
   "id": "0a7435f8",
   "metadata": {},
   "outputs": [],
   "source": [
    "df_nation = pd.read_sql_query(\"SELECT * From nation\", con)\n",
    "df_cities = pd.read_sql_query(\"SELECT * From cities\", con)\n",
    "df_lang = pd.read_sql_query(\"SELECT * From lingo\", con)\n",
    "df_economy = pd.read_sql_query(\"SELECT * From economy\", con)\n",
    "df_customer = pd.read_sql_query(\"SELECT * From customer\", con)\n",
    "df_currency = pd.read_sql_query(\"SELECT * From currency\", con)\n",
    "df_sfeed = pd.read_sql_query(\"SELECT * From feedback\", con)\n",
    "df_population = pd.read_sql_query(\"SELECT * From population\", con)\n",
    "df_economy2019 = pd.read_sql_query(\"SELECT * From economy_2019\", con)\n",
    "df_economy2015 = pd.read_sql_query(\"SELECT * From economy_2015\", con)\n",
    "df_monarch = pd.read_sql_query(\"SELECT * From monarch\", con)\n",
    "df_states = pd.read_sql_query(\"SELECT * From states\", con)\n",
    "df_pm = pd.read_sql_query(\"SELECT * From prime_ministers\", con)\n",
    "df_president = pd.read_sql_query(\"SELECT * From president\", con)"
   ]
  },
  {
   "cell_type": "code",
   "execution_count": 96,
   "id": "e0957ff0",
   "metadata": {},
   "outputs": [
    {
     "data": {
      "text/html": [
       "<div>\n",
       "<style scoped>\n",
       "    .dataframe tbody tr th:only-of-type {\n",
       "        vertical-align: middle;\n",
       "    }\n",
       "\n",
       "    .dataframe tbody tr th {\n",
       "        vertical-align: top;\n",
       "    }\n",
       "\n",
       "    .dataframe thead th {\n",
       "        text-align: right;\n",
       "    }\n",
       "</style>\n",
       "<table border=\"1\" class=\"dataframe\">\n",
       "  <thead>\n",
       "    <tr style=\"text-align: right;\">\n",
       "      <th></th>\n",
       "      <th>code</th>\n",
       "      <th>country_name</th>\n",
       "      <th>continent</th>\n",
       "      <th>region</th>\n",
       "      <th>surface_area</th>\n",
       "      <th>indep_year</th>\n",
       "      <th>local_name</th>\n",
       "      <th>gov_form</th>\n",
       "      <th>capital</th>\n",
       "      <th>cap_long</th>\n",
       "      <th>cap_lat</th>\n",
       "    </tr>\n",
       "  </thead>\n",
       "  <tbody>\n",
       "    <tr>\n",
       "      <th>0</th>\n",
       "      <td>AFG</td>\n",
       "      <td>Afghanistan</td>\n",
       "      <td>Asia</td>\n",
       "      <td>Southern and Central Asia</td>\n",
       "      <td>652090</td>\n",
       "      <td>1919</td>\n",
       "      <td>Afganistan and Afqanestan</td>\n",
       "      <td>Islamic Emirate</td>\n",
       "      <td>Kabul</td>\n",
       "      <td>69.17610</td>\n",
       "      <td>34.5228</td>\n",
       "    </tr>\n",
       "    <tr>\n",
       "      <th>1</th>\n",
       "      <td>NLD</td>\n",
       "      <td>Netherlands</td>\n",
       "      <td>Europe</td>\n",
       "      <td>Western Europe</td>\n",
       "      <td>41526</td>\n",
       "      <td>1581</td>\n",
       "      <td>Nederland</td>\n",
       "      <td>Constitutional Monarchy</td>\n",
       "      <td>Amsterdam</td>\n",
       "      <td>4.89095</td>\n",
       "      <td>52.3738</td>\n",
       "    </tr>\n",
       "    <tr>\n",
       "      <th>2</th>\n",
       "      <td>ALB</td>\n",
       "      <td>Albania</td>\n",
       "      <td>Europe</td>\n",
       "      <td>Southern Europe</td>\n",
       "      <td>28748</td>\n",
       "      <td>1912</td>\n",
       "      <td>Shqiperia</td>\n",
       "      <td>Republic</td>\n",
       "      <td>Tirane</td>\n",
       "      <td>19.81720</td>\n",
       "      <td>41.3317</td>\n",
       "    </tr>\n",
       "    <tr>\n",
       "      <th>3</th>\n",
       "      <td>DZA</td>\n",
       "      <td>Algeria</td>\n",
       "      <td>Africa</td>\n",
       "      <td>N or thern Africa</td>\n",
       "      <td>2381740</td>\n",
       "      <td>1962</td>\n",
       "      <td>Al Jaza or   or  Algerie</td>\n",
       "      <td>Republic</td>\n",
       "      <td>Algiers</td>\n",
       "      <td>3.05097</td>\n",
       "      <td>36.7397</td>\n",
       "    </tr>\n",
       "    <tr>\n",
       "      <th>4</th>\n",
       "      <td>ASM</td>\n",
       "      <td>American Samoa</td>\n",
       "      <td>Oceania</td>\n",
       "      <td>Polynesia</td>\n",
       "      <td>199</td>\n",
       "      <td>0</td>\n",
       "      <td>Amerika Samoa</td>\n",
       "      <td>US Territ or y</td>\n",
       "      <td>Pago Pago</td>\n",
       "      <td>170.69100</td>\n",
       "      <td>14.2846</td>\n",
       "    </tr>\n",
       "  </tbody>\n",
       "</table>\n",
       "</div>"
      ],
      "text/plain": [
       "  code    country_name continent                     region  surface_area  \\\n",
       "0  AFG     Afghanistan      Asia  Southern and Central Asia        652090   \n",
       "1  NLD     Netherlands    Europe             Western Europe         41526   \n",
       "2  ALB         Albania    Europe            Southern Europe         28748   \n",
       "3  DZA         Algeria    Africa          N or thern Africa       2381740   \n",
       "4  ASM  American Samoa   Oceania                  Polynesia           199   \n",
       "\n",
       "   indep_year                 local_name                 gov_form    capital  \\\n",
       "0        1919  Afganistan and Afqanestan          Islamic Emirate      Kabul   \n",
       "1        1581                  Nederland  Constitutional Monarchy  Amsterdam   \n",
       "2        1912                  Shqiperia                 Republic     Tirane   \n",
       "3        1962   Al Jaza or   or  Algerie                 Republic    Algiers   \n",
       "4           0              Amerika Samoa           US Territ or y  Pago Pago   \n",
       "\n",
       "    cap_long  cap_lat  \n",
       "0   69.17610  34.5228  \n",
       "1    4.89095  52.3738  \n",
       "2   19.81720  41.3317  \n",
       "3    3.05097  36.7397  \n",
       "4  170.69100  14.2846  "
      ]
     },
     "execution_count": 96,
     "metadata": {},
     "output_type": "execute_result"
    }
   ],
   "source": [
    "# displaying the 'nation' table in dataframe format\n",
    "df_nation.head()"
   ]
  },
  {
   "cell_type": "code",
   "execution_count": 97,
   "id": "b4adb1b1",
   "metadata": {},
   "outputs": [
    {
     "data": {
      "text/html": [
       "<div>\n",
       "<style scoped>\n",
       "    .dataframe tbody tr th:only-of-type {\n",
       "        vertical-align: middle;\n",
       "    }\n",
       "\n",
       "    .dataframe tbody tr th {\n",
       "        vertical-align: top;\n",
       "    }\n",
       "\n",
       "    .dataframe thead th {\n",
       "        text-align: right;\n",
       "    }\n",
       "</style>\n",
       "<table border=\"1\" class=\"dataframe\">\n",
       "  <thead>\n",
       "    <tr style=\"text-align: right;\">\n",
       "      <th></th>\n",
       "      <th>econ_id</th>\n",
       "      <th>code</th>\n",
       "      <th>year</th>\n",
       "      <th>income_group</th>\n",
       "      <th>gdp_percapita</th>\n",
       "      <th>gross_savings</th>\n",
       "      <th>inflation_rate</th>\n",
       "      <th>total_investment</th>\n",
       "      <th>unemployment_rate</th>\n",
       "      <th>exports</th>\n",
       "      <th>imports</th>\n",
       "    </tr>\n",
       "  </thead>\n",
       "  <tbody>\n",
       "    <tr>\n",
       "      <th>0</th>\n",
       "      <td>1</td>\n",
       "      <td>AFG</td>\n",
       "      <td>2010</td>\n",
       "      <td>Low income</td>\n",
       "      <td>539.667</td>\n",
       "      <td>37.133</td>\n",
       "      <td>2.179</td>\n",
       "      <td>30.402</td>\n",
       "      <td>0</td>\n",
       "      <td>46.394</td>\n",
       "      <td>24.381</td>\n",
       "    </tr>\n",
       "    <tr>\n",
       "      <th>1</th>\n",
       "      <td>2</td>\n",
       "      <td>AFG</td>\n",
       "      <td>2015</td>\n",
       "      <td>Low income</td>\n",
       "      <td>615.091</td>\n",
       "      <td>21.466</td>\n",
       "      <td>-1.549</td>\n",
       "      <td>18.602</td>\n",
       "      <td>0</td>\n",
       "      <td>-49.110</td>\n",
       "      <td>-7.294</td>\n",
       "    </tr>\n",
       "    <tr>\n",
       "      <th>2</th>\n",
       "      <td>3</td>\n",
       "      <td>AGO</td>\n",
       "      <td>2010</td>\n",
       "      <td>Upper middle income</td>\n",
       "      <td>3599.270</td>\n",
       "      <td>23.534</td>\n",
       "      <td>14.480</td>\n",
       "      <td>14.433</td>\n",
       "      <td>0</td>\n",
       "      <td>-3.266</td>\n",
       "      <td>-21.076</td>\n",
       "    </tr>\n",
       "    <tr>\n",
       "      <th>3</th>\n",
       "      <td>4</td>\n",
       "      <td>AGO</td>\n",
       "      <td>2015</td>\n",
       "      <td>Upper middle income</td>\n",
       "      <td>3876.200</td>\n",
       "      <td>-0.425</td>\n",
       "      <td>10.287</td>\n",
       "      <td>9.552</td>\n",
       "      <td>0</td>\n",
       "      <td>6.721</td>\n",
       "      <td>-21.778</td>\n",
       "    </tr>\n",
       "    <tr>\n",
       "      <th>4</th>\n",
       "      <td>5</td>\n",
       "      <td>ALB</td>\n",
       "      <td>2010</td>\n",
       "      <td>Upper middle income</td>\n",
       "      <td>4098.130</td>\n",
       "      <td>20.011</td>\n",
       "      <td>3.605</td>\n",
       "      <td>31.305</td>\n",
       "      <td>14</td>\n",
       "      <td>10.645</td>\n",
       "      <td>-8.013</td>\n",
       "    </tr>\n",
       "  </tbody>\n",
       "</table>\n",
       "</div>"
      ],
      "text/plain": [
       "   econ_id code  year         income_group  gdp_percapita  gross_savings  \\\n",
       "0        1  AFG  2010           Low income        539.667         37.133   \n",
       "1        2  AFG  2015           Low income        615.091         21.466   \n",
       "2        3  AGO  2010  Upper middle income       3599.270         23.534   \n",
       "3        4  AGO  2015  Upper middle income       3876.200         -0.425   \n",
       "4        5  ALB  2010  Upper middle income       4098.130         20.011   \n",
       "\n",
       "   inflation_rate  total_investment  unemployment_rate  exports  imports  \n",
       "0           2.179            30.402                  0   46.394   24.381  \n",
       "1          -1.549            18.602                  0  -49.110   -7.294  \n",
       "2          14.480            14.433                  0   -3.266  -21.076  \n",
       "3          10.287             9.552                  0    6.721  -21.778  \n",
       "4           3.605            31.305                 14   10.645   -8.013  "
      ]
     },
     "execution_count": 97,
     "metadata": {},
     "output_type": "execute_result"
    }
   ],
   "source": [
    "# displaying the 'economy' table in dataframe format\n",
    "df_economy.head()"
   ]
  },
  {
   "cell_type": "code",
   "execution_count": 98,
   "id": "53718855",
   "metadata": {},
   "outputs": [
    {
     "data": {
      "text/html": [
       "<div>\n",
       "<style scoped>\n",
       "    .dataframe tbody tr th:only-of-type {\n",
       "        vertical-align: middle;\n",
       "    }\n",
       "\n",
       "    .dataframe tbody tr th {\n",
       "        vertical-align: top;\n",
       "    }\n",
       "\n",
       "    .dataframe thead th {\n",
       "        text-align: right;\n",
       "    }\n",
       "</style>\n",
       "<table border=\"1\" class=\"dataframe\">\n",
       "  <thead>\n",
       "    <tr style=\"text-align: right;\">\n",
       "      <th></th>\n",
       "      <th>code</th>\n",
       "      <th>country_name</th>\n",
       "      <th>continent</th>\n",
       "      <th>region</th>\n",
       "      <th>surface_area</th>\n",
       "      <th>indep_year</th>\n",
       "      <th>local_name</th>\n",
       "      <th>gov_form</th>\n",
       "      <th>capital</th>\n",
       "      <th>cap_long</th>\n",
       "      <th>...</th>\n",
       "      <th>econ_id</th>\n",
       "      <th>year</th>\n",
       "      <th>income_group</th>\n",
       "      <th>gdp_percapita</th>\n",
       "      <th>gross_savings</th>\n",
       "      <th>inflation_rate</th>\n",
       "      <th>total_investment</th>\n",
       "      <th>unemployment_rate</th>\n",
       "      <th>exports</th>\n",
       "      <th>imports</th>\n",
       "    </tr>\n",
       "  </thead>\n",
       "  <tbody>\n",
       "    <tr>\n",
       "      <th>0</th>\n",
       "      <td>AFG</td>\n",
       "      <td>Afghanistan</td>\n",
       "      <td>Asia</td>\n",
       "      <td>Southern and Central Asia</td>\n",
       "      <td>652090</td>\n",
       "      <td>1919</td>\n",
       "      <td>Afganistan and Afqanestan</td>\n",
       "      <td>Islamic Emirate</td>\n",
       "      <td>Kabul</td>\n",
       "      <td>69.17610</td>\n",
       "      <td>...</td>\n",
       "      <td>1</td>\n",
       "      <td>2010</td>\n",
       "      <td>Low income</td>\n",
       "      <td>539.667</td>\n",
       "      <td>37.133</td>\n",
       "      <td>2.179</td>\n",
       "      <td>30.402</td>\n",
       "      <td>0</td>\n",
       "      <td>46.394</td>\n",
       "      <td>24.381</td>\n",
       "    </tr>\n",
       "    <tr>\n",
       "      <th>1</th>\n",
       "      <td>AFG</td>\n",
       "      <td>Afghanistan</td>\n",
       "      <td>Asia</td>\n",
       "      <td>Southern and Central Asia</td>\n",
       "      <td>652090</td>\n",
       "      <td>1919</td>\n",
       "      <td>Afganistan and Afqanestan</td>\n",
       "      <td>Islamic Emirate</td>\n",
       "      <td>Kabul</td>\n",
       "      <td>69.17610</td>\n",
       "      <td>...</td>\n",
       "      <td>2</td>\n",
       "      <td>2015</td>\n",
       "      <td>Low income</td>\n",
       "      <td>615.091</td>\n",
       "      <td>21.466</td>\n",
       "      <td>-1.549</td>\n",
       "      <td>18.602</td>\n",
       "      <td>0</td>\n",
       "      <td>-49.110</td>\n",
       "      <td>-7.294</td>\n",
       "    </tr>\n",
       "    <tr>\n",
       "      <th>2</th>\n",
       "      <td>NLD</td>\n",
       "      <td>Netherlands</td>\n",
       "      <td>Europe</td>\n",
       "      <td>Western Europe</td>\n",
       "      <td>41526</td>\n",
       "      <td>1581</td>\n",
       "      <td>Nederland</td>\n",
       "      <td>Constitutional Monarchy</td>\n",
       "      <td>Amsterdam</td>\n",
       "      <td>4.89095</td>\n",
       "      <td>...</td>\n",
       "      <td>253</td>\n",
       "      <td>2010</td>\n",
       "      <td>High income</td>\n",
       "      <td>50433.310</td>\n",
       "      <td>27.798</td>\n",
       "      <td>0.932</td>\n",
       "      <td>20.420</td>\n",
       "      <td>5</td>\n",
       "      <td>9.029</td>\n",
       "      <td>7.918</td>\n",
       "    </tr>\n",
       "    <tr>\n",
       "      <th>3</th>\n",
       "      <td>NLD</td>\n",
       "      <td>Netherlands</td>\n",
       "      <td>Europe</td>\n",
       "      <td>Western Europe</td>\n",
       "      <td>41526</td>\n",
       "      <td>1581</td>\n",
       "      <td>Nederland</td>\n",
       "      <td>Constitutional Monarchy</td>\n",
       "      <td>Amsterdam</td>\n",
       "      <td>4.89095</td>\n",
       "      <td>...</td>\n",
       "      <td>254</td>\n",
       "      <td>2015</td>\n",
       "      <td>High income</td>\n",
       "      <td>44322.830</td>\n",
       "      <td>27.854</td>\n",
       "      <td>0.220</td>\n",
       "      <td>19.272</td>\n",
       "      <td>7</td>\n",
       "      <td>4.957</td>\n",
       "      <td>5.749</td>\n",
       "    </tr>\n",
       "    <tr>\n",
       "      <th>4</th>\n",
       "      <td>ALB</td>\n",
       "      <td>Albania</td>\n",
       "      <td>Europe</td>\n",
       "      <td>Southern Europe</td>\n",
       "      <td>28748</td>\n",
       "      <td>1912</td>\n",
       "      <td>Shqiperia</td>\n",
       "      <td>Republic</td>\n",
       "      <td>Tirane</td>\n",
       "      <td>19.81720</td>\n",
       "      <td>...</td>\n",
       "      <td>5</td>\n",
       "      <td>2010</td>\n",
       "      <td>Upper middle income</td>\n",
       "      <td>4098.130</td>\n",
       "      <td>20.011</td>\n",
       "      <td>3.605</td>\n",
       "      <td>31.305</td>\n",
       "      <td>14</td>\n",
       "      <td>10.645</td>\n",
       "      <td>-8.013</td>\n",
       "    </tr>\n",
       "  </tbody>\n",
       "</table>\n",
       "<p>5 rows × 21 columns</p>\n",
       "</div>"
      ],
      "text/plain": [
       "  code country_name continent                     region  surface_area  \\\n",
       "0  AFG  Afghanistan      Asia  Southern and Central Asia        652090   \n",
       "1  AFG  Afghanistan      Asia  Southern and Central Asia        652090   \n",
       "2  NLD  Netherlands    Europe             Western Europe         41526   \n",
       "3  NLD  Netherlands    Europe             Western Europe         41526   \n",
       "4  ALB      Albania    Europe            Southern Europe         28748   \n",
       "\n",
       "   indep_year                 local_name                 gov_form    capital  \\\n",
       "0        1919  Afganistan and Afqanestan          Islamic Emirate      Kabul   \n",
       "1        1919  Afganistan and Afqanestan          Islamic Emirate      Kabul   \n",
       "2        1581                  Nederland  Constitutional Monarchy  Amsterdam   \n",
       "3        1581                  Nederland  Constitutional Monarchy  Amsterdam   \n",
       "4        1912                  Shqiperia                 Republic     Tirane   \n",
       "\n",
       "   cap_long  ...  econ_id  year         income_group gdp_percapita  \\\n",
       "0  69.17610  ...        1  2010           Low income       539.667   \n",
       "1  69.17610  ...        2  2015           Low income       615.091   \n",
       "2   4.89095  ...      253  2010          High income     50433.310   \n",
       "3   4.89095  ...      254  2015          High income     44322.830   \n",
       "4  19.81720  ...        5  2010  Upper middle income      4098.130   \n",
       "\n",
       "   gross_savings  inflation_rate  total_investment  unemployment_rate  \\\n",
       "0         37.133           2.179            30.402                  0   \n",
       "1         21.466          -1.549            18.602                  0   \n",
       "2         27.798           0.932            20.420                  5   \n",
       "3         27.854           0.220            19.272                  7   \n",
       "4         20.011           3.605            31.305                 14   \n",
       "\n",
       "   exports  imports  \n",
       "0   46.394   24.381  \n",
       "1  -49.110   -7.294  \n",
       "2    9.029    7.918  \n",
       "3    4.957    5.749  \n",
       "4   10.645   -8.013  \n",
       "\n",
       "[5 rows x 21 columns]"
      ]
     },
     "execution_count": 98,
     "metadata": {},
     "output_type": "execute_result"
    }
   ],
   "source": [
    "# inner joining 'nation' & 'economy' ON 'code' \n",
    "df_nation_economy = pd.merge(df_nation, df_economy, how ='inner', on ='code')\n",
    "df_nation_economy.head()"
   ]
  },
  {
   "cell_type": "code",
   "execution_count": 99,
   "id": "81b506fd",
   "metadata": {},
   "outputs": [
    {
     "name": "stdout",
     "output_type": "stream",
     "text": [
      "Shape:  (362, 21)\n"
     ]
    }
   ],
   "source": [
    "print(\"Shape: \", df_nation_economy.shape)"
   ]
  },
  {
   "cell_type": "code",
   "execution_count": 100,
   "id": "f736cc67",
   "metadata": {},
   "outputs": [
    {
     "data": {
      "text/plain": [
       "code                 0\n",
       "country_name         0\n",
       "continent            0\n",
       "region               0\n",
       "surface_area         0\n",
       "indep_year           0\n",
       "local_name           0\n",
       "gov_form             0\n",
       "capital              0\n",
       "cap_long             0\n",
       "cap_lat              0\n",
       "econ_id              0\n",
       "year                 0\n",
       "income_group         0\n",
       "gdp_percapita        0\n",
       "gross_savings        0\n",
       "inflation_rate       0\n",
       "total_investment     0\n",
       "unemployment_rate    0\n",
       "exports              0\n",
       "imports              0\n",
       "dtype: int64"
      ]
     },
     "execution_count": 100,
     "metadata": {},
     "output_type": "execute_result"
    }
   ],
   "source": [
    "# checking null values in each column\n",
    "df_nation_economy.isnull().sum()"
   ]
  },
  {
   "cell_type": "code",
   "execution_count": 101,
   "id": "96779fc5",
   "metadata": {},
   "outputs": [
    {
     "data": {
      "text/html": [
       "<div>\n",
       "<style scoped>\n",
       "    .dataframe tbody tr th:only-of-type {\n",
       "        vertical-align: middle;\n",
       "    }\n",
       "\n",
       "    .dataframe tbody tr th {\n",
       "        vertical-align: top;\n",
       "    }\n",
       "\n",
       "    .dataframe thead th {\n",
       "        text-align: right;\n",
       "    }\n",
       "</style>\n",
       "<table border=\"1\" class=\"dataframe\">\n",
       "  <thead>\n",
       "    <tr style=\"text-align: right;\">\n",
       "      <th></th>\n",
       "      <th>code</th>\n",
       "      <th>country_name</th>\n",
       "      <th>continent</th>\n",
       "      <th>region</th>\n",
       "      <th>surface_area</th>\n",
       "      <th>indep_year</th>\n",
       "      <th>local_name</th>\n",
       "      <th>gov_form</th>\n",
       "      <th>capital</th>\n",
       "      <th>cap_long</th>\n",
       "      <th>...</th>\n",
       "      <th>econ_id</th>\n",
       "      <th>year</th>\n",
       "      <th>income_group</th>\n",
       "      <th>gdp_percapita</th>\n",
       "      <th>gross_savings</th>\n",
       "      <th>inflation_rate</th>\n",
       "      <th>total_investment</th>\n",
       "      <th>unemployment_rate</th>\n",
       "      <th>exports</th>\n",
       "      <th>imports</th>\n",
       "    </tr>\n",
       "  </thead>\n",
       "  <tbody>\n",
       "    <tr>\n",
       "      <th>1</th>\n",
       "      <td>AFG</td>\n",
       "      <td>Afghanistan</td>\n",
       "      <td>Asia</td>\n",
       "      <td>Southern and Central Asia</td>\n",
       "      <td>652090</td>\n",
       "      <td>1919</td>\n",
       "      <td>Afganistan and Afqanestan</td>\n",
       "      <td>Islamic Emirate</td>\n",
       "      <td>Kabul</td>\n",
       "      <td>69.17610</td>\n",
       "      <td>...</td>\n",
       "      <td>2</td>\n",
       "      <td>2015</td>\n",
       "      <td>Low income</td>\n",
       "      <td>615.091</td>\n",
       "      <td>21.466</td>\n",
       "      <td>-1.549</td>\n",
       "      <td>18.602</td>\n",
       "      <td>0</td>\n",
       "      <td>-49.110</td>\n",
       "      <td>-7.294</td>\n",
       "    </tr>\n",
       "    <tr>\n",
       "      <th>3</th>\n",
       "      <td>NLD</td>\n",
       "      <td>Netherlands</td>\n",
       "      <td>Europe</td>\n",
       "      <td>Western Europe</td>\n",
       "      <td>41526</td>\n",
       "      <td>1581</td>\n",
       "      <td>Nederland</td>\n",
       "      <td>Constitutional Monarchy</td>\n",
       "      <td>Amsterdam</td>\n",
       "      <td>4.89095</td>\n",
       "      <td>...</td>\n",
       "      <td>254</td>\n",
       "      <td>2015</td>\n",
       "      <td>High income</td>\n",
       "      <td>44322.830</td>\n",
       "      <td>27.854</td>\n",
       "      <td>0.220</td>\n",
       "      <td>19.272</td>\n",
       "      <td>7</td>\n",
       "      <td>4.957</td>\n",
       "      <td>5.749</td>\n",
       "    </tr>\n",
       "    <tr>\n",
       "      <th>5</th>\n",
       "      <td>ALB</td>\n",
       "      <td>Albania</td>\n",
       "      <td>Europe</td>\n",
       "      <td>Southern Europe</td>\n",
       "      <td>28748</td>\n",
       "      <td>1912</td>\n",
       "      <td>Shqiperia</td>\n",
       "      <td>Republic</td>\n",
       "      <td>Tirane</td>\n",
       "      <td>19.81720</td>\n",
       "      <td>...</td>\n",
       "      <td>6</td>\n",
       "      <td>2015</td>\n",
       "      <td>Upper middle income</td>\n",
       "      <td>3943.220</td>\n",
       "      <td>13.840</td>\n",
       "      <td>1.896</td>\n",
       "      <td>24.598</td>\n",
       "      <td>17</td>\n",
       "      <td>1.827</td>\n",
       "      <td>0.574</td>\n",
       "    </tr>\n",
       "    <tr>\n",
       "      <th>7</th>\n",
       "      <td>DZA</td>\n",
       "      <td>Algeria</td>\n",
       "      <td>Africa</td>\n",
       "      <td>N or thern Africa</td>\n",
       "      <td>2381740</td>\n",
       "      <td>1962</td>\n",
       "      <td>Al Jaza or   or  Algerie</td>\n",
       "      <td>Republic</td>\n",
       "      <td>Algiers</td>\n",
       "      <td>3.05097</td>\n",
       "      <td>...</td>\n",
       "      <td>96</td>\n",
       "      <td>2015</td>\n",
       "      <td>Upper middle income</td>\n",
       "      <td>4123.300</td>\n",
       "      <td>34.738</td>\n",
       "      <td>4.784</td>\n",
       "      <td>51.299</td>\n",
       "      <td>11</td>\n",
       "      <td>5.733</td>\n",
       "      <td>-7.507</td>\n",
       "    </tr>\n",
       "    <tr>\n",
       "      <th>9</th>\n",
       "      <td>AGO</td>\n",
       "      <td>Angola</td>\n",
       "      <td>Africa</td>\n",
       "      <td>Central Africa</td>\n",
       "      <td>1246700</td>\n",
       "      <td>1975</td>\n",
       "      <td>Angola</td>\n",
       "      <td>Republic</td>\n",
       "      <td>Luanda</td>\n",
       "      <td>13.24200</td>\n",
       "      <td>...</td>\n",
       "      <td>4</td>\n",
       "      <td>2015</td>\n",
       "      <td>Upper middle income</td>\n",
       "      <td>3876.200</td>\n",
       "      <td>-0.425</td>\n",
       "      <td>10.287</td>\n",
       "      <td>9.552</td>\n",
       "      <td>0</td>\n",
       "      <td>6.721</td>\n",
       "      <td>-21.778</td>\n",
       "    </tr>\n",
       "  </tbody>\n",
       "</table>\n",
       "<p>5 rows × 21 columns</p>\n",
       "</div>"
      ],
      "text/plain": [
       "  code country_name continent                     region  surface_area  \\\n",
       "1  AFG  Afghanistan      Asia  Southern and Central Asia        652090   \n",
       "3  NLD  Netherlands    Europe             Western Europe         41526   \n",
       "5  ALB      Albania    Europe            Southern Europe         28748   \n",
       "7  DZA      Algeria    Africa          N or thern Africa       2381740   \n",
       "9  AGO       Angola    Africa             Central Africa       1246700   \n",
       "\n",
       "   indep_year                 local_name                 gov_form    capital  \\\n",
       "1        1919  Afganistan and Afqanestan          Islamic Emirate      Kabul   \n",
       "3        1581                  Nederland  Constitutional Monarchy  Amsterdam   \n",
       "5        1912                  Shqiperia                 Republic     Tirane   \n",
       "7        1962   Al Jaza or   or  Algerie                 Republic    Algiers   \n",
       "9        1975                     Angola                 Republic     Luanda   \n",
       "\n",
       "   cap_long  ...  econ_id  year         income_group gdp_percapita  \\\n",
       "1  69.17610  ...        2  2015           Low income       615.091   \n",
       "3   4.89095  ...      254  2015          High income     44322.830   \n",
       "5  19.81720  ...        6  2015  Upper middle income      3943.220   \n",
       "7   3.05097  ...       96  2015  Upper middle income      4123.300   \n",
       "9  13.24200  ...        4  2015  Upper middle income      3876.200   \n",
       "\n",
       "   gross_savings  inflation_rate  total_investment  unemployment_rate  \\\n",
       "1         21.466          -1.549            18.602                  0   \n",
       "3         27.854           0.220            19.272                  7   \n",
       "5         13.840           1.896            24.598                 17   \n",
       "7         34.738           4.784            51.299                 11   \n",
       "9         -0.425          10.287             9.552                  0   \n",
       "\n",
       "   exports  imports  \n",
       "1  -49.110   -7.294  \n",
       "3    4.957    5.749  \n",
       "5    1.827    0.574  \n",
       "7    5.733   -7.507  \n",
       "9    6.721  -21.778  \n",
       "\n",
       "[5 rows x 21 columns]"
      ]
     },
     "execution_count": 101,
     "metadata": {},
     "output_type": "execute_result"
    }
   ],
   "source": [
    "# removing the 2010 year data under new dataframe for further analysis\n",
    "df_nation_economy2015 = df_nation_economy \n",
    "df_nation_economy2015 = df_nation_economy2015[df_nation_economy2015.year != 2010]\n",
    "df_nation_economy2015.head()"
   ]
  },
  {
   "cell_type": "code",
   "execution_count": 102,
   "id": "a3cc59ff",
   "metadata": {},
   "outputs": [
    {
     "data": {
      "text/plain": [
       "(181, 21)"
      ]
     },
     "execution_count": 102,
     "metadata": {},
     "output_type": "execute_result"
    }
   ],
   "source": [
    "# taking selected columns for the analysis\n",
    "df_nation_economy2015.shape"
   ]
  },
  {
   "cell_type": "code",
   "execution_count": 103,
   "id": "568657b6",
   "metadata": {},
   "outputs": [
    {
     "data": {
      "text/html": [
       "<div>\n",
       "<style scoped>\n",
       "    .dataframe tbody tr th:only-of-type {\n",
       "        vertical-align: middle;\n",
       "    }\n",
       "\n",
       "    .dataframe tbody tr th {\n",
       "        vertical-align: top;\n",
       "    }\n",
       "\n",
       "    .dataframe thead th {\n",
       "        text-align: right;\n",
       "    }\n",
       "</style>\n",
       "<table border=\"1\" class=\"dataframe\">\n",
       "  <thead>\n",
       "    <tr style=\"text-align: right;\">\n",
       "      <th></th>\n",
       "      <th>region</th>\n",
       "      <th>exports</th>\n",
       "      <th>imports</th>\n",
       "    </tr>\n",
       "  </thead>\n",
       "  <tbody>\n",
       "    <tr>\n",
       "      <th>1</th>\n",
       "      <td>Southern and Central Asia</td>\n",
       "      <td>-49.110</td>\n",
       "      <td>-7.294</td>\n",
       "    </tr>\n",
       "    <tr>\n",
       "      <th>3</th>\n",
       "      <td>Western Europe</td>\n",
       "      <td>4.957</td>\n",
       "      <td>5.749</td>\n",
       "    </tr>\n",
       "    <tr>\n",
       "      <th>5</th>\n",
       "      <td>Southern Europe</td>\n",
       "      <td>1.827</td>\n",
       "      <td>0.574</td>\n",
       "    </tr>\n",
       "    <tr>\n",
       "      <th>7</th>\n",
       "      <td>N or thern Africa</td>\n",
       "      <td>5.733</td>\n",
       "      <td>-7.507</td>\n",
       "    </tr>\n",
       "    <tr>\n",
       "      <th>9</th>\n",
       "      <td>Central Africa</td>\n",
       "      <td>6.721</td>\n",
       "      <td>-21.778</td>\n",
       "    </tr>\n",
       "    <tr>\n",
       "      <th>...</th>\n",
       "      <td>...</td>\n",
       "      <td>...</td>\n",
       "      <td>...</td>\n",
       "    </tr>\n",
       "    <tr>\n",
       "      <th>353</th>\n",
       "      <td>Eastern Europe</td>\n",
       "      <td>-0.412</td>\n",
       "      <td>-25.036</td>\n",
       "    </tr>\n",
       "    <tr>\n",
       "      <th>355</th>\n",
       "      <td>Southeast Asia</td>\n",
       "      <td>9.796</td>\n",
       "      <td>15.617</td>\n",
       "    </tr>\n",
       "    <tr>\n",
       "      <th>357</th>\n",
       "      <td>Baltic Countries</td>\n",
       "      <td>-0.610</td>\n",
       "      <td>-1.404</td>\n",
       "    </tr>\n",
       "    <tr>\n",
       "      <th>359</th>\n",
       "      <td>N or th America</td>\n",
       "      <td>0.109</td>\n",
       "      <td>4.583</td>\n",
       "    </tr>\n",
       "    <tr>\n",
       "      <th>361</th>\n",
       "      <td>Eastern Africa</td>\n",
       "      <td>0.000</td>\n",
       "      <td>0.000</td>\n",
       "    </tr>\n",
       "  </tbody>\n",
       "</table>\n",
       "<p>181 rows × 3 columns</p>\n",
       "</div>"
      ],
      "text/plain": [
       "                        region  exports  imports\n",
       "1    Southern and Central Asia  -49.110   -7.294\n",
       "3               Western Europe    4.957    5.749\n",
       "5              Southern Europe    1.827    0.574\n",
       "7            N or thern Africa    5.733   -7.507\n",
       "9               Central Africa    6.721  -21.778\n",
       "..                         ...      ...      ...\n",
       "353             Eastern Europe   -0.412  -25.036\n",
       "355             Southeast Asia    9.796   15.617\n",
       "357           Baltic Countries   -0.610   -1.404\n",
       "359            N or th America    0.109    4.583\n",
       "361             Eastern Africa    0.000    0.000\n",
       "\n",
       "[181 rows x 3 columns]"
      ]
     },
     "execution_count": 103,
     "metadata": {},
     "output_type": "execute_result"
    }
   ],
   "source": [
    "# taking selected columns for the analysis\n",
    "reg = df_nation_economy2015[['region', 'exports', 'imports']]\n",
    "reg"
   ]
  },
  {
   "cell_type": "code",
   "execution_count": 104,
   "id": "01a8f2dd",
   "metadata": {},
   "outputs": [
    {
     "data": {
      "text/html": [
       "<div>\n",
       "<style scoped>\n",
       "    .dataframe tbody tr th:only-of-type {\n",
       "        vertical-align: middle;\n",
       "    }\n",
       "\n",
       "    .dataframe tbody tr th {\n",
       "        vertical-align: top;\n",
       "    }\n",
       "\n",
       "    .dataframe thead th {\n",
       "        text-align: right;\n",
       "    }\n",
       "</style>\n",
       "<table border=\"1\" class=\"dataframe\">\n",
       "  <thead>\n",
       "    <tr style=\"text-align: right;\">\n",
       "      <th></th>\n",
       "      <th>exports</th>\n",
       "      <th>imports</th>\n",
       "    </tr>\n",
       "    <tr>\n",
       "      <th>region</th>\n",
       "      <th></th>\n",
       "      <th></th>\n",
       "    </tr>\n",
       "  </thead>\n",
       "  <tbody>\n",
       "    <tr>\n",
       "      <th>Australia and New Zealand</th>\n",
       "      <td>12.967</td>\n",
       "      <td>5.691</td>\n",
       "    </tr>\n",
       "    <tr>\n",
       "      <th>Baltic Countries</th>\n",
       "      <td>1.590</td>\n",
       "      <td>6.866</td>\n",
       "    </tr>\n",
       "    <tr>\n",
       "      <th>British Islands</th>\n",
       "      <td>40.516</td>\n",
       "      <td>27.179</td>\n",
       "    </tr>\n",
       "    <tr>\n",
       "      <th>Caribbean</th>\n",
       "      <td>75.675</td>\n",
       "      <td>81.082</td>\n",
       "    </tr>\n",
       "    <tr>\n",
       "      <th>Central Africa</th>\n",
       "      <td>61.464</td>\n",
       "      <td>-28.192</td>\n",
       "    </tr>\n",
       "    <tr>\n",
       "      <th>Central America</th>\n",
       "      <td>21.776</td>\n",
       "      <td>70.246</td>\n",
       "    </tr>\n",
       "    <tr>\n",
       "      <th>Eastern Africa</th>\n",
       "      <td>6.333</td>\n",
       "      <td>69.680</td>\n",
       "    </tr>\n",
       "    <tr>\n",
       "      <th>Eastern Asia</th>\n",
       "      <td>-14.566</td>\n",
       "      <td>-26.309</td>\n",
       "    </tr>\n",
       "    <tr>\n",
       "      <th>Eastern Europe</th>\n",
       "      <td>25.011</td>\n",
       "      <td>-36.531</td>\n",
       "    </tr>\n",
       "    <tr>\n",
       "      <th>Melanesia</th>\n",
       "      <td>16.972</td>\n",
       "      <td>-27.740</td>\n",
       "    </tr>\n",
       "    <tr>\n",
       "      <th>Micronesia</th>\n",
       "      <td>16.935</td>\n",
       "      <td>19.430</td>\n",
       "    </tr>\n",
       "    <tr>\n",
       "      <th>Middle East</th>\n",
       "      <td>8.795</td>\n",
       "      <td>-14.861</td>\n",
       "    </tr>\n",
       "    <tr>\n",
       "      <th>N or dic Countries</th>\n",
       "      <td>18.935</td>\n",
       "      <td>23.329</td>\n",
       "    </tr>\n",
       "    <tr>\n",
       "      <th>N or th America</th>\n",
       "      <td>3.502</td>\n",
       "      <td>4.919</td>\n",
       "    </tr>\n",
       "    <tr>\n",
       "      <th>N or thern Africa</th>\n",
       "      <td>3.238</td>\n",
       "      <td>39.049</td>\n",
       "    </tr>\n",
       "    <tr>\n",
       "      <th>Polynesia</th>\n",
       "      <td>-9.110</td>\n",
       "      <td>5.403</td>\n",
       "    </tr>\n",
       "    <tr>\n",
       "      <th>South America</th>\n",
       "      <td>-13.246</td>\n",
       "      <td>-25.287</td>\n",
       "    </tr>\n",
       "    <tr>\n",
       "      <th>Southeast Asia</th>\n",
       "      <td>22.700</td>\n",
       "      <td>27.088</td>\n",
       "    </tr>\n",
       "    <tr>\n",
       "      <th>Southern Africa</th>\n",
       "      <td>10.557</td>\n",
       "      <td>10.756</td>\n",
       "    </tr>\n",
       "    <tr>\n",
       "      <th>Southern Europe</th>\n",
       "      <td>54.618</td>\n",
       "      <td>50.186</td>\n",
       "    </tr>\n",
       "    <tr>\n",
       "      <th>Southern and Central Asia</th>\n",
       "      <td>-38.363</td>\n",
       "      <td>-1.697</td>\n",
       "    </tr>\n",
       "    <tr>\n",
       "      <th>Western Africa</th>\n",
       "      <td>-53.323</td>\n",
       "      <td>23.904</td>\n",
       "    </tr>\n",
       "    <tr>\n",
       "      <th>Western Europe</th>\n",
       "      <td>35.959</td>\n",
       "      <td>39.487</td>\n",
       "    </tr>\n",
       "  </tbody>\n",
       "</table>\n",
       "</div>"
      ],
      "text/plain": [
       "                           exports  imports\n",
       "region                                     \n",
       "Australia and New Zealand   12.967    5.691\n",
       "Baltic Countries             1.590    6.866\n",
       "British Islands             40.516   27.179\n",
       "Caribbean                   75.675   81.082\n",
       "Central Africa              61.464  -28.192\n",
       "Central America             21.776   70.246\n",
       "Eastern Africa               6.333   69.680\n",
       "Eastern Asia               -14.566  -26.309\n",
       "Eastern Europe              25.011  -36.531\n",
       "Melanesia                   16.972  -27.740\n",
       "Micronesia                  16.935   19.430\n",
       "Middle East                  8.795  -14.861\n",
       "N or dic Countries          18.935   23.329\n",
       "N or th America              3.502    4.919\n",
       "N or thern Africa            3.238   39.049\n",
       "Polynesia                   -9.110    5.403\n",
       "South America              -13.246  -25.287\n",
       "Southeast Asia              22.700   27.088\n",
       "Southern Africa             10.557   10.756\n",
       "Southern Europe             54.618   50.186\n",
       "Southern and Central Asia  -38.363   -1.697\n",
       "Western Africa             -53.323   23.904\n",
       "Western Europe              35.959   39.487"
      ]
     },
     "execution_count": 104,
     "metadata": {},
     "output_type": "execute_result"
    }
   ],
   "source": [
    "# grouping the regions to analyse the imports and exports\n",
    "reg.groupby('region').sum()"
   ]
  },
  {
   "cell_type": "code",
   "execution_count": 105,
   "id": "18078a09",
   "metadata": {},
   "outputs": [
    {
     "data": {
      "text/html": [
       "<div>\n",
       "<style scoped>\n",
       "    .dataframe tbody tr th:only-of-type {\n",
       "        vertical-align: middle;\n",
       "    }\n",
       "\n",
       "    .dataframe tbody tr th {\n",
       "        vertical-align: top;\n",
       "    }\n",
       "\n",
       "    .dataframe thead th {\n",
       "        text-align: right;\n",
       "    }\n",
       "</style>\n",
       "<table border=\"1\" class=\"dataframe\">\n",
       "  <thead>\n",
       "    <tr style=\"text-align: right;\">\n",
       "      <th></th>\n",
       "      <th>index</th>\n",
       "      <th>region</th>\n",
       "      <th>exports</th>\n",
       "      <th>imports</th>\n",
       "    </tr>\n",
       "  </thead>\n",
       "  <tbody>\n",
       "    <tr>\n",
       "      <th>0</th>\n",
       "      <td>115</td>\n",
       "      <td>British Islands</td>\n",
       "      <td>34.452</td>\n",
       "      <td>21.674</td>\n",
       "    </tr>\n",
       "    <tr>\n",
       "      <th>1</th>\n",
       "      <td>323</td>\n",
       "      <td>Central Africa</td>\n",
       "      <td>29.216</td>\n",
       "      <td>-21.443</td>\n",
       "    </tr>\n",
       "    <tr>\n",
       "      <th>2</th>\n",
       "      <td>113</td>\n",
       "      <td>Southern and Central Asia</td>\n",
       "      <td>23.770</td>\n",
       "      <td>-8.313</td>\n",
       "    </tr>\n",
       "    <tr>\n",
       "      <th>3</th>\n",
       "      <td>125</td>\n",
       "      <td>Caribbean</td>\n",
       "      <td>21.670</td>\n",
       "      <td>20.353</td>\n",
       "    </tr>\n",
       "  </tbody>\n",
       "</table>\n",
       "</div>"
      ],
      "text/plain": [
       "   index                     region  exports  imports\n",
       "0    115            British Islands   34.452   21.674\n",
       "1    323             Central Africa   29.216  -21.443\n",
       "2    113  Southern and Central Asia   23.770   -8.313\n",
       "3    125                  Caribbean   21.670   20.353"
      ]
     },
     "execution_count": 105,
     "metadata": {},
     "output_type": "execute_result"
    }
   ],
   "source": [
    "# displaying the top 4 'exports' region in 2015\n",
    "exp = reg.sort_values(by='exports', ascending = False).reset_index()\n",
    "exp = exp[:4]\n",
    "exp"
   ]
  },
  {
   "cell_type": "code",
   "execution_count": 106,
   "id": "25ce98d6",
   "metadata": {},
   "outputs": [
    {
     "data": {
      "image/png": "[encoded data removed]",
      "text/plain": [
       "<Figure size 432x288 with 1 Axes>"
      ]
     },
     "metadata": {
      "needs_background": "light"
     },
     "output_type": "display_data"
    }
   ],
   "source": [
    "# bar plot of top 4 exports region in 2015\n",
    "exp.groupby(['region']).sum().plot(kind='bar', y='exports')\n",
    "plt.title(\"Top 4 Exports Region in 2015\", fontweight='bold')\n",
    "plt.xlabel(\"Region\", fontweight='bold')\n",
    "plt.ylabel(\"% Change From The Year 2010\", fontweight='bold')\n",
    "plt.show()"
   ]
  },
  {
   "cell_type": "code",
   "execution_count": 107,
   "id": "ff8dc02f",
   "metadata": {},
   "outputs": [
    {
     "data": {
      "text/html": [
       "<div>\n",
       "<style scoped>\n",
       "    .dataframe tbody tr th:only-of-type {\n",
       "        vertical-align: middle;\n",
       "    }\n",
       "\n",
       "    .dataframe tbody tr th {\n",
       "        vertical-align: top;\n",
       "    }\n",
       "\n",
       "    .dataframe thead th {\n",
       "        text-align: right;\n",
       "    }\n",
       "</style>\n",
       "<table border=\"1\" class=\"dataframe\">\n",
       "  <thead>\n",
       "    <tr style=\"text-align: right;\">\n",
       "      <th></th>\n",
       "      <th>Feedback_Id</th>\n",
       "      <th>Cust_Id</th>\n",
       "      <th>Phone</th>\n",
       "      <th>Rating</th>\n",
       "    </tr>\n",
       "  </thead>\n",
       "  <tbody>\n",
       "    <tr>\n",
       "      <th>0</th>\n",
       "      <td>1</td>\n",
       "      <td>5</td>\n",
       "      <td>53251345</td>\n",
       "      <td>Excellent</td>\n",
       "    </tr>\n",
       "    <tr>\n",
       "      <th>1</th>\n",
       "      <td>2</td>\n",
       "      <td>8</td>\n",
       "      <td>12233366</td>\n",
       "      <td>Excellent</td>\n",
       "    </tr>\n",
       "    <tr>\n",
       "      <th>2</th>\n",
       "      <td>3</td>\n",
       "      <td>1</td>\n",
       "      <td>65656589</td>\n",
       "      <td>Excellent</td>\n",
       "    </tr>\n",
       "    <tr>\n",
       "      <th>3</th>\n",
       "      <td>4</td>\n",
       "      <td>10</td>\n",
       "      <td>99888999</td>\n",
       "      <td>Excellent</td>\n",
       "    </tr>\n",
       "    <tr>\n",
       "      <th>4</th>\n",
       "      <td>5</td>\n",
       "      <td>2</td>\n",
       "      <td>13235583</td>\n",
       "      <td>Good</td>\n",
       "    </tr>\n",
       "  </tbody>\n",
       "</table>\n",
       "</div>"
      ],
      "text/plain": [
       "   Feedback_Id  Cust_Id     Phone     Rating\n",
       "0            1        5  53251345  Excellent\n",
       "1            2        8  12233366  Excellent\n",
       "2            3        1  65656589  Excellent\n",
       "3            4       10  99888999  Excellent\n",
       "4            5        2  13235583       Good"
      ]
     },
     "execution_count": 107,
     "metadata": {},
     "output_type": "execute_result"
    }
   ],
   "source": [
    "# displaying the first five rows of 'service_feedback' table\n",
    "df_sfeed.head()"
   ]
  },
  {
   "cell_type": "code",
   "execution_count": 108,
   "id": "e5e20ae2",
   "metadata": {},
   "outputs": [
    {
     "data": {
      "text/html": [
       "<div>\n",
       "<style scoped>\n",
       "    .dataframe tbody tr th:only-of-type {\n",
       "        vertical-align: middle;\n",
       "    }\n",
       "\n",
       "    .dataframe tbody tr th {\n",
       "        vertical-align: top;\n",
       "    }\n",
       "\n",
       "    .dataframe thead th {\n",
       "        text-align: right;\n",
       "    }\n",
       "</style>\n",
       "<table border=\"1\" class=\"dataframe\">\n",
       "  <thead>\n",
       "    <tr style=\"text-align: right;\">\n",
       "      <th></th>\n",
       "      <th>Cust_Id</th>\n",
       "      <th>Customer_First_Name</th>\n",
       "      <th>Customer_Last_Name</th>\n",
       "      <th>Customer_DOB</th>\n",
       "      <th>Street</th>\n",
       "      <th>City</th>\n",
       "      <th>Country</th>\n",
       "      <th>Postal_Code</th>\n",
       "      <th>Phone</th>\n",
       "    </tr>\n",
       "  </thead>\n",
       "  <tbody>\n",
       "    <tr>\n",
       "      <th>0</th>\n",
       "      <td>1</td>\n",
       "      <td>George</td>\n",
       "      <td>Donald</td>\n",
       "      <td>3/21/88</td>\n",
       "      <td>89, Beckam Street</td>\n",
       "      <td>New York</td>\n",
       "      <td>USA</td>\n",
       "      <td>1234</td>\n",
       "      <td>65656589</td>\n",
       "    </tr>\n",
       "    <tr>\n",
       "      <th>1</th>\n",
       "      <td>2</td>\n",
       "      <td>Matt</td>\n",
       "      <td>Lee</td>\n",
       "      <td>12/13/99</td>\n",
       "      <td>500 Pkey Street</td>\n",
       "      <td>California</td>\n",
       "      <td>USA</td>\n",
       "      <td>61434</td>\n",
       "      <td>13322355</td>\n",
       "    </tr>\n",
       "    <tr>\n",
       "      <th>2</th>\n",
       "      <td>3</td>\n",
       "      <td>Ann</td>\n",
       "      <td>Joseph</td>\n",
       "      <td>9/15/55</td>\n",
       "      <td>77 Holmes Street</td>\n",
       "      <td>London</td>\n",
       "      <td>GBR</td>\n",
       "      <td>75849</td>\n",
       "      <td>36553284, 80008065</td>\n",
       "    </tr>\n",
       "    <tr>\n",
       "      <th>3</th>\n",
       "      <td>4</td>\n",
       "      <td>Sam</td>\n",
       "      <td>Li</td>\n",
       "      <td>5/5/00</td>\n",
       "      <td>3, Park Street</td>\n",
       "      <td>Biejling</td>\n",
       "      <td>China</td>\n",
       "      <td>99849</td>\n",
       "      <td>99553246</td>\n",
       "    </tr>\n",
       "    <tr>\n",
       "      <th>4</th>\n",
       "      <td>5</td>\n",
       "      <td>Jennifer</td>\n",
       "      <td>Rose</td>\n",
       "      <td>8/24/80</td>\n",
       "      <td>99 Calum Ave</td>\n",
       "      <td>Barcelona</td>\n",
       "      <td>Spain</td>\n",
       "      <td>28902</td>\n",
       "      <td>53251345, 65656565</td>\n",
       "    </tr>\n",
       "  </tbody>\n",
       "</table>\n",
       "</div>"
      ],
      "text/plain": [
       "   Cust_Id Customer_First_Name Customer_Last_Name Customer_DOB  \\\n",
       "0        1              George             Donald      3/21/88   \n",
       "1        2                Matt                Lee     12/13/99   \n",
       "2        3                 Ann             Joseph      9/15/55   \n",
       "3        4                 Sam                 Li       5/5/00   \n",
       "4        5            Jennifer               Rose      8/24/80   \n",
       "\n",
       "              Street        City Country  Postal_Code               Phone  \n",
       "0  89, Beckam Street    New York     USA         1234            65656589  \n",
       "1    500 Pkey Street  California     USA        61434            13322355  \n",
       "2   77 Holmes Street      London     GBR        75849  36553284, 80008065  \n",
       "3     3, Park Street    Biejling   China        99849            99553246  \n",
       "4       99 Calum Ave   Barcelona   Spain        28902  53251345, 65656565  "
      ]
     },
     "execution_count": 108,
     "metadata": {},
     "output_type": "execute_result"
    }
   ],
   "source": [
    "# displaying the first five rows of 'customer' table\n",
    "df_customer.head()"
   ]
  },
  {
   "cell_type": "code",
   "execution_count": 109,
   "id": "4040f92c",
   "metadata": {},
   "outputs": [
    {
     "data": {
      "text/html": [
       "<div>\n",
       "<style scoped>\n",
       "    .dataframe tbody tr th:only-of-type {\n",
       "        vertical-align: middle;\n",
       "    }\n",
       "\n",
       "    .dataframe tbody tr th {\n",
       "        vertical-align: top;\n",
       "    }\n",
       "\n",
       "    .dataframe thead th {\n",
       "        text-align: right;\n",
       "    }\n",
       "</style>\n",
       "<table border=\"1\" class=\"dataframe\">\n",
       "  <thead>\n",
       "    <tr style=\"text-align: right;\">\n",
       "      <th></th>\n",
       "      <th>index</th>\n",
       "      <th>Counts</th>\n",
       "    </tr>\n",
       "  </thead>\n",
       "  <tbody>\n",
       "    <tr>\n",
       "      <th>0</th>\n",
       "      <td>USA</td>\n",
       "      <td>4</td>\n",
       "    </tr>\n",
       "    <tr>\n",
       "      <th>1</th>\n",
       "      <td>India</td>\n",
       "      <td>3</td>\n",
       "    </tr>\n",
       "    <tr>\n",
       "      <th>2</th>\n",
       "      <td>GBR</td>\n",
       "      <td>2</td>\n",
       "    </tr>\n",
       "    <tr>\n",
       "      <th>3</th>\n",
       "      <td>Australia</td>\n",
       "      <td>2</td>\n",
       "    </tr>\n",
       "    <tr>\n",
       "      <th>4</th>\n",
       "      <td>China</td>\n",
       "      <td>1</td>\n",
       "    </tr>\n",
       "    <tr>\n",
       "      <th>5</th>\n",
       "      <td>Spain</td>\n",
       "      <td>1</td>\n",
       "    </tr>\n",
       "    <tr>\n",
       "      <th>6</th>\n",
       "      <td>Singapore</td>\n",
       "      <td>1</td>\n",
       "    </tr>\n",
       "    <tr>\n",
       "      <th>7</th>\n",
       "      <td>Canada</td>\n",
       "      <td>1</td>\n",
       "    </tr>\n",
       "    <tr>\n",
       "      <th>8</th>\n",
       "      <td>UAE</td>\n",
       "      <td>1</td>\n",
       "    </tr>\n",
       "    <tr>\n",
       "      <th>9</th>\n",
       "      <td>New Zealand</td>\n",
       "      <td>1</td>\n",
       "    </tr>\n",
       "    <tr>\n",
       "      <th>10</th>\n",
       "      <td>South Africa</td>\n",
       "      <td>1</td>\n",
       "    </tr>\n",
       "    <tr>\n",
       "      <th>11</th>\n",
       "      <td>Switzerland</td>\n",
       "      <td>1</td>\n",
       "    </tr>\n",
       "    <tr>\n",
       "      <th>12</th>\n",
       "      <td>Ireland</td>\n",
       "      <td>1</td>\n",
       "    </tr>\n",
       "  </tbody>\n",
       "</table>\n",
       "</div>"
      ],
      "text/plain": [
       "           index  Counts\n",
       "0            USA       4\n",
       "1          India       3\n",
       "2            GBR       2\n",
       "3      Australia       2\n",
       "4          China       1\n",
       "5          Spain       1\n",
       "6      Singapore       1\n",
       "7         Canada       1\n",
       "8            UAE       1\n",
       "9    New Zealand       1\n",
       "10  South Africa       1\n",
       "11   Switzerland       1\n",
       "12       Ireland       1"
      ]
     },
     "execution_count": 109,
     "metadata": {},
     "output_type": "execute_result"
    }
   ],
   "source": [
    "# getting the counts of countries to which the customers belong\n",
    "df_cust = df_customer['Country'].value_counts().reset_index(name = 'Counts')\n",
    "df_cust"
   ]
  },
  {
   "cell_type": "code",
   "execution_count": 110,
   "id": "b4ee2281",
   "metadata": {},
   "outputs": [
    {
     "data": {
      "image/png": "[encoded data removed]",
      "text/plain": [
       "<Figure size 1080x576 with 1 Axes>"
      ]
     },
     "metadata": {},
     "output_type": "display_data"
    }
   ],
   "source": [
    "# pie chart of 'A&S Consulting Group Customer Base'\n",
    "data = [4, 3, 2, 2, 1, 1, 1, 1, 1, 1, 1, 1, 1]\n",
    "country = ['USA', 'India', 'GBR', 'Australia', 'China', 'Spain', 'Singapore', 'Canada', 'UAE', 'New Zealand', 'South Africa', 'Switzerland', 'Ireland']\n",
    "explode = [0.1, 0, 0, 0, 0, 0, 0, 0, 0, 0, 0, 0, 0]\n",
    "palette_color = sns.color_palette('bright')\n",
    "plt.figure(figsize=(15,8))\n",
    "plt.pie(data, labels = country, colors = palette_color, explode = explode, autopct = '%.0f%%')\n",
    "plt.title('A&S Consulting Group Customer Base', fontweight='bold')\n",
    "plt.show()"
   ]
  },
  {
   "cell_type": "code",
   "execution_count": 111,
   "id": "396274e4",
   "metadata": {},
   "outputs": [
    {
     "data": {
      "image/png": "[encoded data removed]",
      "text/plain": [
       "<Figure size 1080x360 with 1 Axes>"
      ]
     },
     "metadata": {
      "needs_background": "light"
     },
     "output_type": "display_data"
    }
   ],
   "source": [
    "# bar plot of 'A&S Consulting Group Customer Base'\n",
    "plt.figure(figsize=(15,5))\n",
    "sns.countplot(x ='Country', data = df_customer)\n",
    "plt.title(\"A&S Consulting Group Customer Base\", fontweight='bold')\n",
    "plt.xlabel(\"Customer Base\", fontweight='bold')\n",
    "plt.ylabel(\"Customer Count\", fontweight='bold')\n",
    "plt.show()"
   ]
  },
  {
   "cell_type": "code",
   "execution_count": 112,
   "id": "2a002781",
   "metadata": {},
   "outputs": [
    {
     "data": {
      "image/png": "[encoded data removed]",
      "text/plain": [
       "<Figure size 1080x360 with 1 Axes>"
      ]
     },
     "metadata": {
      "needs_background": "light"
     },
     "output_type": "display_data"
    }
   ],
   "source": [
    "# bar plot of 'A&S Consulting Group Rating'\n",
    "plt.figure(figsize=(15,5))\n",
    "sns.countplot(x ='Rating', data = df_sfeed)\n",
    "plt.title(\"A&S Consulting Group Rating\", fontweight='bold')\n",
    "plt.xlabel(\"Rating\", fontweight='bold')\n",
    "plt.ylabel(\"Rating Count\", fontweight='bold')\n",
    "plt.show()"
   ]
  },
  {
   "cell_type": "code",
   "execution_count": 113,
   "id": "cad72ca5",
   "metadata": {},
   "outputs": [
    {
     "data": {
      "text/html": [
       "<div>\n",
       "<style scoped>\n",
       "    .dataframe tbody tr th:only-of-type {\n",
       "        vertical-align: middle;\n",
       "    }\n",
       "\n",
       "    .dataframe tbody tr th {\n",
       "        vertical-align: top;\n",
       "    }\n",
       "\n",
       "    .dataframe thead th {\n",
       "        text-align: right;\n",
       "    }\n",
       "</style>\n",
       "<table border=\"1\" class=\"dataframe\">\n",
       "  <thead>\n",
       "    <tr style=\"text-align: right;\">\n",
       "      <th></th>\n",
       "      <th>pop_id</th>\n",
       "      <th>country_code</th>\n",
       "      <th>year</th>\n",
       "      <th>fertility_rate</th>\n",
       "      <th>life_expectancy</th>\n",
       "      <th>size</th>\n",
       "    </tr>\n",
       "  </thead>\n",
       "  <tbody>\n",
       "    <tr>\n",
       "      <th>0</th>\n",
       "      <td>20</td>\n",
       "      <td>ABW</td>\n",
       "      <td>2010</td>\n",
       "      <td>1.704</td>\n",
       "      <td>74.953537</td>\n",
       "      <td>101597</td>\n",
       "    </tr>\n",
       "    <tr>\n",
       "      <th>1</th>\n",
       "      <td>19</td>\n",
       "      <td>ABW</td>\n",
       "      <td>2015</td>\n",
       "      <td>1.647</td>\n",
       "      <td>75.573585</td>\n",
       "      <td>103889</td>\n",
       "    </tr>\n",
       "    <tr>\n",
       "      <th>2</th>\n",
       "      <td>2</td>\n",
       "      <td>AFG</td>\n",
       "      <td>2010</td>\n",
       "      <td>5.746</td>\n",
       "      <td>58.970829</td>\n",
       "      <td>27962207</td>\n",
       "    </tr>\n",
       "    <tr>\n",
       "      <th>3</th>\n",
       "      <td>1</td>\n",
       "      <td>AFG</td>\n",
       "      <td>2015</td>\n",
       "      <td>4.653</td>\n",
       "      <td>60.717171</td>\n",
       "      <td>32526562</td>\n",
       "    </tr>\n",
       "    <tr>\n",
       "      <th>4</th>\n",
       "      <td>12</td>\n",
       "      <td>AGO</td>\n",
       "      <td>2010</td>\n",
       "      <td>6.416</td>\n",
       "      <td>50.654171</td>\n",
       "      <td>21219954</td>\n",
       "    </tr>\n",
       "  </tbody>\n",
       "</table>\n",
       "</div>"
      ],
      "text/plain": [
       "   pop_id country_code  year  fertility_rate  life_expectancy      size\n",
       "0      20          ABW  2010           1.704        74.953537    101597\n",
       "1      19          ABW  2015           1.647        75.573585    103889\n",
       "2       2          AFG  2010           5.746        58.970829  27962207\n",
       "3       1          AFG  2015           4.653        60.717171  32526562\n",
       "4      12          AGO  2010           6.416        50.654171  21219954"
      ]
     },
     "execution_count": 113,
     "metadata": {},
     "output_type": "execute_result"
    }
   ],
   "source": [
    "# displaying the first five rows of 'population' tabe\n",
    "df_population.head()"
   ]
  },
  {
   "cell_type": "code",
   "execution_count": 114,
   "id": "ccd303fb",
   "metadata": {},
   "outputs": [
    {
     "data": {
      "text/html": [
       "<div>\n",
       "<style scoped>\n",
       "    .dataframe tbody tr th:only-of-type {\n",
       "        vertical-align: middle;\n",
       "    }\n",
       "\n",
       "    .dataframe tbody tr th {\n",
       "        vertical-align: top;\n",
       "    }\n",
       "\n",
       "    .dataframe thead th {\n",
       "        text-align: right;\n",
       "    }\n",
       "</style>\n",
       "<table border=\"1\" class=\"dataframe\">\n",
       "  <thead>\n",
       "    <tr style=\"text-align: right;\">\n",
       "      <th></th>\n",
       "      <th>index</th>\n",
       "      <th>pop_id</th>\n",
       "      <th>country_code</th>\n",
       "      <th>year</th>\n",
       "      <th>fertility_rate</th>\n",
       "      <th>life_expectancy</th>\n",
       "      <th>size</th>\n",
       "    </tr>\n",
       "  </thead>\n",
       "  <tbody>\n",
       "    <tr>\n",
       "      <th>0</th>\n",
       "      <td>165</td>\n",
       "      <td>170</td>\n",
       "      <td>HKG</td>\n",
       "      <td>2015</td>\n",
       "      <td>1.195</td>\n",
       "      <td>84.278049</td>\n",
       "      <td>7305700</td>\n",
       "    </tr>\n",
       "    <tr>\n",
       "      <th>1</th>\n",
       "      <td>197</td>\n",
       "      <td>194</td>\n",
       "      <td>JPN</td>\n",
       "      <td>2015</td>\n",
       "      <td>1.460</td>\n",
       "      <td>83.843659</td>\n",
       "      <td>126958472</td>\n",
       "    </tr>\n",
       "    <tr>\n",
       "      <th>2</th>\n",
       "      <td>191</td>\n",
       "      <td>190</td>\n",
       "      <td>ITA</td>\n",
       "      <td>2015</td>\n",
       "      <td>1.370</td>\n",
       "      <td>83.490244</td>\n",
       "      <td>60730582</td>\n",
       "    </tr>\n",
       "    <tr>\n",
       "      <th>3</th>\n",
       "      <td>119</td>\n",
       "      <td>356</td>\n",
       "      <td>ESP</td>\n",
       "      <td>2015</td>\n",
       "      <td>1.320</td>\n",
       "      <td>83.380488</td>\n",
       "      <td>46443994</td>\n",
       "    </tr>\n",
       "    <tr>\n",
       "      <th>4</th>\n",
       "      <td>67</td>\n",
       "      <td>376</td>\n",
       "      <td>CHE</td>\n",
       "      <td>2015</td>\n",
       "      <td>1.540</td>\n",
       "      <td>83.197561</td>\n",
       "      <td>8281430</td>\n",
       "    </tr>\n",
       "  </tbody>\n",
       "</table>\n",
       "</div>"
      ],
      "text/plain": [
       "   index  pop_id country_code  year  fertility_rate  life_expectancy  \\\n",
       "0    165     170          HKG  2015           1.195        84.278049   \n",
       "1    197     194          JPN  2015           1.460        83.843659   \n",
       "2    191     190          ITA  2015           1.370        83.490244   \n",
       "3    119     356          ESP  2015           1.320        83.380488   \n",
       "4     67     376          CHE  2015           1.540        83.197561   \n",
       "\n",
       "        size  \n",
       "0    7305700  \n",
       "1  126958472  \n",
       "2   60730582  \n",
       "3   46443994  \n",
       "4    8281430  "
      ]
     },
     "execution_count": 114,
     "metadata": {},
     "output_type": "execute_result"
    }
   ],
   "source": [
    "# removing the 2010 year data under new dataframe for further analysis\n",
    "population2015 = df_population \n",
    "population2015 = population2015[population2015.year != 2010]\n",
    "population2015.sort_values(by='life_expectancy', ascending = False).head().reset_index()"
   ]
  },
  {
   "cell_type": "code",
   "execution_count": 115,
   "id": "26a921df",
   "metadata": {},
   "outputs": [
    {
     "data": {
      "application/vnd.plotly.v1+json": {
       "config": {
        "plotlyServerURL": "https://plot.ly"
       },
       "data": [
        {
         "alignmentgroup": "True",
         "bingroup": "x",
         "histfunc": "sum",
         "hovertemplate": "country_code=%{x}<br>sum of life_expectancy=%{y}<extra></extra>",
         "legendgroup": "HKG",
         "marker": {
          "color": "#636efa",
          "pattern": {
           "shape": ""
          }
         },
         "name": "HKG",
         "offsetgroup": "HKG",
         "orientation": "v",
         "showlegend": true,
         "texttemplate": "%{value}",
         "type": "histogram",
         "x": [
          "HKG"
         ],
         "xaxis": "x",
         "y": [
          84.27804878
         ],
         "yaxis": "y"
        },
        {
         "alignmentgroup": "True",
         "bingroup": "x",
         "histfunc": "sum",
         "hovertemplate": "country_code=%{x}<br>sum of life_expectancy=%{y}<extra></extra>",
         "legendgroup": "JPN",
         "marker": {
          "color": "#EF553B",
          "pattern": {
           "shape": ""
          }
         },
         "name": "JPN",
         "offsetgroup": "JPN",
         "orientation": "v",
         "showlegend": true,
         "texttemplate": "%{value}",
         "type": "histogram",
         "x": [
          "JPN"
         ],
         "xaxis": "x",
         "y": [
          83.84365854
         ],
         "yaxis": "y"
        },
        {
         "alignmentgroup": "True",
         "bingroup": "x",
         "histfunc": "sum",
         "hovertemplate": "country_code=%{x}<br>sum of life_expectancy=%{y}<extra></extra>",
         "legendgroup": "ITA",
         "marker": {
          "color": "#00cc96",
          "pattern": {
           "shape": ""
          }
         },
         "name": "ITA",
         "offsetgroup": "ITA",
         "orientation": "v",
         "showlegend": true,
         "texttemplate": "%{value}",
         "type": "histogram",
         "x": [
          "ITA"
         ],
         "xaxis": "x",
         "y": [
          83.4902439
         ],
         "yaxis": "y"
        },
        {
         "alignmentgroup": "True",
         "bingroup": "x",
         "histfunc": "sum",
         "hovertemplate": "country_code=%{x}<br>sum of life_expectancy=%{y}<extra></extra>",
         "legendgroup": "ESP",
         "marker": {
          "color": "#ab63fa",
          "pattern": {
           "shape": ""
          }
         },
         "name": "ESP",
         "offsetgroup": "ESP",
         "orientation": "v",
         "showlegend": true,
         "texttemplate": "%{value}",
         "type": "histogram",
         "x": [
          "ESP"
         ],
         "xaxis": "x",
         "y": [
          83.3804878
         ],
         "yaxis": "y"
        },
        {
         "alignmentgroup": "True",
         "bingroup": "x",
         "histfunc": "sum",
         "hovertemplate": "country_code=%{x}<br>sum of life_expectancy=%{y}<extra></extra>",
         "legendgroup": "CHE",
         "marker": {
          "color": "#FFA15A",
          "pattern": {
           "shape": ""
          }
         },
         "name": "CHE",
         "offsetgroup": "CHE",
         "orientation": "v",
         "showlegend": true,
         "texttemplate": "%{value}",
         "type": "histogram",
         "x": [
          "CHE"
         ],
         "xaxis": "x",
         "y": [
          83.19756098
         ],
         "yaxis": "y"
        },
        {
         "alignmentgroup": "True",
         "bingroup": "x",
         "histfunc": "sum",
         "hovertemplate": "country_code=%{x}<br>sum of life_expectancy=%{y}<extra></extra>",
         "legendgroup": "ISL",
         "marker": {
          "color": "#19d3f3",
          "pattern": {
           "shape": ""
          }
         },
         "name": "ISL",
         "offsetgroup": "ISL",
         "orientation": "v",
         "showlegend": true,
         "texttemplate": "%{value}",
         "type": "histogram",
         "x": [
          "ISL"
         ],
         "xaxis": "x",
         "y": [
          82.86097561
         ],
         "yaxis": "y"
        },
        {
         "alignmentgroup": "True",
         "bingroup": "x",
         "histfunc": "sum",
         "hovertemplate": "country_code=%{x}<br>sum of life_expectancy=%{y}<extra></extra>",
         "legendgroup": "FRA",
         "marker": {
          "color": "#FF6692",
          "pattern": {
           "shape": ""
          }
         },
         "name": "FRA",
         "offsetgroup": "FRA",
         "orientation": "v",
         "showlegend": true,
         "texttemplate": "%{value}",
         "type": "histogram",
         "x": [
          "FRA"
         ],
         "xaxis": "x",
         "y": [
          82.67073171
         ],
         "yaxis": "y"
        },
        {
         "alignmentgroup": "True",
         "bingroup": "x",
         "histfunc": "sum",
         "hovertemplate": "country_code=%{x}<br>sum of life_expectancy=%{y}<extra></extra>",
         "legendgroup": "SGP",
         "marker": {
          "color": "#B6E880",
          "pattern": {
           "shape": ""
          }
         },
         "name": "SGP",
         "offsetgroup": "SGP",
         "orientation": "v",
         "showlegend": true,
         "texttemplate": "%{value}",
         "type": "histogram",
         "x": [
          "SGP"
         ],
         "xaxis": "x",
         "y": [
          82.59512195
         ],
         "yaxis": "y"
        },
        {
         "alignmentgroup": "True",
         "bingroup": "x",
         "histfunc": "sum",
         "hovertemplate": "country_code=%{x}<br>sum of life_expectancy=%{y}<extra></extra>",
         "legendgroup": "SWE",
         "marker": {
          "color": "#FF97FF",
          "pattern": {
           "shape": ""
          }
         },
         "name": "SWE",
         "offsetgroup": "SWE",
         "orientation": "v",
         "showlegend": true,
         "texttemplate": "%{value}",
         "type": "histogram",
         "x": [
          "SWE"
         ],
         "xaxis": "x",
         "y": [
          82.55121951
         ],
         "yaxis": "y"
        },
        {
         "alignmentgroup": "True",
         "bingroup": "x",
         "histfunc": "sum",
         "hovertemplate": "country_code=%{x}<br>sum of life_expectancy=%{y}<extra></extra>",
         "legendgroup": "AUS",
         "marker": {
          "color": "#FECB52",
          "pattern": {
           "shape": ""
          }
         },
         "name": "AUS",
         "offsetgroup": "AUS",
         "orientation": "v",
         "showlegend": true,
         "texttemplate": "%{value}",
         "type": "histogram",
         "x": [
          "AUS"
         ],
         "xaxis": "x",
         "y": [
          82.45121951
         ],
         "yaxis": "y"
        }
       ],
       "layout": {
        "barmode": "relative",
        "legend": {
         "title": {
          "text": "country_code"
         },
         "tracegroupgap": 0
        },
        "template": {
         "data": {
          "bar": [
           {
            "error_x": {
             "color": "#2a3f5f"
            },
            "error_y": {
             "color": "#2a3f5f"
            },
            "marker": {
             "line": {
              "color": "white",
              "width": 0.5
             },
             "pattern": {
              "fillmode": "overlay",
              "size": 10,
              "solidity": 0.2
             }
            },
            "type": "bar"
           }
          ],
          "barpolar": [
           {
            "marker": {
             "line": {
              "color": "white",
              "width": 0.5
             },
             "pattern": {
              "fillmode": "overlay",
              "size": 10,
              "solidity": 0.2
             }
            },
            "type": "barpolar"
           }
          ],
          "carpet": [
           {
            "aaxis": {
             "endlinecolor": "#2a3f5f",
             "gridcolor": "#C8D4E3",
             "linecolor": "#C8D4E3",
             "minorgridcolor": "#C8D4E3",
             "startlinecolor": "#2a3f5f"
            },
            "baxis": {
             "endlinecolor": "#2a3f5f",
             "gridcolor": "#C8D4E3",
             "linecolor": "#C8D4E3",
             "minorgridcolor": "#C8D4E3",
             "startlinecolor": "#2a3f5f"
            },
            "type": "carpet"
           }
          ],
          "choropleth": [
           {
            "colorbar": {
             "outlinewidth": 0,
             "ticks": ""
            },
            "type": "choropleth"
           }
          ],
          "contour": [
           {
            "colorbar": {
             "outlinewidth": 0,
             "ticks": ""
            },
            "colorscale": [
             [
              0,
              "#0d0887"
             ],
             [
              0.1111111111111111,
              "#46039f"
             ],
             [
              0.2222222222222222,
              "#7201a8"
             ],
             [
              0.3333333333333333,
              "#9c179e"
             ],
             [
              0.4444444444444444,
              "#bd3786"
             ],
             [
              0.5555555555555556,
              "#d8576b"
             ],
             [
              0.6666666666666666,
              "#ed7953"
             ],
             [
              0.7777777777777778,
              "#fb9f3a"
             ],
             [
              0.8888888888888888,
              "#fdca26"
             ],
             [
              1,
              "#f0f921"
             ]
            ],
            "type": "contour"
           }
          ],
          "contourcarpet": [
           {
            "colorbar": {
             "outlinewidth": 0,
             "ticks": ""
            },
            "type": "contourcarpet"
           }
          ],
          "heatmap": [
           {
            "colorbar": {
             "outlinewidth": 0,
             "ticks": ""
            },
            "colorscale": [
             [
              0,
              "#0d0887"
             ],
             [
              0.1111111111111111,
              "#46039f"
             ],
             [
              0.2222222222222222,
              "#7201a8"
             ],
             [
              0.3333333333333333,
              "#9c179e"
             ],
             [
              0.4444444444444444,
              "#bd3786"
             ],
             [
              0.5555555555555556,
              "#d8576b"
             ],
             [
              0.6666666666666666,
              "#ed7953"
             ],
             [
              0.7777777777777778,
              "#fb9f3a"
             ],
             [
              0.8888888888888888,
              "#fdca26"
             ],
             [
              1,
              "#f0f921"
             ]
            ],
            "type": "heatmap"
           }
          ],
          "heatmapgl": [
           {
            "colorbar": {
             "outlinewidth": 0,
             "ticks": ""
            },
            "colorscale": [
             [
              0,
              "#0d0887"
             ],
             [
              0.1111111111111111,
              "#46039f"
             ],
             [
              0.2222222222222222,
              "#7201a8"
             ],
             [
              0.3333333333333333,
              "#9c179e"
             ],
             [
              0.4444444444444444,
              "#bd3786"
             ],
             [
              0.5555555555555556,
              "#d8576b"
             ],
             [
              0.6666666666666666,
              "#ed7953"
             ],
             [
              0.7777777777777778,
              "#fb9f3a"
             ],
             [
              0.8888888888888888,
              "#fdca26"
             ],
             [
              1,
              "#f0f921"
             ]
            ],
            "type": "heatmapgl"
           }
          ],
          "histogram": [
           {
            "marker": {
             "pattern": {
              "fillmode": "overlay",
              "size": 10,
              "solidity": 0.2
             }
            },
            "type": "histogram"
           }
          ],
          "histogram2d": [
           {
            "colorbar": {
             "outlinewidth": 0,
             "ticks": ""
            },
            "colorscale": [
             [
              0,
              "#0d0887"
             ],
             [
              0.1111111111111111,
              "#46039f"
             ],
             [
              0.2222222222222222,
              "#7201a8"
             ],
             [
              0.3333333333333333,
              "#9c179e"
             ],
             [
              0.4444444444444444,
              "#bd3786"
             ],
             [
              0.5555555555555556,
              "#d8576b"
             ],
             [
              0.6666666666666666,
              "#ed7953"
             ],
             [
              0.7777777777777778,
              "#fb9f3a"
             ],
             [
              0.8888888888888888,
              "#fdca26"
             ],
             [
              1,
              "#f0f921"
             ]
            ],
            "type": "histogram2d"
           }
          ],
          "histogram2dcontour": [
           {
            "colorbar": {
             "outlinewidth": 0,
             "ticks": ""
            },
            "colorscale": [
             [
              0,
              "#0d0887"
             ],
             [
              0.1111111111111111,
              "#46039f"
             ],
             [
              0.2222222222222222,
              "#7201a8"
             ],
             [
              0.3333333333333333,
              "#9c179e"
             ],
             [
              0.4444444444444444,
              "#bd3786"
             ],
             [
              0.5555555555555556,
              "#d8576b"
             ],
             [
              0.6666666666666666,
              "#ed7953"
             ],
             [
              0.7777777777777778,
              "#fb9f3a"
             ],
             [
              0.8888888888888888,
              "#fdca26"
             ],
             [
              1,
              "#f0f921"
             ]
            ],
            "type": "histogram2dcontour"
           }
          ],
          "mesh3d": [
           {
            "colorbar": {
             "outlinewidth": 0,
             "ticks": ""
            },
            "type": "mesh3d"
           }
          ],
          "parcoords": [
           {
            "line": {
             "colorbar": {
              "outlinewidth": 0,
              "ticks": ""
             }
            },
            "type": "parcoords"
           }
          ],
          "pie": [
           {
            "automargin": true,
            "type": "pie"
           }
          ],
          "scatter": [
           {
            "marker": {
             "colorbar": {
              "outlinewidth": 0,
              "ticks": ""
             }
            },
            "type": "scatter"
           }
          ],
          "scatter3d": [
           {
            "line": {
             "colorbar": {
              "outlinewidth": 0,
              "ticks": ""
             }
            },
            "marker": {
             "colorbar": {
              "outlinewidth": 0,
              "ticks": ""
             }
            },
            "type": "scatter3d"
           }
          ],
          "scattercarpet": [
           {
            "marker": {
             "colorbar": {
              "outlinewidth": 0,
              "ticks": ""
             }
            },
            "type": "scattercarpet"
           }
          ],
          "scattergeo": [
           {
            "marker": {
             "colorbar": {
              "outlinewidth": 0,
              "ticks": ""
             }
            },
            "type": "scattergeo"
           }
          ],
          "scattergl": [
           {
            "marker": {
             "colorbar": {
              "outlinewidth": 0,
              "ticks": ""
             }
            },
            "type": "scattergl"
           }
          ],
          "scattermapbox": [
           {
            "marker": {
             "colorbar": {
              "outlinewidth": 0,
              "ticks": ""
             }
            },
            "type": "scattermapbox"
           }
          ],
          "scatterpolar": [
           {
            "marker": {
             "colorbar": {
              "outlinewidth": 0,
              "ticks": ""
             }
            },
            "type": "scatterpolar"
           }
          ],
          "scatterpolargl": [
           {
            "marker": {
             "colorbar": {
              "outlinewidth": 0,
              "ticks": ""
             }
            },
            "type": "scatterpolargl"
           }
          ],
          "scatterternary": [
           {
            "marker": {
             "colorbar": {
              "outlinewidth": 0,
              "ticks": ""
             }
            },
            "type": "scatterternary"
           }
          ],
          "surface": [
           {
            "colorbar": {
             "outlinewidth": 0,
             "ticks": ""
            },
            "colorscale": [
             [
              0,
              "#0d0887"
             ],
             [
              0.1111111111111111,
              "#46039f"
             ],
             [
              0.2222222222222222,
              "#7201a8"
             ],
             [
              0.3333333333333333,
              "#9c179e"
             ],
             [
              0.4444444444444444,
              "#bd3786"
             ],
             [
              0.5555555555555556,
              "#d8576b"
             ],
             [
              0.6666666666666666,
              "#ed7953"
             ],
             [
              0.7777777777777778,
              "#fb9f3a"
             ],
             [
              0.8888888888888888,
              "#fdca26"
             ],
             [
              1,
              "#f0f921"
             ]
            ],
            "type": "surface"
           }
          ],
          "table": [
           {
            "cells": {
             "fill": {
              "color": "#EBF0F8"
             },
             "line": {
              "color": "white"
             }
            },
            "header": {
             "fill": {
              "color": "#C8D4E3"
             },
             "line": {
              "color": "white"
             }
            },
            "type": "table"
           }
          ]
         },
         "layout": {
          "annotationdefaults": {
           "arrowcolor": "#2a3f5f",
           "arrowhead": 0,
           "arrowwidth": 1
          },
          "autotypenumbers": "strict",
          "coloraxis": {
           "colorbar": {
            "outlinewidth": 0,
            "ticks": ""
           }
          },
          "colorscale": {
           "diverging": [
            [
             0,
             "#8e0152"
            ],
            [
             0.1,
             "#c51b7d"
            ],
            [
             0.2,
             "#de77ae"
            ],
            [
             0.3,
             "#f1b6da"
            ],
            [
             0.4,
             "#fde0ef"
            ],
            [
             0.5,
             "#f7f7f7"
            ],
            [
             0.6,
             "#e6f5d0"
            ],
            [
             0.7,
             "#b8e186"
            ],
            [
             0.8,
             "#7fbc41"
            ],
            [
             0.9,
             "#4d9221"
            ],
            [
             1,
             "#276419"
            ]
           ],
           "sequential": [
            [
             0,
             "#0d0887"
            ],
            [
             0.1111111111111111,
             "#46039f"
            ],
            [
             0.2222222222222222,
             "#7201a8"
            ],
            [
             0.3333333333333333,
             "#9c179e"
            ],
            [
             0.4444444444444444,
             "#bd3786"
            ],
            [
             0.5555555555555556,
             "#d8576b"
            ],
            [
             0.6666666666666666,
             "#ed7953"
            ],
            [
             0.7777777777777778,
             "#fb9f3a"
            ],
            [
             0.8888888888888888,
             "#fdca26"
            ],
            [
             1,
             "#f0f921"
            ]
           ],
           "sequentialminus": [
            [
             0,
             "#0d0887"
            ],
            [
             0.1111111111111111,
             "#46039f"
            ],
            [
             0.2222222222222222,
             "#7201a8"
            ],
            [
             0.3333333333333333,
             "#9c179e"
            ],
            [
             0.4444444444444444,
             "#bd3786"
            ],
            [
             0.5555555555555556,
             "#d8576b"
            ],
            [
             0.6666666666666666,
             "#ed7953"
            ],
            [
             0.7777777777777778,
             "#fb9f3a"
            ],
            [
             0.8888888888888888,
             "#fdca26"
            ],
            [
             1,
             "#f0f921"
            ]
           ]
          },
          "colorway": [
           "#636efa",
           "#EF553B",
           "#00cc96",
           "#ab63fa",
           "#FFA15A",
           "#19d3f3",
           "#FF6692",
           "#B6E880",
           "#FF97FF",
           "#FECB52"
          ],
          "font": {
           "color": "#2a3f5f"
          },
          "geo": {
           "bgcolor": "white",
           "lakecolor": "white",
           "landcolor": "white",
           "showlakes": true,
           "showland": true,
           "subunitcolor": "#C8D4E3"
          },
          "hoverlabel": {
           "align": "left"
          },
          "hovermode": "closest",
          "mapbox": {
           "style": "light"
          },
          "paper_bgcolor": "white",
          "plot_bgcolor": "white",
          "polar": {
           "angularaxis": {
            "gridcolor": "#EBF0F8",
            "linecolor": "#EBF0F8",
            "ticks": ""
           },
           "bgcolor": "white",
           "radialaxis": {
            "gridcolor": "#EBF0F8",
            "linecolor": "#EBF0F8",
            "ticks": ""
           }
          },
          "scene": {
           "xaxis": {
            "backgroundcolor": "white",
            "gridcolor": "#DFE8F3",
            "gridwidth": 2,
            "linecolor": "#EBF0F8",
            "showbackground": true,
            "ticks": "",
            "zerolinecolor": "#EBF0F8"
           },
           "yaxis": {
            "backgroundcolor": "white",
            "gridcolor": "#DFE8F3",
            "gridwidth": 2,
            "linecolor": "#EBF0F8",
            "showbackground": true,
            "ticks": "",
            "zerolinecolor": "#EBF0F8"
           },
           "zaxis": {
            "backgroundcolor": "white",
            "gridcolor": "#DFE8F3",
            "gridwidth": 2,
            "linecolor": "#EBF0F8",
            "showbackground": true,
            "ticks": "",
            "zerolinecolor": "#EBF0F8"
           }
          },
          "shapedefaults": {
           "line": {
            "color": "#2a3f5f"
           }
          },
          "ternary": {
           "aaxis": {
            "gridcolor": "#DFE8F3",
            "linecolor": "#A2B1C6",
            "ticks": ""
           },
           "baxis": {
            "gridcolor": "#DFE8F3",
            "linecolor": "#A2B1C6",
            "ticks": ""
           },
           "bgcolor": "white",
           "caxis": {
            "gridcolor": "#DFE8F3",
            "linecolor": "#A2B1C6",
            "ticks": ""
           }
          },
          "title": {
           "x": 0.05
          },
          "xaxis": {
           "automargin": true,
           "gridcolor": "#EBF0F8",
           "linecolor": "#EBF0F8",
           "ticks": "",
           "title": {
            "standoff": 15
           },
           "zerolinecolor": "#EBF0F8",
           "zerolinewidth": 2
          },
          "yaxis": {
           "automargin": true,
           "gridcolor": "#EBF0F8",
           "linecolor": "#EBF0F8",
           "ticks": "",
           "title": {
            "standoff": 15
           },
           "zerolinecolor": "#EBF0F8",
           "zerolinewidth": 2
          }
         }
        },
        "title": {
         "text": "Life Expectancy of Top 10 Countries"
        },
        "xaxis": {
         "anchor": "y",
         "categoryarray": [
          "HKG",
          "JPN",
          "ITA",
          "ESP",
          "CHE",
          "ISL",
          "FRA",
          "SGP",
          "SWE",
          "AUS"
         ],
         "categoryorder": "array",
         "domain": [
          0,
          1
         ],
         "title": {
          "text": "country_code"
         }
        },
        "yaxis": {
         "anchor": "x",
         "domain": [
          0,
          1
         ],
         "title": {
          "text": "sum of life_expectancy"
         }
        }
       }
      },
      "text/html": [
       "<div>                            <div id=\"e51ab5d1-2c71-4584-9d07-81bb2c14be84\" class=\"plotly-graph-div\" style=\"height:525px; width:100%;\"></div>            <script type=\"text/javascript\">                require([\"plotly\"], function(Plotly) {                    window.PLOTLYENV=window.PLOTLYENV || {};                                    if (document.getElementById(\"e51ab5d1-2c71-4584-9d07-81bb2c14be84\")) {                    Plotly.newPlot(                        \"e51ab5d1-2c71-4584-9d07-81bb2c14be84\",                        [{\"alignmentgroup\":\"True\",\"bingroup\":\"x\",\"histfunc\":\"sum\",\"hovertemplate\":\"country_code=%{x}<br>sum of life_expectancy=%{y}<extra></extra>\",\"legendgroup\":\"HKG\",\"marker\":{\"color\":\"#636efa\",\"pattern\":{\"shape\":\"\"}},\"name\":\"HKG\",\"offsetgroup\":\"HKG\",\"orientation\":\"v\",\"showlegend\":true,\"texttemplate\":\"%{value}\",\"x\":[\"HKG\"],\"xaxis\":\"x\",\"y\":[84.27804878],\"yaxis\":\"y\",\"type\":\"histogram\"},{\"alignmentgroup\":\"True\",\"bingroup\":\"x\",\"histfunc\":\"sum\",\"hovertemplate\":\"country_code=%{x}<br>sum of life_expectancy=%{y}<extra></extra>\",\"legendgroup\":\"JPN\",\"marker\":{\"color\":\"#EF553B\",\"pattern\":{\"shape\":\"\"}},\"name\":\"JPN\",\"offsetgroup\":\"JPN\",\"orientation\":\"v\",\"showlegend\":true,\"texttemplate\":\"%{value}\",\"x\":[\"JPN\"],\"xaxis\":\"x\",\"y\":[83.84365854],\"yaxis\":\"y\",\"type\":\"histogram\"},{\"alignmentgroup\":\"True\",\"bingroup\":\"x\",\"histfunc\":\"sum\",\"hovertemplate\":\"country_code=%{x}<br>sum of life_expectancy=%{y}<extra></extra>\",\"legendgroup\":\"ITA\",\"marker\":{\"color\":\"#00cc96\",\"pattern\":{\"shape\":\"\"}},\"name\":\"ITA\",\"offsetgroup\":\"ITA\",\"orientation\":\"v\",\"showlegend\":true,\"texttemplate\":\"%{value}\",\"x\":[\"ITA\"],\"xaxis\":\"x\",\"y\":[83.4902439],\"yaxis\":\"y\",\"type\":\"histogram\"},{\"alignmentgroup\":\"True\",\"bingroup\":\"x\",\"histfunc\":\"sum\",\"hovertemplate\":\"country_code=%{x}<br>sum of life_expectancy=%{y}<extra></extra>\",\"legendgroup\":\"ESP\",\"marker\":{\"color\":\"#ab63fa\",\"pattern\":{\"shape\":\"\"}},\"name\":\"ESP\",\"offsetgroup\":\"ESP\",\"orientation\":\"v\",\"showlegend\":true,\"texttemplate\":\"%{value}\",\"x\":[\"ESP\"],\"xaxis\":\"x\",\"y\":[83.3804878],\"yaxis\":\"y\",\"type\":\"histogram\"},{\"alignmentgroup\":\"True\",\"bingroup\":\"x\",\"histfunc\":\"sum\",\"hovertemplate\":\"country_code=%{x}<br>sum of life_expectancy=%{y}<extra></extra>\",\"legendgroup\":\"CHE\",\"marker\":{\"color\":\"#FFA15A\",\"pattern\":{\"shape\":\"\"}},\"name\":\"CHE\",\"offsetgroup\":\"CHE\",\"orientation\":\"v\",\"showlegend\":true,\"texttemplate\":\"%{value}\",\"x\":[\"CHE\"],\"xaxis\":\"x\",\"y\":[83.19756098],\"yaxis\":\"y\",\"type\":\"histogram\"},{\"alignmentgroup\":\"True\",\"bingroup\":\"x\",\"histfunc\":\"sum\",\"hovertemplate\":\"country_code=%{x}<br>sum of life_expectancy=%{y}<extra></extra>\",\"legendgroup\":\"ISL\",\"marker\":{\"color\":\"#19d3f3\",\"pattern\":{\"shape\":\"\"}},\"name\":\"ISL\",\"offsetgroup\":\"ISL\",\"orientation\":\"v\",\"showlegend\":true,\"texttemplate\":\"%{value}\",\"x\":[\"ISL\"],\"xaxis\":\"x\",\"y\":[82.86097561],\"yaxis\":\"y\",\"type\":\"histogram\"},{\"alignmentgroup\":\"True\",\"bingroup\":\"x\",\"histfunc\":\"sum\",\"hovertemplate\":\"country_code=%{x}<br>sum of life_expectancy=%{y}<extra></extra>\",\"legendgroup\":\"FRA\",\"marker\":{\"color\":\"#FF6692\",\"pattern\":{\"shape\":\"\"}},\"name\":\"FRA\",\"offsetgroup\":\"FRA\",\"orientation\":\"v\",\"showlegend\":true,\"texttemplate\":\"%{value}\",\"x\":[\"FRA\"],\"xaxis\":\"x\",\"y\":[82.67073171],\"yaxis\":\"y\",\"type\":\"histogram\"},{\"alignmentgroup\":\"True\",\"bingroup\":\"x\",\"histfunc\":\"sum\",\"hovertemplate\":\"country_code=%{x}<br>sum of life_expectancy=%{y}<extra></extra>\",\"legendgroup\":\"SGP\",\"marker\":{\"color\":\"#B6E880\",\"pattern\":{\"shape\":\"\"}},\"name\":\"SGP\",\"offsetgroup\":\"SGP\",\"orientation\":\"v\",\"showlegend\":true,\"texttemplate\":\"%{value}\",\"x\":[\"SGP\"],\"xaxis\":\"x\",\"y\":[82.59512195],\"yaxis\":\"y\",\"type\":\"histogram\"},{\"alignmentgroup\":\"True\",\"bingroup\":\"x\",\"histfunc\":\"sum\",\"hovertemplate\":\"country_code=%{x}<br>sum of life_expectancy=%{y}<extra></extra>\",\"legendgroup\":\"SWE\",\"marker\":{\"color\":\"#FF97FF\",\"pattern\":{\"shape\":\"\"}},\"name\":\"SWE\",\"offsetgroup\":\"SWE\",\"orientation\":\"v\",\"showlegend\":true,\"texttemplate\":\"%{value}\",\"x\":[\"SWE\"],\"xaxis\":\"x\",\"y\":[82.55121951],\"yaxis\":\"y\",\"type\":\"histogram\"},{\"alignmentgroup\":\"True\",\"bingroup\":\"x\",\"histfunc\":\"sum\",\"hovertemplate\":\"country_code=%{x}<br>sum of life_expectancy=%{y}<extra></extra>\",\"legendgroup\":\"AUS\",\"marker\":{\"color\":\"#FECB52\",\"pattern\":{\"shape\":\"\"}},\"name\":\"AUS\",\"offsetgroup\":\"AUS\",\"orientation\":\"v\",\"showlegend\":true,\"texttemplate\":\"%{value}\",\"x\":[\"AUS\"],\"xaxis\":\"x\",\"y\":[82.45121951],\"yaxis\":\"y\",\"type\":\"histogram\"}],                        {\"template\":{\"data\":{\"barpolar\":[{\"marker\":{\"line\":{\"color\":\"white\",\"width\":0.5},\"pattern\":{\"fillmode\":\"overlay\",\"size\":10,\"solidity\":0.2}},\"type\":\"barpolar\"}],\"bar\":[{\"error_x\":{\"color\":\"#2a3f5f\"},\"error_y\":{\"color\":\"#2a3f5f\"},\"marker\":{\"line\":{\"color\":\"white\",\"width\":0.5},\"pattern\":{\"fillmode\":\"overlay\",\"size\":10,\"solidity\":0.2}},\"type\":\"bar\"}],\"carpet\":[{\"aaxis\":{\"endlinecolor\":\"#2a3f5f\",\"gridcolor\":\"#C8D4E3\",\"linecolor\":\"#C8D4E3\",\"minorgridcolor\":\"#C8D4E3\",\"startlinecolor\":\"#2a3f5f\"},\"baxis\":{\"endlinecolor\":\"#2a3f5f\",\"gridcolor\":\"#C8D4E3\",\"linecolor\":\"#C8D4E3\",\"minorgridcolor\":\"#C8D4E3\",\"startlinecolor\":\"#2a3f5f\"},\"type\":\"carpet\"}],\"choropleth\":[{\"colorbar\":{\"outlinewidth\":0,\"ticks\":\"\"},\"type\":\"choropleth\"}],\"contourcarpet\":[{\"colorbar\":{\"outlinewidth\":0,\"ticks\":\"\"},\"type\":\"contourcarpet\"}],\"contour\":[{\"colorbar\":{\"outlinewidth\":0,\"ticks\":\"\"},\"colorscale\":[[0.0,\"#0d0887\"],[0.1111111111111111,\"#46039f\"],[0.2222222222222222,\"#7201a8\"],[0.3333333333333333,\"#9c179e\"],[0.4444444444444444,\"#bd3786\"],[0.5555555555555556,\"#d8576b\"],[0.6666666666666666,\"#ed7953\"],[0.7777777777777778,\"#fb9f3a\"],[0.8888888888888888,\"#fdca26\"],[1.0,\"#f0f921\"]],\"type\":\"contour\"}],\"heatmapgl\":[{\"colorbar\":{\"outlinewidth\":0,\"ticks\":\"\"},\"colorscale\":[[0.0,\"#0d0887\"],[0.1111111111111111,\"#46039f\"],[0.2222222222222222,\"#7201a8\"],[0.3333333333333333,\"#9c179e\"],[0.4444444444444444,\"#bd3786\"],[0.5555555555555556,\"#d8576b\"],[0.6666666666666666,\"#ed7953\"],[0.7777777777777778,\"#fb9f3a\"],[0.8888888888888888,\"#fdca26\"],[1.0,\"#f0f921\"]],\"type\":\"heatmapgl\"}],\"heatmap\":[{\"colorbar\":{\"outlinewidth\":0,\"ticks\":\"\"},\"colorscale\":[[0.0,\"#0d0887\"],[0.1111111111111111,\"#46039f\"],[0.2222222222222222,\"#7201a8\"],[0.3333333333333333,\"#9c179e\"],[0.4444444444444444,\"#bd3786\"],[0.5555555555555556,\"#d8576b\"],[0.6666666666666666,\"#ed7953\"],[0.7777777777777778,\"#fb9f3a\"],[0.8888888888888888,\"#fdca26\"],[1.0,\"#f0f921\"]],\"type\":\"heatmap\"}],\"histogram2dcontour\":[{\"colorbar\":{\"outlinewidth\":0,\"ticks\":\"\"},\"colorscale\":[[0.0,\"#0d0887\"],[0.1111111111111111,\"#46039f\"],[0.2222222222222222,\"#7201a8\"],[0.3333333333333333,\"#9c179e\"],[0.4444444444444444,\"#bd3786\"],[0.5555555555555556,\"#d8576b\"],[0.6666666666666666,\"#ed7953\"],[0.7777777777777778,\"#fb9f3a\"],[0.8888888888888888,\"#fdca26\"],[1.0,\"#f0f921\"]],\"type\":\"histogram2dcontour\"}],\"histogram2d\":[{\"colorbar\":{\"outlinewidth\":0,\"ticks\":\"\"},\"colorscale\":[[0.0,\"#0d0887\"],[0.1111111111111111,\"#46039f\"],[0.2222222222222222,\"#7201a8\"],[0.3333333333333333,\"#9c179e\"],[0.4444444444444444,\"#bd3786\"],[0.5555555555555556,\"#d8576b\"],[0.6666666666666666,\"#ed7953\"],[0.7777777777777778,\"#fb9f3a\"],[0.8888888888888888,\"#fdca26\"],[1.0,\"#f0f921\"]],\"type\":\"histogram2d\"}],\"histogram\":[{\"marker\":{\"pattern\":{\"fillmode\":\"overlay\",\"size\":10,\"solidity\":0.2}},\"type\":\"histogram\"}],\"mesh3d\":[{\"colorbar\":{\"outlinewidth\":0,\"ticks\":\"\"},\"type\":\"mesh3d\"}],\"parcoords\":[{\"line\":{\"colorbar\":{\"outlinewidth\":0,\"ticks\":\"\"}},\"type\":\"parcoords\"}],\"pie\":[{\"automargin\":true,\"type\":\"pie\"}],\"scatter3d\":[{\"line\":{\"colorbar\":{\"outlinewidth\":0,\"ticks\":\"\"}},\"marker\":{\"colorbar\":{\"outlinewidth\":0,\"ticks\":\"\"}},\"type\":\"scatter3d\"}],\"scattercarpet\":[{\"marker\":{\"colorbar\":{\"outlinewidth\":0,\"ticks\":\"\"}},\"type\":\"scattercarpet\"}],\"scattergeo\":[{\"marker\":{\"colorbar\":{\"outlinewidth\":0,\"ticks\":\"\"}},\"type\":\"scattergeo\"}],\"scattergl\":[{\"marker\":{\"colorbar\":{\"outlinewidth\":0,\"ticks\":\"\"}},\"type\":\"scattergl\"}],\"scattermapbox\":[{\"marker\":{\"colorbar\":{\"outlinewidth\":0,\"ticks\":\"\"}},\"type\":\"scattermapbox\"}],\"scatterpolargl\":[{\"marker\":{\"colorbar\":{\"outlinewidth\":0,\"ticks\":\"\"}},\"type\":\"scatterpolargl\"}],\"scatterpolar\":[{\"marker\":{\"colorbar\":{\"outlinewidth\":0,\"ticks\":\"\"}},\"type\":\"scatterpolar\"}],\"scatter\":[{\"marker\":{\"colorbar\":{\"outlinewidth\":0,\"ticks\":\"\"}},\"type\":\"scatter\"}],\"scatterternary\":[{\"marker\":{\"colorbar\":{\"outlinewidth\":0,\"ticks\":\"\"}},\"type\":\"scatterternary\"}],\"surface\":[{\"colorbar\":{\"outlinewidth\":0,\"ticks\":\"\"},\"colorscale\":[[0.0,\"#0d0887\"],[0.1111111111111111,\"#46039f\"],[0.2222222222222222,\"#7201a8\"],[0.3333333333333333,\"#9c179e\"],[0.4444444444444444,\"#bd3786\"],[0.5555555555555556,\"#d8576b\"],[0.6666666666666666,\"#ed7953\"],[0.7777777777777778,\"#fb9f3a\"],[0.8888888888888888,\"#fdca26\"],[1.0,\"#f0f921\"]],\"type\":\"surface\"}],\"table\":[{\"cells\":{\"fill\":{\"color\":\"#EBF0F8\"},\"line\":{\"color\":\"white\"}},\"header\":{\"fill\":{\"color\":\"#C8D4E3\"},\"line\":{\"color\":\"white\"}},\"type\":\"table\"}]},\"layout\":{\"annotationdefaults\":{\"arrowcolor\":\"#2a3f5f\",\"arrowhead\":0,\"arrowwidth\":1},\"autotypenumbers\":\"strict\",\"coloraxis\":{\"colorbar\":{\"outlinewidth\":0,\"ticks\":\"\"}},\"colorscale\":{\"diverging\":[[0,\"#8e0152\"],[0.1,\"#c51b7d\"],[0.2,\"#de77ae\"],[0.3,\"#f1b6da\"],[0.4,\"#fde0ef\"],[0.5,\"#f7f7f7\"],[0.6,\"#e6f5d0\"],[0.7,\"#b8e186\"],[0.8,\"#7fbc41\"],[0.9,\"#4d9221\"],[1,\"#276419\"]],\"sequential\":[[0.0,\"#0d0887\"],[0.1111111111111111,\"#46039f\"],[0.2222222222222222,\"#7201a8\"],[0.3333333333333333,\"#9c179e\"],[0.4444444444444444,\"#bd3786\"],[0.5555555555555556,\"#d8576b\"],[0.6666666666666666,\"#ed7953\"],[0.7777777777777778,\"#fb9f3a\"],[0.8888888888888888,\"#fdca26\"],[1.0,\"#f0f921\"]],\"sequentialminus\":[[0.0,\"#0d0887\"],[0.1111111111111111,\"#46039f\"],[0.2222222222222222,\"#7201a8\"],[0.3333333333333333,\"#9c179e\"],[0.4444444444444444,\"#bd3786\"],[0.5555555555555556,\"#d8576b\"],[0.6666666666666666,\"#ed7953\"],[0.7777777777777778,\"#fb9f3a\"],[0.8888888888888888,\"#fdca26\"],[1.0,\"#f0f921\"]]},\"colorway\":[\"#636efa\",\"#EF553B\",\"#00cc96\",\"#ab63fa\",\"#FFA15A\",\"#19d3f3\",\"#FF6692\",\"#B6E880\",\"#FF97FF\",\"#FECB52\"],\"font\":{\"color\":\"#2a3f5f\"},\"geo\":{\"bgcolor\":\"white\",\"lakecolor\":\"white\",\"landcolor\":\"white\",\"showlakes\":true,\"showland\":true,\"subunitcolor\":\"#C8D4E3\"},\"hoverlabel\":{\"align\":\"left\"},\"hovermode\":\"closest\",\"mapbox\":{\"style\":\"light\"},\"paper_bgcolor\":\"white\",\"plot_bgcolor\":\"white\",\"polar\":{\"angularaxis\":{\"gridcolor\":\"#EBF0F8\",\"linecolor\":\"#EBF0F8\",\"ticks\":\"\"},\"bgcolor\":\"white\",\"radialaxis\":{\"gridcolor\":\"#EBF0F8\",\"linecolor\":\"#EBF0F8\",\"ticks\":\"\"}},\"scene\":{\"xaxis\":{\"backgroundcolor\":\"white\",\"gridcolor\":\"#DFE8F3\",\"gridwidth\":2,\"linecolor\":\"#EBF0F8\",\"showbackground\":true,\"ticks\":\"\",\"zerolinecolor\":\"#EBF0F8\"},\"yaxis\":{\"backgroundcolor\":\"white\",\"gridcolor\":\"#DFE8F3\",\"gridwidth\":2,\"linecolor\":\"#EBF0F8\",\"showbackground\":true,\"ticks\":\"\",\"zerolinecolor\":\"#EBF0F8\"},\"zaxis\":{\"backgroundcolor\":\"white\",\"gridcolor\":\"#DFE8F3\",\"gridwidth\":2,\"linecolor\":\"#EBF0F8\",\"showbackground\":true,\"ticks\":\"\",\"zerolinecolor\":\"#EBF0F8\"}},\"shapedefaults\":{\"line\":{\"color\":\"#2a3f5f\"}},\"ternary\":{\"aaxis\":{\"gridcolor\":\"#DFE8F3\",\"linecolor\":\"#A2B1C6\",\"ticks\":\"\"},\"baxis\":{\"gridcolor\":\"#DFE8F3\",\"linecolor\":\"#A2B1C6\",\"ticks\":\"\"},\"bgcolor\":\"white\",\"caxis\":{\"gridcolor\":\"#DFE8F3\",\"linecolor\":\"#A2B1C6\",\"ticks\":\"\"}},\"title\":{\"x\":0.05},\"xaxis\":{\"automargin\":true,\"gridcolor\":\"#EBF0F8\",\"linecolor\":\"#EBF0F8\",\"ticks\":\"\",\"title\":{\"standoff\":15},\"zerolinecolor\":\"#EBF0F8\",\"zerolinewidth\":2},\"yaxis\":{\"automargin\":true,\"gridcolor\":\"#EBF0F8\",\"linecolor\":\"#EBF0F8\",\"ticks\":\"\",\"title\":{\"standoff\":15},\"zerolinecolor\":\"#EBF0F8\",\"zerolinewidth\":2}}},\"xaxis\":{\"anchor\":\"y\",\"domain\":[0.0,1.0],\"title\":{\"text\":\"country_code\"},\"categoryorder\":\"array\",\"categoryarray\":[\"HKG\",\"JPN\",\"ITA\",\"ESP\",\"CHE\",\"ISL\",\"FRA\",\"SGP\",\"SWE\",\"AUS\"]},\"yaxis\":{\"anchor\":\"x\",\"domain\":[0.0,1.0],\"title\":{\"text\":\"sum of life_expectancy\"}},\"legend\":{\"title\":{\"text\":\"country_code\"},\"tracegroupgap\":0},\"title\":{\"text\":\"Life Expectancy of Top 10 Countries\"},\"barmode\":\"relative\"},                        {\"responsive\": true}                    ).then(function(){\n",
       "                            \n",
       "var gd = document.getElementById('e51ab5d1-2c71-4584-9d07-81bb2c14be84');\n",
       "var x = new MutationObserver(function (mutations, observer) {{\n",
       "        var display = window.getComputedStyle(gd).display;\n",
       "        if (!display || display === 'none') {{\n",
       "            console.log([gd, 'removed!']);\n",
       "            Plotly.purge(gd);\n",
       "            observer.disconnect();\n",
       "        }}\n",
       "}});\n",
       "\n",
       "// Listen for the removal of the full notebook cells\n",
       "var notebookContainer = gd.closest('#notebook-container');\n",
       "if (notebookContainer) {{\n",
       "    x.observe(notebookContainer, {childList: true});\n",
       "}}\n",
       "\n",
       "// Listen for the clearing of the current output cell\n",
       "var outputEl = gd.closest('.output');\n",
       "if (outputEl) {{\n",
       "    x.observe(outputEl, {childList: true});\n",
       "}}\n",
       "\n",
       "                        })                };                });            </script>        </div>"
      ]
     },
     "metadata": {},
     "output_type": "display_data"
    }
   ],
   "source": [
    "# histogram plot - 'Life Expectancy of Top 10 Countries'\n",
    "pop2015 = px.histogram(population2015.sort_values(by ='life_expectancy', ascending = False).head(10).reset_index(), x ='country_code', y = 'life_expectancy', template = 'plotly_white', text_auto = True, color = 'country_code', title = 'Life Expectancy of Top 10 Countries')\n",
    "pop2015.show()"
   ]
  },
  {
   "cell_type": "code",
   "execution_count": 116,
   "id": "121397db",
   "metadata": {},
   "outputs": [
    {
     "data": {
      "text/html": [
       "<div>\n",
       "<style scoped>\n",
       "    .dataframe tbody tr th:only-of-type {\n",
       "        vertical-align: middle;\n",
       "    }\n",
       "\n",
       "    .dataframe tbody tr th {\n",
       "        vertical-align: top;\n",
       "    }\n",
       "\n",
       "    .dataframe thead th {\n",
       "        text-align: right;\n",
       "    }\n",
       "</style>\n",
       "<table border=\"1\" class=\"dataframe\">\n",
       "  <thead>\n",
       "    <tr style=\"text-align: right;\">\n",
       "      <th></th>\n",
       "      <th>code</th>\n",
       "      <th>country_name</th>\n",
       "      <th>continent</th>\n",
       "      <th>region</th>\n",
       "      <th>surface_area</th>\n",
       "      <th>indep_year</th>\n",
       "      <th>local_name</th>\n",
       "      <th>gov_form</th>\n",
       "      <th>capital</th>\n",
       "      <th>cap_long</th>\n",
       "      <th>...</th>\n",
       "      <th>econ_id</th>\n",
       "      <th>year</th>\n",
       "      <th>income_group</th>\n",
       "      <th>gdp_percapita</th>\n",
       "      <th>gross_savings</th>\n",
       "      <th>inflation_rate</th>\n",
       "      <th>total_investment</th>\n",
       "      <th>unemployment_rate</th>\n",
       "      <th>exports</th>\n",
       "      <th>imports</th>\n",
       "    </tr>\n",
       "  </thead>\n",
       "  <tbody>\n",
       "    <tr>\n",
       "      <th>1</th>\n",
       "      <td>AFG</td>\n",
       "      <td>Afghanistan</td>\n",
       "      <td>Asia</td>\n",
       "      <td>Southern and Central Asia</td>\n",
       "      <td>652090</td>\n",
       "      <td>1919</td>\n",
       "      <td>Afganistan and Afqanestan</td>\n",
       "      <td>Islamic Emirate</td>\n",
       "      <td>Kabul</td>\n",
       "      <td>69.17610</td>\n",
       "      <td>...</td>\n",
       "      <td>2</td>\n",
       "      <td>2015</td>\n",
       "      <td>Low income</td>\n",
       "      <td>615.091</td>\n",
       "      <td>21.466</td>\n",
       "      <td>-1.549</td>\n",
       "      <td>18.602</td>\n",
       "      <td>0</td>\n",
       "      <td>-49.110</td>\n",
       "      <td>-7.294</td>\n",
       "    </tr>\n",
       "    <tr>\n",
       "      <th>3</th>\n",
       "      <td>NLD</td>\n",
       "      <td>Netherlands</td>\n",
       "      <td>Europe</td>\n",
       "      <td>Western Europe</td>\n",
       "      <td>41526</td>\n",
       "      <td>1581</td>\n",
       "      <td>Nederland</td>\n",
       "      <td>Constitutional Monarchy</td>\n",
       "      <td>Amsterdam</td>\n",
       "      <td>4.89095</td>\n",
       "      <td>...</td>\n",
       "      <td>254</td>\n",
       "      <td>2015</td>\n",
       "      <td>High income</td>\n",
       "      <td>44322.830</td>\n",
       "      <td>27.854</td>\n",
       "      <td>0.220</td>\n",
       "      <td>19.272</td>\n",
       "      <td>7</td>\n",
       "      <td>4.957</td>\n",
       "      <td>5.749</td>\n",
       "    </tr>\n",
       "    <tr>\n",
       "      <th>5</th>\n",
       "      <td>ALB</td>\n",
       "      <td>Albania</td>\n",
       "      <td>Europe</td>\n",
       "      <td>Southern Europe</td>\n",
       "      <td>28748</td>\n",
       "      <td>1912</td>\n",
       "      <td>Shqiperia</td>\n",
       "      <td>Republic</td>\n",
       "      <td>Tirane</td>\n",
       "      <td>19.81720</td>\n",
       "      <td>...</td>\n",
       "      <td>6</td>\n",
       "      <td>2015</td>\n",
       "      <td>Upper middle income</td>\n",
       "      <td>3943.220</td>\n",
       "      <td>13.840</td>\n",
       "      <td>1.896</td>\n",
       "      <td>24.598</td>\n",
       "      <td>17</td>\n",
       "      <td>1.827</td>\n",
       "      <td>0.574</td>\n",
       "    </tr>\n",
       "    <tr>\n",
       "      <th>7</th>\n",
       "      <td>DZA</td>\n",
       "      <td>Algeria</td>\n",
       "      <td>Africa</td>\n",
       "      <td>N or thern Africa</td>\n",
       "      <td>2381740</td>\n",
       "      <td>1962</td>\n",
       "      <td>Al Jaza or   or  Algerie</td>\n",
       "      <td>Republic</td>\n",
       "      <td>Algiers</td>\n",
       "      <td>3.05097</td>\n",
       "      <td>...</td>\n",
       "      <td>96</td>\n",
       "      <td>2015</td>\n",
       "      <td>Upper middle income</td>\n",
       "      <td>4123.300</td>\n",
       "      <td>34.738</td>\n",
       "      <td>4.784</td>\n",
       "      <td>51.299</td>\n",
       "      <td>11</td>\n",
       "      <td>5.733</td>\n",
       "      <td>-7.507</td>\n",
       "    </tr>\n",
       "    <tr>\n",
       "      <th>9</th>\n",
       "      <td>AGO</td>\n",
       "      <td>Angola</td>\n",
       "      <td>Africa</td>\n",
       "      <td>Central Africa</td>\n",
       "      <td>1246700</td>\n",
       "      <td>1975</td>\n",
       "      <td>Angola</td>\n",
       "      <td>Republic</td>\n",
       "      <td>Luanda</td>\n",
       "      <td>13.24200</td>\n",
       "      <td>...</td>\n",
       "      <td>4</td>\n",
       "      <td>2015</td>\n",
       "      <td>Upper middle income</td>\n",
       "      <td>3876.200</td>\n",
       "      <td>-0.425</td>\n",
       "      <td>10.287</td>\n",
       "      <td>9.552</td>\n",
       "      <td>0</td>\n",
       "      <td>6.721</td>\n",
       "      <td>-21.778</td>\n",
       "    </tr>\n",
       "  </tbody>\n",
       "</table>\n",
       "<p>5 rows × 21 columns</p>\n",
       "</div>"
      ],
      "text/plain": [
       "  code country_name continent                     region  surface_area  \\\n",
       "1  AFG  Afghanistan      Asia  Southern and Central Asia        652090   \n",
       "3  NLD  Netherlands    Europe             Western Europe         41526   \n",
       "5  ALB      Albania    Europe            Southern Europe         28748   \n",
       "7  DZA      Algeria    Africa          N or thern Africa       2381740   \n",
       "9  AGO       Angola    Africa             Central Africa       1246700   \n",
       "\n",
       "   indep_year                 local_name                 gov_form    capital  \\\n",
       "1        1919  Afganistan and Afqanestan          Islamic Emirate      Kabul   \n",
       "3        1581                  Nederland  Constitutional Monarchy  Amsterdam   \n",
       "5        1912                  Shqiperia                 Republic     Tirane   \n",
       "7        1962   Al Jaza or   or  Algerie                 Republic    Algiers   \n",
       "9        1975                     Angola                 Republic     Luanda   \n",
       "\n",
       "   cap_long  ...  econ_id  year         income_group gdp_percapita  \\\n",
       "1  69.17610  ...        2  2015           Low income       615.091   \n",
       "3   4.89095  ...      254  2015          High income     44322.830   \n",
       "5  19.81720  ...        6  2015  Upper middle income      3943.220   \n",
       "7   3.05097  ...       96  2015  Upper middle income      4123.300   \n",
       "9  13.24200  ...        4  2015  Upper middle income      3876.200   \n",
       "\n",
       "   gross_savings  inflation_rate  total_investment  unemployment_rate  \\\n",
       "1         21.466          -1.549            18.602                  0   \n",
       "3         27.854           0.220            19.272                  7   \n",
       "5         13.840           1.896            24.598                 17   \n",
       "7         34.738           4.784            51.299                 11   \n",
       "9         -0.425          10.287             9.552                  0   \n",
       "\n",
       "   exports  imports  \n",
       "1  -49.110   -7.294  \n",
       "3    4.957    5.749  \n",
       "5    1.827    0.574  \n",
       "7    5.733   -7.507  \n",
       "9    6.721  -21.778  \n",
       "\n",
       "[5 rows x 21 columns]"
      ]
     },
     "execution_count": 116,
     "metadata": {},
     "output_type": "execute_result"
    }
   ],
   "source": [
    "# creating a duplicate dataframe of 'df_nation'\n",
    "df_eco2015 = df_nation_economy2015 \n",
    "df_eco2015.head()"
   ]
  },
  {
   "cell_type": "code",
   "execution_count": 117,
   "id": "39121b02",
   "metadata": {},
   "outputs": [
    {
     "data": {
      "text/html": [
       "<div>\n",
       "<style scoped>\n",
       "    .dataframe tbody tr th:only-of-type {\n",
       "        vertical-align: middle;\n",
       "    }\n",
       "\n",
       "    .dataframe tbody tr th {\n",
       "        vertical-align: top;\n",
       "    }\n",
       "\n",
       "    .dataframe thead th {\n",
       "        text-align: right;\n",
       "    }\n",
       "</style>\n",
       "<table border=\"1\" class=\"dataframe\">\n",
       "  <thead>\n",
       "    <tr style=\"text-align: right;\">\n",
       "      <th></th>\n",
       "      <th>country_code</th>\n",
       "      <th>country_name</th>\n",
       "      <th>continent</th>\n",
       "      <th>region</th>\n",
       "      <th>surface_area</th>\n",
       "      <th>indep_year</th>\n",
       "      <th>local_name</th>\n",
       "      <th>gov_form</th>\n",
       "      <th>capital</th>\n",
       "      <th>cap_long</th>\n",
       "      <th>...</th>\n",
       "      <th>econ_id</th>\n",
       "      <th>year</th>\n",
       "      <th>income_group</th>\n",
       "      <th>gdp_percapita</th>\n",
       "      <th>gross_savings</th>\n",
       "      <th>inflation_rate</th>\n",
       "      <th>total_investment</th>\n",
       "      <th>unemployment_rate</th>\n",
       "      <th>exports</th>\n",
       "      <th>imports</th>\n",
       "    </tr>\n",
       "  </thead>\n",
       "  <tbody>\n",
       "    <tr>\n",
       "      <th>1</th>\n",
       "      <td>AFG</td>\n",
       "      <td>Afghanistan</td>\n",
       "      <td>Asia</td>\n",
       "      <td>Southern and Central Asia</td>\n",
       "      <td>652090</td>\n",
       "      <td>1919</td>\n",
       "      <td>Afganistan and Afqanestan</td>\n",
       "      <td>Islamic Emirate</td>\n",
       "      <td>Kabul</td>\n",
       "      <td>69.17610</td>\n",
       "      <td>...</td>\n",
       "      <td>2</td>\n",
       "      <td>2015</td>\n",
       "      <td>Low income</td>\n",
       "      <td>615.091</td>\n",
       "      <td>21.466</td>\n",
       "      <td>-1.549</td>\n",
       "      <td>18.602</td>\n",
       "      <td>0</td>\n",
       "      <td>-49.110</td>\n",
       "      <td>-7.294</td>\n",
       "    </tr>\n",
       "    <tr>\n",
       "      <th>3</th>\n",
       "      <td>NLD</td>\n",
       "      <td>Netherlands</td>\n",
       "      <td>Europe</td>\n",
       "      <td>Western Europe</td>\n",
       "      <td>41526</td>\n",
       "      <td>1581</td>\n",
       "      <td>Nederland</td>\n",
       "      <td>Constitutional Monarchy</td>\n",
       "      <td>Amsterdam</td>\n",
       "      <td>4.89095</td>\n",
       "      <td>...</td>\n",
       "      <td>254</td>\n",
       "      <td>2015</td>\n",
       "      <td>High income</td>\n",
       "      <td>44322.830</td>\n",
       "      <td>27.854</td>\n",
       "      <td>0.220</td>\n",
       "      <td>19.272</td>\n",
       "      <td>7</td>\n",
       "      <td>4.957</td>\n",
       "      <td>5.749</td>\n",
       "    </tr>\n",
       "    <tr>\n",
       "      <th>5</th>\n",
       "      <td>ALB</td>\n",
       "      <td>Albania</td>\n",
       "      <td>Europe</td>\n",
       "      <td>Southern Europe</td>\n",
       "      <td>28748</td>\n",
       "      <td>1912</td>\n",
       "      <td>Shqiperia</td>\n",
       "      <td>Republic</td>\n",
       "      <td>Tirane</td>\n",
       "      <td>19.81720</td>\n",
       "      <td>...</td>\n",
       "      <td>6</td>\n",
       "      <td>2015</td>\n",
       "      <td>Upper middle income</td>\n",
       "      <td>3943.220</td>\n",
       "      <td>13.840</td>\n",
       "      <td>1.896</td>\n",
       "      <td>24.598</td>\n",
       "      <td>17</td>\n",
       "      <td>1.827</td>\n",
       "      <td>0.574</td>\n",
       "    </tr>\n",
       "    <tr>\n",
       "      <th>7</th>\n",
       "      <td>DZA</td>\n",
       "      <td>Algeria</td>\n",
       "      <td>Africa</td>\n",
       "      <td>N or thern Africa</td>\n",
       "      <td>2381740</td>\n",
       "      <td>1962</td>\n",
       "      <td>Al Jaza or   or  Algerie</td>\n",
       "      <td>Republic</td>\n",
       "      <td>Algiers</td>\n",
       "      <td>3.05097</td>\n",
       "      <td>...</td>\n",
       "      <td>96</td>\n",
       "      <td>2015</td>\n",
       "      <td>Upper middle income</td>\n",
       "      <td>4123.300</td>\n",
       "      <td>34.738</td>\n",
       "      <td>4.784</td>\n",
       "      <td>51.299</td>\n",
       "      <td>11</td>\n",
       "      <td>5.733</td>\n",
       "      <td>-7.507</td>\n",
       "    </tr>\n",
       "    <tr>\n",
       "      <th>9</th>\n",
       "      <td>AGO</td>\n",
       "      <td>Angola</td>\n",
       "      <td>Africa</td>\n",
       "      <td>Central Africa</td>\n",
       "      <td>1246700</td>\n",
       "      <td>1975</td>\n",
       "      <td>Angola</td>\n",
       "      <td>Republic</td>\n",
       "      <td>Luanda</td>\n",
       "      <td>13.24200</td>\n",
       "      <td>...</td>\n",
       "      <td>4</td>\n",
       "      <td>2015</td>\n",
       "      <td>Upper middle income</td>\n",
       "      <td>3876.200</td>\n",
       "      <td>-0.425</td>\n",
       "      <td>10.287</td>\n",
       "      <td>9.552</td>\n",
       "      <td>0</td>\n",
       "      <td>6.721</td>\n",
       "      <td>-21.778</td>\n",
       "    </tr>\n",
       "  </tbody>\n",
       "</table>\n",
       "<p>5 rows × 21 columns</p>\n",
       "</div>"
      ],
      "text/plain": [
       "  country_code country_name continent                     region  \\\n",
       "1          AFG  Afghanistan      Asia  Southern and Central Asia   \n",
       "3          NLD  Netherlands    Europe             Western Europe   \n",
       "5          ALB      Albania    Europe            Southern Europe   \n",
       "7          DZA      Algeria    Africa          N or thern Africa   \n",
       "9          AGO       Angola    Africa             Central Africa   \n",
       "\n",
       "   surface_area  indep_year                 local_name  \\\n",
       "1        652090        1919  Afganistan and Afqanestan   \n",
       "3         41526        1581                  Nederland   \n",
       "5         28748        1912                  Shqiperia   \n",
       "7       2381740        1962   Al Jaza or   or  Algerie   \n",
       "9       1246700        1975                     Angola   \n",
       "\n",
       "                  gov_form    capital  cap_long  ...  econ_id  year  \\\n",
       "1          Islamic Emirate      Kabul  69.17610  ...        2  2015   \n",
       "3  Constitutional Monarchy  Amsterdam   4.89095  ...      254  2015   \n",
       "5                 Republic     Tirane  19.81720  ...        6  2015   \n",
       "7                 Republic    Algiers   3.05097  ...       96  2015   \n",
       "9                 Republic     Luanda  13.24200  ...        4  2015   \n",
       "\n",
       "          income_group gdp_percapita  gross_savings  inflation_rate  \\\n",
       "1           Low income       615.091         21.466          -1.549   \n",
       "3          High income     44322.830         27.854           0.220   \n",
       "5  Upper middle income      3943.220         13.840           1.896   \n",
       "7  Upper middle income      4123.300         34.738           4.784   \n",
       "9  Upper middle income      3876.200         -0.425          10.287   \n",
       "\n",
       "   total_investment  unemployment_rate  exports  imports  \n",
       "1            18.602                  0  -49.110   -7.294  \n",
       "3            19.272                  7    4.957    5.749  \n",
       "5            24.598                 17    1.827    0.574  \n",
       "7            51.299                 11    5.733   -7.507  \n",
       "9             9.552                  0    6.721  -21.778  \n",
       "\n",
       "[5 rows x 21 columns]"
      ]
     },
     "execution_count": 117,
     "metadata": {},
     "output_type": "execute_result"
    }
   ],
   "source": [
    "# renaming the column so as to perform merge function\n",
    "df_eco2015.rename(columns = {'code':'country_code'}, inplace = True)\n",
    "df_eco2015.head()"
   ]
  },
  {
   "cell_type": "code",
   "execution_count": 118,
   "id": "4cf498ee",
   "metadata": {},
   "outputs": [
    {
     "data": {
      "text/html": [
       "<div>\n",
       "<style scoped>\n",
       "    .dataframe tbody tr th:only-of-type {\n",
       "        vertical-align: middle;\n",
       "    }\n",
       "\n",
       "    .dataframe tbody tr th {\n",
       "        vertical-align: top;\n",
       "    }\n",
       "\n",
       "    .dataframe thead th {\n",
       "        text-align: right;\n",
       "    }\n",
       "</style>\n",
       "<table border=\"1\" class=\"dataframe\">\n",
       "  <thead>\n",
       "    <tr style=\"text-align: right;\">\n",
       "      <th></th>\n",
       "      <th>pop_id</th>\n",
       "      <th>country_code</th>\n",
       "      <th>year_x</th>\n",
       "      <th>fertility_rate</th>\n",
       "      <th>life_expectancy</th>\n",
       "      <th>size</th>\n",
       "      <th>country_name</th>\n",
       "      <th>continent</th>\n",
       "      <th>region</th>\n",
       "      <th>surface_area</th>\n",
       "      <th>...</th>\n",
       "      <th>econ_id</th>\n",
       "      <th>year_y</th>\n",
       "      <th>income_group</th>\n",
       "      <th>gdp_percapita</th>\n",
       "      <th>gross_savings</th>\n",
       "      <th>inflation_rate</th>\n",
       "      <th>total_investment</th>\n",
       "      <th>unemployment_rate</th>\n",
       "      <th>exports</th>\n",
       "      <th>imports</th>\n",
       "    </tr>\n",
       "  </thead>\n",
       "  <tbody>\n",
       "    <tr>\n",
       "      <th>0</th>\n",
       "      <td>1</td>\n",
       "      <td>AFG</td>\n",
       "      <td>2015</td>\n",
       "      <td>4.653</td>\n",
       "      <td>60.717171</td>\n",
       "      <td>32526562</td>\n",
       "      <td>Afghanistan</td>\n",
       "      <td>Asia</td>\n",
       "      <td>Southern and Central Asia</td>\n",
       "      <td>652090</td>\n",
       "      <td>...</td>\n",
       "      <td>2</td>\n",
       "      <td>2015</td>\n",
       "      <td>Low income</td>\n",
       "      <td>615.091</td>\n",
       "      <td>21.466</td>\n",
       "      <td>-1.549</td>\n",
       "      <td>18.602</td>\n",
       "      <td>0</td>\n",
       "      <td>-49.110</td>\n",
       "      <td>-7.294</td>\n",
       "    </tr>\n",
       "    <tr>\n",
       "      <th>1</th>\n",
       "      <td>11</td>\n",
       "      <td>AGO</td>\n",
       "      <td>2015</td>\n",
       "      <td>5.996</td>\n",
       "      <td>52.666098</td>\n",
       "      <td>25021974</td>\n",
       "      <td>Angola</td>\n",
       "      <td>Africa</td>\n",
       "      <td>Central Africa</td>\n",
       "      <td>1246700</td>\n",
       "      <td>...</td>\n",
       "      <td>4</td>\n",
       "      <td>2015</td>\n",
       "      <td>Upper middle income</td>\n",
       "      <td>3876.200</td>\n",
       "      <td>-0.425</td>\n",
       "      <td>10.287</td>\n",
       "      <td>9.552</td>\n",
       "      <td>0</td>\n",
       "      <td>6.721</td>\n",
       "      <td>-21.778</td>\n",
       "    </tr>\n",
       "    <tr>\n",
       "      <th>2</th>\n",
       "      <td>3</td>\n",
       "      <td>ALB</td>\n",
       "      <td>2015</td>\n",
       "      <td>1.793</td>\n",
       "      <td>78.014463</td>\n",
       "      <td>2889167</td>\n",
       "      <td>Albania</td>\n",
       "      <td>Europe</td>\n",
       "      <td>Southern Europe</td>\n",
       "      <td>28748</td>\n",
       "      <td>...</td>\n",
       "      <td>6</td>\n",
       "      <td>2015</td>\n",
       "      <td>Upper middle income</td>\n",
       "      <td>3943.220</td>\n",
       "      <td>13.840</td>\n",
       "      <td>1.896</td>\n",
       "      <td>24.598</td>\n",
       "      <td>17</td>\n",
       "      <td>1.827</td>\n",
       "      <td>0.574</td>\n",
       "    </tr>\n",
       "    <tr>\n",
       "      <th>3</th>\n",
       "      <td>408</td>\n",
       "      <td>ARE</td>\n",
       "      <td>2015</td>\n",
       "      <td>1.767</td>\n",
       "      <td>77.541244</td>\n",
       "      <td>9156963</td>\n",
       "      <td>United Arab Emirates</td>\n",
       "      <td>Asia</td>\n",
       "      <td>Middle East</td>\n",
       "      <td>83600</td>\n",
       "      <td>...</td>\n",
       "      <td>8</td>\n",
       "      <td>2015</td>\n",
       "      <td>High income</td>\n",
       "      <td>38649.910</td>\n",
       "      <td>34.106</td>\n",
       "      <td>4.070</td>\n",
       "      <td>27.477</td>\n",
       "      <td>0</td>\n",
       "      <td>7.320</td>\n",
       "      <td>2.170</td>\n",
       "    </tr>\n",
       "    <tr>\n",
       "      <th>4</th>\n",
       "      <td>15</td>\n",
       "      <td>ARG</td>\n",
       "      <td>2015</td>\n",
       "      <td>2.308</td>\n",
       "      <td>76.334220</td>\n",
       "      <td>43416755</td>\n",
       "      <td>Argentina</td>\n",
       "      <td>South America</td>\n",
       "      <td>South America</td>\n",
       "      <td>2780400</td>\n",
       "      <td>...</td>\n",
       "      <td>10</td>\n",
       "      <td>2015</td>\n",
       "      <td>Upper middle income</td>\n",
       "      <td>14643.920</td>\n",
       "      <td>14.111</td>\n",
       "      <td>0.000</td>\n",
       "      <td>16.890</td>\n",
       "      <td>0</td>\n",
       "      <td>-1.658</td>\n",
       "      <td>3.105</td>\n",
       "    </tr>\n",
       "  </tbody>\n",
       "</table>\n",
       "<p>5 rows × 26 columns</p>\n",
       "</div>"
      ],
      "text/plain": [
       "   pop_id country_code  year_x  fertility_rate  life_expectancy      size  \\\n",
       "0       1          AFG    2015           4.653        60.717171  32526562   \n",
       "1      11          AGO    2015           5.996        52.666098  25021974   \n",
       "2       3          ALB    2015           1.793        78.014463   2889167   \n",
       "3     408          ARE    2015           1.767        77.541244   9156963   \n",
       "4      15          ARG    2015           2.308        76.334220  43416755   \n",
       "\n",
       "           country_name      continent                     region  \\\n",
       "0           Afghanistan           Asia  Southern and Central Asia   \n",
       "1                Angola         Africa             Central Africa   \n",
       "2               Albania         Europe            Southern Europe   \n",
       "3  United Arab Emirates           Asia                Middle East   \n",
       "4             Argentina  South America              South America   \n",
       "\n",
       "   surface_area  ...  econ_id year_y         income_group gdp_percapita  \\\n",
       "0        652090  ...        2   2015           Low income       615.091   \n",
       "1       1246700  ...        4   2015  Upper middle income      3876.200   \n",
       "2         28748  ...        6   2015  Upper middle income      3943.220   \n",
       "3         83600  ...        8   2015          High income     38649.910   \n",
       "4       2780400  ...       10   2015  Upper middle income     14643.920   \n",
       "\n",
       "   gross_savings  inflation_rate  total_investment  unemployment_rate exports  \\\n",
       "0         21.466          -1.549            18.602                  0 -49.110   \n",
       "1         -0.425          10.287             9.552                  0   6.721   \n",
       "2         13.840           1.896            24.598                 17   1.827   \n",
       "3         34.106           4.070            27.477                  0   7.320   \n",
       "4         14.111           0.000            16.890                  0  -1.658   \n",
       "\n",
       "   imports  \n",
       "0   -7.294  \n",
       "1  -21.778  \n",
       "2    0.574  \n",
       "3    2.170  \n",
       "4    3.105  \n",
       "\n",
       "[5 rows x 26 columns]"
      ]
     },
     "execution_count": 118,
     "metadata": {},
     "output_type": "execute_result"
    }
   ],
   "source": [
    "# joining 'population2015' & 'df_eco2015' dataframe ON 'country_code'\n",
    "df_pop_eco2015 = pd.merge(population2015, df_eco2015, how = 'inner', on = 'country_code')\n",
    "df_pop_eco2015.head()"
   ]
  },
  {
   "cell_type": "code",
   "execution_count": 119,
   "id": "c32749b3",
   "metadata": {},
   "outputs": [
    {
     "data": {
      "application/vnd.plotly.v1+json": {
       "config": {
        "plotlyServerURL": "https://plot.ly"
       },
       "data": [
        {
         "hovertemplate": "gdp_percapita=%{x}<br>life_expectancy=%{y}<br>country_code=%{text}<extra></extra>",
         "legendgroup": "",
         "marker": {
          "color": "#636efa",
          "symbol": "circle"
         },
         "mode": "markers+text",
         "name": "",
         "orientation": "v",
         "showlegend": false,
         "text": [
          "AFG",
          "AGO",
          "ALB",
          "ARE",
          "ARG",
          "ARM",
          "ATG",
          "AUS",
          "AUT",
          "AZE",
          "BDI",
          "BEL",
          "BEN",
          "BFA",
          "BGD",
          "BGR",
          "BHR",
          "BHS",
          "BIH",
          "BLR",
          "BLZ",
          "BOL",
          "BRA",
          "BRB",
          "BRN",
          "BTN",
          "BWA",
          "CAF",
          "CAN",
          "CHE",
          "CHL",
          "CHN",
          "CIV",
          "CMR",
          "COD",
          "COG",
          "COL",
          "COM",
          "CPV",
          "CRI",
          "CYP",
          "CZE",
          "DEU",
          "DJI",
          "DMA",
          "DNK",
          "DOM",
          "DZA",
          "ECU",
          "EGY",
          "ERI",
          "ESP",
          "EST",
          "ETH",
          "FIN",
          "FJI",
          "FRA",
          "FSM",
          "GAB",
          "GBR",
          "GEO",
          "GHA",
          "GIN",
          "GMB",
          "GNB",
          "GNQ",
          "GRC",
          "GRD",
          "GTM",
          "GUY",
          "HND",
          "HRV",
          "HTI",
          "HUN",
          "IDN",
          "IND",
          "IRL",
          "IRN",
          "IRQ",
          "ISL",
          "ISR",
          "ITA",
          "JAM",
          "JPN",
          "KAZ",
          "KEN",
          "KGZ",
          "KHM",
          "KIR",
          "KNA",
          "KWT",
          "LAO",
          "LBN",
          "LBR",
          "LBY",
          "LCA",
          "LKA",
          "LSO",
          "LTU",
          "LUX",
          "LVA",
          "MAC",
          "MAR",
          "MDA",
          "MDG",
          "MDV",
          "MEX",
          "MHL",
          "MKD",
          "MLI",
          "MLT",
          "MMR",
          "MNG",
          "MOZ",
          "MRT",
          "MUS",
          "MWI",
          "MYS",
          "NAM",
          "NER",
          "NGA",
          "NIC",
          "NLD",
          "NPL",
          "NRU",
          "NZL",
          "OMN",
          "PAK",
          "PAN",
          "PER",
          "PHL",
          "PLW",
          "PNG",
          "POL",
          "PRI",
          "PRT",
          "PRY",
          "QAT",
          "RUS",
          "RWA",
          "SAU",
          "SDN",
          "SEN",
          "SGP",
          "SLB",
          "SLE",
          "SLV",
          "SMR",
          "STP",
          "SUR",
          "SVK",
          "SVN",
          "SWE",
          "SWZ",
          "SYC",
          "SYR",
          "TCD",
          "TGO",
          "THA",
          "TJK",
          "TKM",
          "TON",
          "TTO",
          "TUN",
          "TUR",
          "TUV",
          "TZA",
          "UGA",
          "UKR",
          "URY",
          "USA",
          "UZB",
          "VCT",
          "VEN",
          "VNM",
          "VUT",
          "WSM",
          "YEM",
          "ZAF",
          "ZMB",
          "ZWE"
         ],
         "textposition": "top center",
         "type": "scatter",
         "x": [
          615.091,
          3876.2,
          3943.22,
          38649.91,
          14643.92,
          3520.95,
          15155.16,
          51363.9,
          43749.55,
          5396.41,
          318.611,
          40520.1,
          763.882,
          619.861,
          1292.93,
          7017.11,
          24057.58,
          24309.57,
          4206.69,
          5941.24,
          4757.11,
          3099.22,
          8810.5,
          15808.09,
          30994.98,
          2603.1,
          6780.97,
          332.366,
          43349.62,
          81410.02,
          13469.47,
          8166.76,
          1381.81,
          1230.38,
          471.306,
          1958.1,
          6047.97,
          736.406,
          3001.29,
          11435.97,
          23105.4,
          17569.89,
          41197.41,
          1788.36,
          7311.65,
          53237.28,
          6833.24,
          4123.3,
          6153.8,
          3731.18,
          741.363,
          25717.56,
          17111.3,
          720.617,
          42487.05,
          4928.9,
          37612.91,
          3079.22,
          7746.75,
          43976.42,
          3761.91,
          1390.11,
          545.779,
          448.158,
          639.508,
          17286.92,
          17955.19,
          9221.75,
          3921.87,
          4150.57,
          2567.05,
          11578.54,
          809.672,
          12344.16,
          3370.93,
          1615.79,
          60896.18,
          4709.65,
          5114.49,
          50472.94,
          35743.46,
          30032.11,
          5052.68,
          34513.36,
          10427.66,
          1439.46,
          1109.43,
          1144.5,
          1409.63,
          15765.53,
          27756.41,
          1786.94,
          11156.01,
          474.357,
          4708.14,
          8256.22,
          3849.22,
          1223.37,
          14259.6,
          100950.49,
          13614.47,
          70214.9,
          3002.5,
          1828.37,
          402.067,
          9178.05,
          9512.27,
          3325.76,
          4854.21,
          804.357,
          23972.98,
          1148.39,
          3946.25,
          529.243,
          1307.15,
          9114.97,
          353.794,
          9500.52,
          5041.11,
          406.592,
          2763.2,
          2086.89,
          44322.83,
          747.485,
          8052.68,
          37281.09,
          18186.31,
          1427.56,
          13113.71,
          6176.68,
          2862.9,
          15907.4,
          2746.19,
          12552.29,
          29620.21,
          19225.67,
          4038.42,
          68004.02,
          9521.08,
          732.372,
          21013.58,
          2118.98,
          913.05,
          53628.76,
          1922.78,
          718.893,
          4217,
          46185.02,
          1566.7,
          8767.97,
          16105.13,
          20746.9,
          50319.11,
          3511.76,
          14554.42,
          0,
          946.877,
          569.764,
          5799.39,
          926.877,
          6690.38,
          3973.68,
          17321.77,
          3884.35,
          10909.69,
          3020.4,
          957.105,
          629.536,
          2135.18,
          15317.58,
          56174.94,
          2111.74,
          6706.46,
          8493.97,
          2086.53,
          2747.3,
          4158.97,
          1334.12,
          5721.15,
          1310.35,
          1002.56
         ],
         "xaxis": "x",
         "y": [
          60.71717073,
          52.66609756,
          78.01446341,
          77.5412439,
          76.33421951,
          74.79712195,
          76.10021951,
          82.45121951,
          81.84390244,
          70.84878049,
          57.10704878,
          81.28780488,
          59.72070732,
          58.93129268,
          72.00119512,
          74.46585366,
          76.81909756,
          75.39682927,
          76.58858537,
          73.62439024,
          70.19236585,
          68.73960976,
          74.67587805,
          75.65843902,
          79.04082927,
          69.83285366,
          64.48741463,
          51.41912195,
          82.13763415,
          83.19756098,
          81.78756098,
          75.98634146,
          51.9197561,
          55.93439024,
          59.02390244,
          62.86765854,
          74.18202439,
          63.55402439,
          73.35563415,
          79.58646341,
          80.30709756,
          79.47317073,
          81.0902439,
          62.28565854,
          0,
          81.1,
          73.67668293,
          75.04253659,
          76.10292683,
          71.31695122,
          64.10090244,
          83.3804878,
          77.13170732,
          64.57804878,
          81.38536585,
          70.25626829,
          82.67073171,
          69.2342439,
          64.89034146,
          81.60487805,
          74.81741463,
          61.49173171,
          59.19343902,
          60.46768293,
          55.46731707,
          57.96341463,
          81.58780488,
          73.523,
          71.9564878,
          66.5075122,
          73.33312195,
          77.27560976,
          63.0737561,
          75.96097561,
          69.07168293,
          68.34856098,
          81.50243902,
          75.59134146,
          69.59026829,
          82.86097561,
          82.05121951,
          83.4902439,
          75.79817073,
          83.84365854,
          72,
          62.13373171,
          70.65121951,
          68.65614634,
          66.14785366,
          0,
          74.69790244,
          66.53987805,
          79.62860976,
          61.16095122,
          71.82631707,
          75.1845122,
          74.95319512,
          49.96121951,
          75.1195122,
          82.22926829,
          74.12439024,
          80.76607317,
          74.28931707,
          71.62643902,
          65.48278049,
          76.979,
          76.92068293,
          0,
          75.49534146,
          58.45721951,
          81.94634146,
          66.04207317,
          69.82126829,
          55.3712439,
          63.20282927,
          74.35317073,
          63.79685366,
          74.87517073,
          64.91543902,
          61.96902439,
          53.04887805,
          75.09812195,
          81.70731707,
          69.97334146,
          0,
          81.45682927,
          77.32419512,
          66.37697561,
          77.76729268,
          74.78073171,
          68.4067561,
          0,
          62.77668293,
          78.20487805,
          79.57231707,
          81.52195122,
          73.02563415,
          78.76258537,
          70.90853659,
          64.52453659,
          74.49334146,
          63.71073171,
          66.80441463,
          82.59512195,
          68.1462439,
          51.30817073,
          73.00109756,
          0,
          66.51370732,
          71.29417073,
          77.21219512,
          81.07804878,
          82.55121951,
          48.87395122,
          73.22926829,
          70.08931707,
          51.87331707,
          60.1207561,
          74.60119512,
          69.76843902,
          65.73643902,
          72.94404878,
          70.55770732,
          74.97597561,
          75.42621951,
          0,
          65.4874878,
          59.17907317,
          71.1895122,
          77.13821951,
          78.74146341,
          68.45307317,
          73.05236585,
          74.40960976,
          75.77773171,
          72.15736585,
          73.76487805,
          64.03139024,
          57.44090244,
          60.78568293,
          59.16107317
         ],
         "yaxis": "y"
        }
       ],
       "layout": {
        "height": 800,
        "legend": {
         "tracegroupgap": 0
        },
        "margin": {
         "t": 60
        },
        "template": {
         "data": {
          "bar": [
           {
            "error_x": {
             "color": "#2a3f5f"
            },
            "error_y": {
             "color": "#2a3f5f"
            },
            "marker": {
             "line": {
              "color": "#E5ECF6",
              "width": 0.5
             },
             "pattern": {
              "fillmode": "overlay",
              "size": 10,
              "solidity": 0.2
             }
            },
            "type": "bar"
           }
          ],
          "barpolar": [
           {
            "marker": {
             "line": {
              "color": "#E5ECF6",
              "width": 0.5
             },
             "pattern": {
              "fillmode": "overlay",
              "size": 10,
              "solidity": 0.2
             }
            },
            "type": "barpolar"
           }
          ],
          "carpet": [
           {
            "aaxis": {
             "endlinecolor": "#2a3f5f",
             "gridcolor": "white",
             "linecolor": "white",
             "minorgridcolor": "white",
             "startlinecolor": "#2a3f5f"
            },
            "baxis": {
             "endlinecolor": "#2a3f5f",
             "gridcolor": "white",
             "linecolor": "white",
             "minorgridcolor": "white",
             "startlinecolor": "#2a3f5f"
            },
            "type": "carpet"
           }
          ],
          "choropleth": [
           {
            "colorbar": {
             "outlinewidth": 0,
             "ticks": ""
            },
            "type": "choropleth"
           }
          ],
          "contour": [
           {
            "colorbar": {
             "outlinewidth": 0,
             "ticks": ""
            },
            "colorscale": [
             [
              0,
              "#0d0887"
             ],
             [
              0.1111111111111111,
              "#46039f"
             ],
             [
              0.2222222222222222,
              "#7201a8"
             ],
             [
              0.3333333333333333,
              "#9c179e"
             ],
             [
              0.4444444444444444,
              "#bd3786"
             ],
             [
              0.5555555555555556,
              "#d8576b"
             ],
             [
              0.6666666666666666,
              "#ed7953"
             ],
             [
              0.7777777777777778,
              "#fb9f3a"
             ],
             [
              0.8888888888888888,
              "#fdca26"
             ],
             [
              1,
              "#f0f921"
             ]
            ],
            "type": "contour"
           }
          ],
          "contourcarpet": [
           {
            "colorbar": {
             "outlinewidth": 0,
             "ticks": ""
            },
            "type": "contourcarpet"
           }
          ],
          "heatmap": [
           {
            "colorbar": {
             "outlinewidth": 0,
             "ticks": ""
            },
            "colorscale": [
             [
              0,
              "#0d0887"
             ],
             [
              0.1111111111111111,
              "#46039f"
             ],
             [
              0.2222222222222222,
              "#7201a8"
             ],
             [
              0.3333333333333333,
              "#9c179e"
             ],
             [
              0.4444444444444444,
              "#bd3786"
             ],
             [
              0.5555555555555556,
              "#d8576b"
             ],
             [
              0.6666666666666666,
              "#ed7953"
             ],
             [
              0.7777777777777778,
              "#fb9f3a"
             ],
             [
              0.8888888888888888,
              "#fdca26"
             ],
             [
              1,
              "#f0f921"
             ]
            ],
            "type": "heatmap"
           }
          ],
          "heatmapgl": [
           {
            "colorbar": {
             "outlinewidth": 0,
             "ticks": ""
            },
            "colorscale": [
             [
              0,
              "#0d0887"
             ],
             [
              0.1111111111111111,
              "#46039f"
             ],
             [
              0.2222222222222222,
              "#7201a8"
             ],
             [
              0.3333333333333333,
              "#9c179e"
             ],
             [
              0.4444444444444444,
              "#bd3786"
             ],
             [
              0.5555555555555556,
              "#d8576b"
             ],
             [
              0.6666666666666666,
              "#ed7953"
             ],
             [
              0.7777777777777778,
              "#fb9f3a"
             ],
             [
              0.8888888888888888,
              "#fdca26"
             ],
             [
              1,
              "#f0f921"
             ]
            ],
            "type": "heatmapgl"
           }
          ],
          "histogram": [
           {
            "marker": {
             "pattern": {
              "fillmode": "overlay",
              "size": 10,
              "solidity": 0.2
             }
            },
            "type": "histogram"
           }
          ],
          "histogram2d": [
           {
            "colorbar": {
             "outlinewidth": 0,
             "ticks": ""
            },
            "colorscale": [
             [
              0,
              "#0d0887"
             ],
             [
              0.1111111111111111,
              "#46039f"
             ],
             [
              0.2222222222222222,
              "#7201a8"
             ],
             [
              0.3333333333333333,
              "#9c179e"
             ],
             [
              0.4444444444444444,
              "#bd3786"
             ],
             [
              0.5555555555555556,
              "#d8576b"
             ],
             [
              0.6666666666666666,
              "#ed7953"
             ],
             [
              0.7777777777777778,
              "#fb9f3a"
             ],
             [
              0.8888888888888888,
              "#fdca26"
             ],
             [
              1,
              "#f0f921"
             ]
            ],
            "type": "histogram2d"
           }
          ],
          "histogram2dcontour": [
           {
            "colorbar": {
             "outlinewidth": 0,
             "ticks": ""
            },
            "colorscale": [
             [
              0,
              "#0d0887"
             ],
             [
              0.1111111111111111,
              "#46039f"
             ],
             [
              0.2222222222222222,
              "#7201a8"
             ],
             [
              0.3333333333333333,
              "#9c179e"
             ],
             [
              0.4444444444444444,
              "#bd3786"
             ],
             [
              0.5555555555555556,
              "#d8576b"
             ],
             [
              0.6666666666666666,
              "#ed7953"
             ],
             [
              0.7777777777777778,
              "#fb9f3a"
             ],
             [
              0.8888888888888888,
              "#fdca26"
             ],
             [
              1,
              "#f0f921"
             ]
            ],
            "type": "histogram2dcontour"
           }
          ],
          "mesh3d": [
           {
            "colorbar": {
             "outlinewidth": 0,
             "ticks": ""
            },
            "type": "mesh3d"
           }
          ],
          "parcoords": [
           {
            "line": {
             "colorbar": {
              "outlinewidth": 0,
              "ticks": ""
             }
            },
            "type": "parcoords"
           }
          ],
          "pie": [
           {
            "automargin": true,
            "type": "pie"
           }
          ],
          "scatter": [
           {
            "marker": {
             "colorbar": {
              "outlinewidth": 0,
              "ticks": ""
             }
            },
            "type": "scatter"
           }
          ],
          "scatter3d": [
           {
            "line": {
             "colorbar": {
              "outlinewidth": 0,
              "ticks": ""
             }
            },
            "marker": {
             "colorbar": {
              "outlinewidth": 0,
              "ticks": ""
             }
            },
            "type": "scatter3d"
           }
          ],
          "scattercarpet": [
           {
            "marker": {
             "colorbar": {
              "outlinewidth": 0,
              "ticks": ""
             }
            },
            "type": "scattercarpet"
           }
          ],
          "scattergeo": [
           {
            "marker": {
             "colorbar": {
              "outlinewidth": 0,
              "ticks": ""
             }
            },
            "type": "scattergeo"
           }
          ],
          "scattergl": [
           {
            "marker": {
             "colorbar": {
              "outlinewidth": 0,
              "ticks": ""
             }
            },
            "type": "scattergl"
           }
          ],
          "scattermapbox": [
           {
            "marker": {
             "colorbar": {
              "outlinewidth": 0,
              "ticks": ""
             }
            },
            "type": "scattermapbox"
           }
          ],
          "scatterpolar": [
           {
            "marker": {
             "colorbar": {
              "outlinewidth": 0,
              "ticks": ""
             }
            },
            "type": "scatterpolar"
           }
          ],
          "scatterpolargl": [
           {
            "marker": {
             "colorbar": {
              "outlinewidth": 0,
              "ticks": ""
             }
            },
            "type": "scatterpolargl"
           }
          ],
          "scatterternary": [
           {
            "marker": {
             "colorbar": {
              "outlinewidth": 0,
              "ticks": ""
             }
            },
            "type": "scatterternary"
           }
          ],
          "surface": [
           {
            "colorbar": {
             "outlinewidth": 0,
             "ticks": ""
            },
            "colorscale": [
             [
              0,
              "#0d0887"
             ],
             [
              0.1111111111111111,
              "#46039f"
             ],
             [
              0.2222222222222222,
              "#7201a8"
             ],
             [
              0.3333333333333333,
              "#9c179e"
             ],
             [
              0.4444444444444444,
              "#bd3786"
             ],
             [
              0.5555555555555556,
              "#d8576b"
             ],
             [
              0.6666666666666666,
              "#ed7953"
             ],
             [
              0.7777777777777778,
              "#fb9f3a"
             ],
             [
              0.8888888888888888,
              "#fdca26"
             ],
             [
              1,
              "#f0f921"
             ]
            ],
            "type": "surface"
           }
          ],
          "table": [
           {
            "cells": {
             "fill": {
              "color": "#EBF0F8"
             },
             "line": {
              "color": "white"
             }
            },
            "header": {
             "fill": {
              "color": "#C8D4E3"
             },
             "line": {
              "color": "white"
             }
            },
            "type": "table"
           }
          ]
         },
         "layout": {
          "annotationdefaults": {
           "arrowcolor": "#2a3f5f",
           "arrowhead": 0,
           "arrowwidth": 1
          },
          "autotypenumbers": "strict",
          "coloraxis": {
           "colorbar": {
            "outlinewidth": 0,
            "ticks": ""
           }
          },
          "colorscale": {
           "diverging": [
            [
             0,
             "#8e0152"
            ],
            [
             0.1,
             "#c51b7d"
            ],
            [
             0.2,
             "#de77ae"
            ],
            [
             0.3,
             "#f1b6da"
            ],
            [
             0.4,
             "#fde0ef"
            ],
            [
             0.5,
             "#f7f7f7"
            ],
            [
             0.6,
             "#e6f5d0"
            ],
            [
             0.7,
             "#b8e186"
            ],
            [
             0.8,
             "#7fbc41"
            ],
            [
             0.9,
             "#4d9221"
            ],
            [
             1,
             "#276419"
            ]
           ],
           "sequential": [
            [
             0,
             "#0d0887"
            ],
            [
             0.1111111111111111,
             "#46039f"
            ],
            [
             0.2222222222222222,
             "#7201a8"
            ],
            [
             0.3333333333333333,
             "#9c179e"
            ],
            [
             0.4444444444444444,
             "#bd3786"
            ],
            [
             0.5555555555555556,
             "#d8576b"
            ],
            [
             0.6666666666666666,
             "#ed7953"
            ],
            [
             0.7777777777777778,
             "#fb9f3a"
            ],
            [
             0.8888888888888888,
             "#fdca26"
            ],
            [
             1,
             "#f0f921"
            ]
           ],
           "sequentialminus": [
            [
             0,
             "#0d0887"
            ],
            [
             0.1111111111111111,
             "#46039f"
            ],
            [
             0.2222222222222222,
             "#7201a8"
            ],
            [
             0.3333333333333333,
             "#9c179e"
            ],
            [
             0.4444444444444444,
             "#bd3786"
            ],
            [
             0.5555555555555556,
             "#d8576b"
            ],
            [
             0.6666666666666666,
             "#ed7953"
            ],
            [
             0.7777777777777778,
             "#fb9f3a"
            ],
            [
             0.8888888888888888,
             "#fdca26"
            ],
            [
             1,
             "#f0f921"
            ]
           ]
          },
          "colorway": [
           "#636efa",
           "#EF553B",
           "#00cc96",
           "#ab63fa",
           "#FFA15A",
           "#19d3f3",
           "#FF6692",
           "#B6E880",
           "#FF97FF",
           "#FECB52"
          ],
          "font": {
           "color": "#2a3f5f"
          },
          "geo": {
           "bgcolor": "white",
           "lakecolor": "white",
           "landcolor": "#E5ECF6",
           "showlakes": true,
           "showland": true,
           "subunitcolor": "white"
          },
          "hoverlabel": {
           "align": "left"
          },
          "hovermode": "closest",
          "mapbox": {
           "style": "light"
          },
          "paper_bgcolor": "white",
          "plot_bgcolor": "#E5ECF6",
          "polar": {
           "angularaxis": {
            "gridcolor": "white",
            "linecolor": "white",
            "ticks": ""
           },
           "bgcolor": "#E5ECF6",
           "radialaxis": {
            "gridcolor": "white",
            "linecolor": "white",
            "ticks": ""
           }
          },
          "scene": {
           "xaxis": {
            "backgroundcolor": "#E5ECF6",
            "gridcolor": "white",
            "gridwidth": 2,
            "linecolor": "white",
            "showbackground": true,
            "ticks": "",
            "zerolinecolor": "white"
           },
           "yaxis": {
            "backgroundcolor": "#E5ECF6",
            "gridcolor": "white",
            "gridwidth": 2,
            "linecolor": "white",
            "showbackground": true,
            "ticks": "",
            "zerolinecolor": "white"
           },
           "zaxis": {
            "backgroundcolor": "#E5ECF6",
            "gridcolor": "white",
            "gridwidth": 2,
            "linecolor": "white",
            "showbackground": true,
            "ticks": "",
            "zerolinecolor": "white"
           }
          },
          "shapedefaults": {
           "line": {
            "color": "#2a3f5f"
           }
          },
          "ternary": {
           "aaxis": {
            "gridcolor": "white",
            "linecolor": "white",
            "ticks": ""
           },
           "baxis": {
            "gridcolor": "white",
            "linecolor": "white",
            "ticks": ""
           },
           "bgcolor": "#E5ECF6",
           "caxis": {
            "gridcolor": "white",
            "linecolor": "white",
            "ticks": ""
           }
          },
          "title": {
           "x": 0.05
          },
          "xaxis": {
           "automargin": true,
           "gridcolor": "white",
           "linecolor": "white",
           "ticks": "",
           "title": {
            "standoff": 15
           },
           "zerolinecolor": "white",
           "zerolinewidth": 2
          },
          "yaxis": {
           "automargin": true,
           "gridcolor": "white",
           "linecolor": "white",
           "ticks": "",
           "title": {
            "standoff": 15
           },
           "zerolinecolor": "white",
           "zerolinewidth": 2
          }
         }
        },
        "title": {
         "text": "GDP and Life Expectancy"
        },
        "xaxis": {
         "anchor": "y",
         "domain": [
          0,
          1
         ],
         "title": {
          "text": "gdp_percapita"
         },
         "type": "log"
        },
        "yaxis": {
         "anchor": "x",
         "domain": [
          0,
          1
         ],
         "title": {
          "text": "life_expectancy"
         }
        }
       }
      },
      "text/html": [
       "<div>                            <div id=\"f577bb4c-fd4e-42b2-9b66-5141677b0b8e\" class=\"plotly-graph-div\" style=\"height:800px; width:100%;\"></div>            <script type=\"text/javascript\">                require([\"plotly\"], function(Plotly) {                    window.PLOTLYENV=window.PLOTLYENV || {};                                    if (document.getElementById(\"f577bb4c-fd4e-42b2-9b66-5141677b0b8e\")) {                    Plotly.newPlot(                        \"f577bb4c-fd4e-42b2-9b66-5141677b0b8e\",                        [{\"hovertemplate\":\"gdp_percapita=%{x}<br>life_expectancy=%{y}<br>country_code=%{text}<extra></extra>\",\"legendgroup\":\"\",\"marker\":{\"color\":\"#636efa\",\"symbol\":\"circle\"},\"mode\":\"markers+text\",\"name\":\"\",\"orientation\":\"v\",\"showlegend\":false,\"text\":[\"AFG\",\"AGO\",\"ALB\",\"ARE\",\"ARG\",\"ARM\",\"ATG\",\"AUS\",\"AUT\",\"AZE\",\"BDI\",\"BEL\",\"BEN\",\"BFA\",\"BGD\",\"BGR\",\"BHR\",\"BHS\",\"BIH\",\"BLR\",\"BLZ\",\"BOL\",\"BRA\",\"BRB\",\"BRN\",\"BTN\",\"BWA\",\"CAF\",\"CAN\",\"CHE\",\"CHL\",\"CHN\",\"CIV\",\"CMR\",\"COD\",\"COG\",\"COL\",\"COM\",\"CPV\",\"CRI\",\"CYP\",\"CZE\",\"DEU\",\"DJI\",\"DMA\",\"DNK\",\"DOM\",\"DZA\",\"ECU\",\"EGY\",\"ERI\",\"ESP\",\"EST\",\"ETH\",\"FIN\",\"FJI\",\"FRA\",\"FSM\",\"GAB\",\"GBR\",\"GEO\",\"GHA\",\"GIN\",\"GMB\",\"GNB\",\"GNQ\",\"GRC\",\"GRD\",\"GTM\",\"GUY\",\"HND\",\"HRV\",\"HTI\",\"HUN\",\"IDN\",\"IND\",\"IRL\",\"IRN\",\"IRQ\",\"ISL\",\"ISR\",\"ITA\",\"JAM\",\"JPN\",\"KAZ\",\"KEN\",\"KGZ\",\"KHM\",\"KIR\",\"KNA\",\"KWT\",\"LAO\",\"LBN\",\"LBR\",\"LBY\",\"LCA\",\"LKA\",\"LSO\",\"LTU\",\"LUX\",\"LVA\",\"MAC\",\"MAR\",\"MDA\",\"MDG\",\"MDV\",\"MEX\",\"MHL\",\"MKD\",\"MLI\",\"MLT\",\"MMR\",\"MNG\",\"MOZ\",\"MRT\",\"MUS\",\"MWI\",\"MYS\",\"NAM\",\"NER\",\"NGA\",\"NIC\",\"NLD\",\"NPL\",\"NRU\",\"NZL\",\"OMN\",\"PAK\",\"PAN\",\"PER\",\"PHL\",\"PLW\",\"PNG\",\"POL\",\"PRI\",\"PRT\",\"PRY\",\"QAT\",\"RUS\",\"RWA\",\"SAU\",\"SDN\",\"SEN\",\"SGP\",\"SLB\",\"SLE\",\"SLV\",\"SMR\",\"STP\",\"SUR\",\"SVK\",\"SVN\",\"SWE\",\"SWZ\",\"SYC\",\"SYR\",\"TCD\",\"TGO\",\"THA\",\"TJK\",\"TKM\",\"TON\",\"TTO\",\"TUN\",\"TUR\",\"TUV\",\"TZA\",\"UGA\",\"UKR\",\"URY\",\"USA\",\"UZB\",\"VCT\",\"VEN\",\"VNM\",\"VUT\",\"WSM\",\"YEM\",\"ZAF\",\"ZMB\",\"ZWE\"],\"x\":[615.091,3876.2,3943.22,38649.91,14643.92,3520.95,15155.16,51363.9,43749.55,5396.41,318.611,40520.1,763.882,619.861,1292.93,7017.11,24057.58,24309.57,4206.69,5941.24,4757.11,3099.22,8810.5,15808.09,30994.98,2603.1,6780.97,332.366,43349.62,81410.02,13469.47,8166.76,1381.81,1230.38,471.306,1958.1,6047.97,736.406,3001.29,11435.97,23105.4,17569.89,41197.41,1788.36,7311.65,53237.28,6833.24,4123.3,6153.8,3731.18,741.363,25717.56,17111.3,720.617,42487.05,4928.9,37612.91,3079.22,7746.75,43976.42,3761.91,1390.11,545.779,448.158,639.508,17286.92,17955.19,9221.75,3921.87,4150.57,2567.05,11578.54,809.672,12344.16,3370.93,1615.79,60896.18,4709.65,5114.49,50472.94,35743.46,30032.11,5052.68,34513.36,10427.66,1439.46,1109.43,1144.5,1409.63,15765.53,27756.41,1786.94,11156.01,474.357,4708.14,8256.22,3849.22,1223.37,14259.6,100950.49,13614.47,70214.9,3002.5,1828.37,402.067,9178.05,9512.27,3325.76,4854.21,804.357,23972.98,1148.39,3946.25,529.243,1307.15,9114.97,353.794,9500.52,5041.11,406.592,2763.2,2086.89,44322.83,747.485,8052.68,37281.09,18186.31,1427.56,13113.71,6176.68,2862.9,15907.4,2746.19,12552.29,29620.21,19225.67,4038.42,68004.02,9521.08,732.372,21013.58,2118.98,913.05,53628.76,1922.78,718.893,4217.0,46185.02,1566.7,8767.97,16105.13,20746.9,50319.11,3511.76,14554.42,0.0,946.877,569.764,5799.39,926.877,6690.38,3973.68,17321.77,3884.35,10909.69,3020.4,957.105,629.536,2135.18,15317.58,56174.94,2111.74,6706.46,8493.97,2086.53,2747.3,4158.97,1334.12,5721.15,1310.35,1002.56],\"xaxis\":\"x\",\"y\":[60.71717073,52.66609756,78.01446341,77.5412439,76.33421951,74.79712195,76.10021951,82.45121951,81.84390244,70.84878049,57.10704878,81.28780488,59.72070732,58.93129268,72.00119512,74.46585366,76.81909756,75.39682927,76.58858537,73.62439024,70.19236585,68.73960976,74.67587805,75.65843902,79.04082927,69.83285366,64.48741463,51.41912195,82.13763415,83.19756098,81.78756098,75.98634146,51.9197561,55.93439024,59.02390244,62.86765854,74.18202439,63.55402439,73.35563415,79.58646341,80.30709756,79.47317073,81.0902439,62.28565854,0.0,81.1,73.67668293,75.04253659,76.10292683,71.31695122,64.10090244,83.3804878,77.13170732,64.57804878,81.38536585,70.25626829,82.67073171,69.2342439,64.89034146,81.60487805,74.81741463,61.49173171,59.19343902,60.46768293,55.46731707,57.96341463,81.58780488,73.523,71.9564878,66.5075122,73.33312195,77.27560976,63.0737561,75.96097561,69.07168293,68.34856098,81.50243902,75.59134146,69.59026829,82.86097561,82.05121951,83.4902439,75.79817073,83.84365854,72.0,62.13373171,70.65121951,68.65614634,66.14785366,0.0,74.69790244,66.53987805,79.62860976,61.16095122,71.82631707,75.1845122,74.95319512,49.96121951,75.1195122,82.22926829,74.12439024,80.76607317,74.28931707,71.62643902,65.48278049,76.979,76.92068293,0.0,75.49534146,58.45721951,81.94634146,66.04207317,69.82126829,55.3712439,63.20282927,74.35317073,63.79685366,74.87517073,64.91543902,61.96902439,53.04887805,75.09812195,81.70731707,69.97334146,0.0,81.45682927,77.32419512,66.37697561,77.76729268,74.78073171,68.4067561,0.0,62.77668293,78.20487805,79.57231707,81.52195122,73.02563415,78.76258537,70.90853659,64.52453659,74.49334146,63.71073171,66.80441463,82.59512195,68.1462439,51.30817073,73.00109756,0.0,66.51370732,71.29417073,77.21219512,81.07804878,82.55121951,48.87395122,73.22926829,70.08931707,51.87331707,60.1207561,74.60119512,69.76843902,65.73643902,72.94404878,70.55770732,74.97597561,75.42621951,0.0,65.4874878,59.17907317,71.1895122,77.13821951,78.74146341,68.45307317,73.05236585,74.40960976,75.77773171,72.15736585,73.76487805,64.03139024,57.44090244,60.78568293,59.16107317],\"yaxis\":\"y\",\"type\":\"scatter\",\"textposition\":\"top center\"}],                        {\"template\":{\"data\":{\"bar\":[{\"error_x\":{\"color\":\"#2a3f5f\"},\"error_y\":{\"color\":\"#2a3f5f\"},\"marker\":{\"line\":{\"color\":\"#E5ECF6\",\"width\":0.5},\"pattern\":{\"fillmode\":\"overlay\",\"size\":10,\"solidity\":0.2}},\"type\":\"bar\"}],\"barpolar\":[{\"marker\":{\"line\":{\"color\":\"#E5ECF6\",\"width\":0.5},\"pattern\":{\"fillmode\":\"overlay\",\"size\":10,\"solidity\":0.2}},\"type\":\"barpolar\"}],\"carpet\":[{\"aaxis\":{\"endlinecolor\":\"#2a3f5f\",\"gridcolor\":\"white\",\"linecolor\":\"white\",\"minorgridcolor\":\"white\",\"startlinecolor\":\"#2a3f5f\"},\"baxis\":{\"endlinecolor\":\"#2a3f5f\",\"gridcolor\":\"white\",\"linecolor\":\"white\",\"minorgridcolor\":\"white\",\"startlinecolor\":\"#2a3f5f\"},\"type\":\"carpet\"}],\"choropleth\":[{\"colorbar\":{\"outlinewidth\":0,\"ticks\":\"\"},\"type\":\"choropleth\"}],\"contour\":[{\"colorbar\":{\"outlinewidth\":0,\"ticks\":\"\"},\"colorscale\":[[0.0,\"#0d0887\"],[0.1111111111111111,\"#46039f\"],[0.2222222222222222,\"#7201a8\"],[0.3333333333333333,\"#9c179e\"],[0.4444444444444444,\"#bd3786\"],[0.5555555555555556,\"#d8576b\"],[0.6666666666666666,\"#ed7953\"],[0.7777777777777778,\"#fb9f3a\"],[0.8888888888888888,\"#fdca26\"],[1.0,\"#f0f921\"]],\"type\":\"contour\"}],\"contourcarpet\":[{\"colorbar\":{\"outlinewidth\":0,\"ticks\":\"\"},\"type\":\"contourcarpet\"}],\"heatmap\":[{\"colorbar\":{\"outlinewidth\":0,\"ticks\":\"\"},\"colorscale\":[[0.0,\"#0d0887\"],[0.1111111111111111,\"#46039f\"],[0.2222222222222222,\"#7201a8\"],[0.3333333333333333,\"#9c179e\"],[0.4444444444444444,\"#bd3786\"],[0.5555555555555556,\"#d8576b\"],[0.6666666666666666,\"#ed7953\"],[0.7777777777777778,\"#fb9f3a\"],[0.8888888888888888,\"#fdca26\"],[1.0,\"#f0f921\"]],\"type\":\"heatmap\"}],\"heatmapgl\":[{\"colorbar\":{\"outlinewidth\":0,\"ticks\":\"\"},\"colorscale\":[[0.0,\"#0d0887\"],[0.1111111111111111,\"#46039f\"],[0.2222222222222222,\"#7201a8\"],[0.3333333333333333,\"#9c179e\"],[0.4444444444444444,\"#bd3786\"],[0.5555555555555556,\"#d8576b\"],[0.6666666666666666,\"#ed7953\"],[0.7777777777777778,\"#fb9f3a\"],[0.8888888888888888,\"#fdca26\"],[1.0,\"#f0f921\"]],\"type\":\"heatmapgl\"}],\"histogram\":[{\"marker\":{\"pattern\":{\"fillmode\":\"overlay\",\"size\":10,\"solidity\":0.2}},\"type\":\"histogram\"}],\"histogram2d\":[{\"colorbar\":{\"outlinewidth\":0,\"ticks\":\"\"},\"colorscale\":[[0.0,\"#0d0887\"],[0.1111111111111111,\"#46039f\"],[0.2222222222222222,\"#7201a8\"],[0.3333333333333333,\"#9c179e\"],[0.4444444444444444,\"#bd3786\"],[0.5555555555555556,\"#d8576b\"],[0.6666666666666666,\"#ed7953\"],[0.7777777777777778,\"#fb9f3a\"],[0.8888888888888888,\"#fdca26\"],[1.0,\"#f0f921\"]],\"type\":\"histogram2d\"}],\"histogram2dcontour\":[{\"colorbar\":{\"outlinewidth\":0,\"ticks\":\"\"},\"colorscale\":[[0.0,\"#0d0887\"],[0.1111111111111111,\"#46039f\"],[0.2222222222222222,\"#7201a8\"],[0.3333333333333333,\"#9c179e\"],[0.4444444444444444,\"#bd3786\"],[0.5555555555555556,\"#d8576b\"],[0.6666666666666666,\"#ed7953\"],[0.7777777777777778,\"#fb9f3a\"],[0.8888888888888888,\"#fdca26\"],[1.0,\"#f0f921\"]],\"type\":\"histogram2dcontour\"}],\"mesh3d\":[{\"colorbar\":{\"outlinewidth\":0,\"ticks\":\"\"},\"type\":\"mesh3d\"}],\"parcoords\":[{\"line\":{\"colorbar\":{\"outlinewidth\":0,\"ticks\":\"\"}},\"type\":\"parcoords\"}],\"pie\":[{\"automargin\":true,\"type\":\"pie\"}],\"scatter\":[{\"marker\":{\"colorbar\":{\"outlinewidth\":0,\"ticks\":\"\"}},\"type\":\"scatter\"}],\"scatter3d\":[{\"line\":{\"colorbar\":{\"outlinewidth\":0,\"ticks\":\"\"}},\"marker\":{\"colorbar\":{\"outlinewidth\":0,\"ticks\":\"\"}},\"type\":\"scatter3d\"}],\"scattercarpet\":[{\"marker\":{\"colorbar\":{\"outlinewidth\":0,\"ticks\":\"\"}},\"type\":\"scattercarpet\"}],\"scattergeo\":[{\"marker\":{\"colorbar\":{\"outlinewidth\":0,\"ticks\":\"\"}},\"type\":\"scattergeo\"}],\"scattergl\":[{\"marker\":{\"colorbar\":{\"outlinewidth\":0,\"ticks\":\"\"}},\"type\":\"scattergl\"}],\"scattermapbox\":[{\"marker\":{\"colorbar\":{\"outlinewidth\":0,\"ticks\":\"\"}},\"type\":\"scattermapbox\"}],\"scatterpolar\":[{\"marker\":{\"colorbar\":{\"outlinewidth\":0,\"ticks\":\"\"}},\"type\":\"scatterpolar\"}],\"scatterpolargl\":[{\"marker\":{\"colorbar\":{\"outlinewidth\":0,\"ticks\":\"\"}},\"type\":\"scatterpolargl\"}],\"scatterternary\":[{\"marker\":{\"colorbar\":{\"outlinewidth\":0,\"ticks\":\"\"}},\"type\":\"scatterternary\"}],\"surface\":[{\"colorbar\":{\"outlinewidth\":0,\"ticks\":\"\"},\"colorscale\":[[0.0,\"#0d0887\"],[0.1111111111111111,\"#46039f\"],[0.2222222222222222,\"#7201a8\"],[0.3333333333333333,\"#9c179e\"],[0.4444444444444444,\"#bd3786\"],[0.5555555555555556,\"#d8576b\"],[0.6666666666666666,\"#ed7953\"],[0.7777777777777778,\"#fb9f3a\"],[0.8888888888888888,\"#fdca26\"],[1.0,\"#f0f921\"]],\"type\":\"surface\"}],\"table\":[{\"cells\":{\"fill\":{\"color\":\"#EBF0F8\"},\"line\":{\"color\":\"white\"}},\"header\":{\"fill\":{\"color\":\"#C8D4E3\"},\"line\":{\"color\":\"white\"}},\"type\":\"table\"}]},\"layout\":{\"annotationdefaults\":{\"arrowcolor\":\"#2a3f5f\",\"arrowhead\":0,\"arrowwidth\":1},\"autotypenumbers\":\"strict\",\"coloraxis\":{\"colorbar\":{\"outlinewidth\":0,\"ticks\":\"\"}},\"colorscale\":{\"diverging\":[[0,\"#8e0152\"],[0.1,\"#c51b7d\"],[0.2,\"#de77ae\"],[0.3,\"#f1b6da\"],[0.4,\"#fde0ef\"],[0.5,\"#f7f7f7\"],[0.6,\"#e6f5d0\"],[0.7,\"#b8e186\"],[0.8,\"#7fbc41\"],[0.9,\"#4d9221\"],[1,\"#276419\"]],\"sequential\":[[0.0,\"#0d0887\"],[0.1111111111111111,\"#46039f\"],[0.2222222222222222,\"#7201a8\"],[0.3333333333333333,\"#9c179e\"],[0.4444444444444444,\"#bd3786\"],[0.5555555555555556,\"#d8576b\"],[0.6666666666666666,\"#ed7953\"],[0.7777777777777778,\"#fb9f3a\"],[0.8888888888888888,\"#fdca26\"],[1.0,\"#f0f921\"]],\"sequentialminus\":[[0.0,\"#0d0887\"],[0.1111111111111111,\"#46039f\"],[0.2222222222222222,\"#7201a8\"],[0.3333333333333333,\"#9c179e\"],[0.4444444444444444,\"#bd3786\"],[0.5555555555555556,\"#d8576b\"],[0.6666666666666666,\"#ed7953\"],[0.7777777777777778,\"#fb9f3a\"],[0.8888888888888888,\"#fdca26\"],[1.0,\"#f0f921\"]]},\"colorway\":[\"#636efa\",\"#EF553B\",\"#00cc96\",\"#ab63fa\",\"#FFA15A\",\"#19d3f3\",\"#FF6692\",\"#B6E880\",\"#FF97FF\",\"#FECB52\"],\"font\":{\"color\":\"#2a3f5f\"},\"geo\":{\"bgcolor\":\"white\",\"lakecolor\":\"white\",\"landcolor\":\"#E5ECF6\",\"showlakes\":true,\"showland\":true,\"subunitcolor\":\"white\"},\"hoverlabel\":{\"align\":\"left\"},\"hovermode\":\"closest\",\"mapbox\":{\"style\":\"light\"},\"paper_bgcolor\":\"white\",\"plot_bgcolor\":\"#E5ECF6\",\"polar\":{\"angularaxis\":{\"gridcolor\":\"white\",\"linecolor\":\"white\",\"ticks\":\"\"},\"bgcolor\":\"#E5ECF6\",\"radialaxis\":{\"gridcolor\":\"white\",\"linecolor\":\"white\",\"ticks\":\"\"}},\"scene\":{\"xaxis\":{\"backgroundcolor\":\"#E5ECF6\",\"gridcolor\":\"white\",\"gridwidth\":2,\"linecolor\":\"white\",\"showbackground\":true,\"ticks\":\"\",\"zerolinecolor\":\"white\"},\"yaxis\":{\"backgroundcolor\":\"#E5ECF6\",\"gridcolor\":\"white\",\"gridwidth\":2,\"linecolor\":\"white\",\"showbackground\":true,\"ticks\":\"\",\"zerolinecolor\":\"white\"},\"zaxis\":{\"backgroundcolor\":\"#E5ECF6\",\"gridcolor\":\"white\",\"gridwidth\":2,\"linecolor\":\"white\",\"showbackground\":true,\"ticks\":\"\",\"zerolinecolor\":\"white\"}},\"shapedefaults\":{\"line\":{\"color\":\"#2a3f5f\"}},\"ternary\":{\"aaxis\":{\"gridcolor\":\"white\",\"linecolor\":\"white\",\"ticks\":\"\"},\"baxis\":{\"gridcolor\":\"white\",\"linecolor\":\"white\",\"ticks\":\"\"},\"bgcolor\":\"#E5ECF6\",\"caxis\":{\"gridcolor\":\"white\",\"linecolor\":\"white\",\"ticks\":\"\"}},\"title\":{\"x\":0.05},\"xaxis\":{\"automargin\":true,\"gridcolor\":\"white\",\"linecolor\":\"white\",\"ticks\":\"\",\"title\":{\"standoff\":15},\"zerolinecolor\":\"white\",\"zerolinewidth\":2},\"yaxis\":{\"automargin\":true,\"gridcolor\":\"white\",\"linecolor\":\"white\",\"ticks\":\"\",\"title\":{\"standoff\":15},\"zerolinecolor\":\"white\",\"zerolinewidth\":2}}},\"xaxis\":{\"anchor\":\"y\",\"domain\":[0.0,1.0],\"title\":{\"text\":\"gdp_percapita\"},\"type\":\"log\"},\"yaxis\":{\"anchor\":\"x\",\"domain\":[0.0,1.0],\"title\":{\"text\":\"life_expectancy\"}},\"legend\":{\"tracegroupgap\":0},\"margin\":{\"t\":60},\"title\":{\"text\":\"GDP and Life Expectancy\"},\"height\":800},                        {\"responsive\": true}                    ).then(function(){\n",
       "                            \n",
       "var gd = document.getElementById('f577bb4c-fd4e-42b2-9b66-5141677b0b8e');\n",
       "var x = new MutationObserver(function (mutations, observer) {{\n",
       "        var display = window.getComputedStyle(gd).display;\n",
       "        if (!display || display === 'none') {{\n",
       "            console.log([gd, 'removed!']);\n",
       "            Plotly.purge(gd);\n",
       "            observer.disconnect();\n",
       "        }}\n",
       "}});\n",
       "\n",
       "// Listen for the removal of the full notebook cells\n",
       "var notebookContainer = gd.closest('#notebook-container');\n",
       "if (notebookContainer) {{\n",
       "    x.observe(notebookContainer, {childList: true});\n",
       "}}\n",
       "\n",
       "// Listen for the clearing of the current output cell\n",
       "var outputEl = gd.closest('.output');\n",
       "if (outputEl) {{\n",
       "    x.observe(outputEl, {childList: true});\n",
       "}}\n",
       "\n",
       "                        })                };                });            </script>        </div>"
      ]
     },
     "metadata": {},
     "output_type": "display_data"
    }
   ],
   "source": [
    "# scatter plot of 'GDP and Life Expectancy'\n",
    "fig1 = px.scatter(df_pop_eco2015, x =\"gdp_percapita\", y = \"life_expectancy\", text = \"country_code\", log_x = True, size_max = 60)\n",
    "fig1.update_traces(textposition ='top center')\n",
    "fig1.update_layout(\n",
    "    height = 800,\n",
    "    title_text = 'GDP and Life Expectancy')\n",
    "fig1.show()"
   ]
  },
  {
   "cell_type": "code",
   "execution_count": 120,
   "id": "837465b9",
   "metadata": {},
   "outputs": [
    {
     "data": {
      "application/vnd.plotly.v1+json": {
       "config": {
        "plotlyServerURL": "https://plot.ly"
       },
       "data": [
        {
         "hovertemplate": "gdp_percapita=%{x}<br>life_expectancy=%{y}<br>country_code=%{text}<extra></extra>",
         "legendgroup": "",
         "marker": {
          "color": "#636efa",
          "symbol": "circle"
         },
         "mode": "markers+text",
         "name": "",
         "orientation": "v",
         "showlegend": false,
         "text": [
          "JPN",
          "ITA",
          "ESP",
          "CHE",
          "ISL",
          "FRA",
          "SGP",
          "SWE",
          "AUS",
          "LUX",
          "CAN",
          "ISR",
          "MLT",
          "AUT",
          "CHL",
          "NLD",
          "GBR",
          "GRC",
          "PRT",
          "IRL"
         ],
         "textposition": "top center",
         "type": "scatter",
         "x": [
          34513.36,
          30032.11,
          25717.56,
          81410.02,
          50472.94,
          37612.91,
          53628.76,
          50319.11,
          51363.9,
          100950.49,
          43349.62,
          35743.46,
          23972.98,
          43749.55,
          13469.47,
          44322.83,
          43976.42,
          17955.19,
          19225.67,
          60896.18
         ],
         "xaxis": "x",
         "y": [
          83.84365854,
          83.4902439,
          83.3804878,
          83.19756098,
          82.86097561,
          82.67073171,
          82.59512195,
          82.55121951,
          82.45121951,
          82.22926829,
          82.13763415,
          82.05121951,
          81.94634146,
          81.84390244,
          81.78756098,
          81.70731707,
          81.60487805,
          81.58780488,
          81.52195122,
          81.50243902
         ],
         "yaxis": "y"
        }
       ],
       "layout": {
        "height": 800,
        "legend": {
         "tracegroupgap": 0
        },
        "margin": {
         "t": 60
        },
        "template": {
         "data": {
          "bar": [
           {
            "error_x": {
             "color": "#2a3f5f"
            },
            "error_y": {
             "color": "#2a3f5f"
            },
            "marker": {
             "line": {
              "color": "#E5ECF6",
              "width": 0.5
             },
             "pattern": {
              "fillmode": "overlay",
              "size": 10,
              "solidity": 0.2
             }
            },
            "type": "bar"
           }
          ],
          "barpolar": [
           {
            "marker": {
             "line": {
              "color": "#E5ECF6",
              "width": 0.5
             },
             "pattern": {
              "fillmode": "overlay",
              "size": 10,
              "solidity": 0.2
             }
            },
            "type": "barpolar"
           }
          ],
          "carpet": [
           {
            "aaxis": {
             "endlinecolor": "#2a3f5f",
             "gridcolor": "white",
             "linecolor": "white",
             "minorgridcolor": "white",
             "startlinecolor": "#2a3f5f"
            },
            "baxis": {
             "endlinecolor": "#2a3f5f",
             "gridcolor": "white",
             "linecolor": "white",
             "minorgridcolor": "white",
             "startlinecolor": "#2a3f5f"
            },
            "type": "carpet"
           }
          ],
          "choropleth": [
           {
            "colorbar": {
             "outlinewidth": 0,
             "ticks": ""
            },
            "type": "choropleth"
           }
          ],
          "contour": [
           {
            "colorbar": {
             "outlinewidth": 0,
             "ticks": ""
            },
            "colorscale": [
             [
              0,
              "#0d0887"
             ],
             [
              0.1111111111111111,
              "#46039f"
             ],
             [
              0.2222222222222222,
              "#7201a8"
             ],
             [
              0.3333333333333333,
              "#9c179e"
             ],
             [
              0.4444444444444444,
              "#bd3786"
             ],
             [
              0.5555555555555556,
              "#d8576b"
             ],
             [
              0.6666666666666666,
              "#ed7953"
             ],
             [
              0.7777777777777778,
              "#fb9f3a"
             ],
             [
              0.8888888888888888,
              "#fdca26"
             ],
             [
              1,
              "#f0f921"
             ]
            ],
            "type": "contour"
           }
          ],
          "contourcarpet": [
           {
            "colorbar": {
             "outlinewidth": 0,
             "ticks": ""
            },
            "type": "contourcarpet"
           }
          ],
          "heatmap": [
           {
            "colorbar": {
             "outlinewidth": 0,
             "ticks": ""
            },
            "colorscale": [
             [
              0,
              "#0d0887"
             ],
             [
              0.1111111111111111,
              "#46039f"
             ],
             [
              0.2222222222222222,
              "#7201a8"
             ],
             [
              0.3333333333333333,
              "#9c179e"
             ],
             [
              0.4444444444444444,
              "#bd3786"
             ],
             [
              0.5555555555555556,
              "#d8576b"
             ],
             [
              0.6666666666666666,
              "#ed7953"
             ],
             [
              0.7777777777777778,
              "#fb9f3a"
             ],
             [
              0.8888888888888888,
              "#fdca26"
             ],
             [
              1,
              "#f0f921"
             ]
            ],
            "type": "heatmap"
           }
          ],
          "heatmapgl": [
           {
            "colorbar": {
             "outlinewidth": 0,
             "ticks": ""
            },
            "colorscale": [
             [
              0,
              "#0d0887"
             ],
             [
              0.1111111111111111,
              "#46039f"
             ],
             [
              0.2222222222222222,
              "#7201a8"
             ],
             [
              0.3333333333333333,
              "#9c179e"
             ],
             [
              0.4444444444444444,
              "#bd3786"
             ],
             [
              0.5555555555555556,
              "#d8576b"
             ],
             [
              0.6666666666666666,
              "#ed7953"
             ],
             [
              0.7777777777777778,
              "#fb9f3a"
             ],
             [
              0.8888888888888888,
              "#fdca26"
             ],
             [
              1,
              "#f0f921"
             ]
            ],
            "type": "heatmapgl"
           }
          ],
          "histogram": [
           {
            "marker": {
             "pattern": {
              "fillmode": "overlay",
              "size": 10,
              "solidity": 0.2
             }
            },
            "type": "histogram"
           }
          ],
          "histogram2d": [
           {
            "colorbar": {
             "outlinewidth": 0,
             "ticks": ""
            },
            "colorscale": [
             [
              0,
              "#0d0887"
             ],
             [
              0.1111111111111111,
              "#46039f"
             ],
             [
              0.2222222222222222,
              "#7201a8"
             ],
             [
              0.3333333333333333,
              "#9c179e"
             ],
             [
              0.4444444444444444,
              "#bd3786"
             ],
             [
              0.5555555555555556,
              "#d8576b"
             ],
             [
              0.6666666666666666,
              "#ed7953"
             ],
             [
              0.7777777777777778,
              "#fb9f3a"
             ],
             [
              0.8888888888888888,
              "#fdca26"
             ],
             [
              1,
              "#f0f921"
             ]
            ],
            "type": "histogram2d"
           }
          ],
          "histogram2dcontour": [
           {
            "colorbar": {
             "outlinewidth": 0,
             "ticks": ""
            },
            "colorscale": [
             [
              0,
              "#0d0887"
             ],
             [
              0.1111111111111111,
              "#46039f"
             ],
             [
              0.2222222222222222,
              "#7201a8"
             ],
             [
              0.3333333333333333,
              "#9c179e"
             ],
             [
              0.4444444444444444,
              "#bd3786"
             ],
             [
              0.5555555555555556,
              "#d8576b"
             ],
             [
              0.6666666666666666,
              "#ed7953"
             ],
             [
              0.7777777777777778,
              "#fb9f3a"
             ],
             [
              0.8888888888888888,
              "#fdca26"
             ],
             [
              1,
              "#f0f921"
             ]
            ],
            "type": "histogram2dcontour"
           }
          ],
          "mesh3d": [
           {
            "colorbar": {
             "outlinewidth": 0,
             "ticks": ""
            },
            "type": "mesh3d"
           }
          ],
          "parcoords": [
           {
            "line": {
             "colorbar": {
              "outlinewidth": 0,
              "ticks": ""
             }
            },
            "type": "parcoords"
           }
          ],
          "pie": [
           {
            "automargin": true,
            "type": "pie"
           }
          ],
          "scatter": [
           {
            "marker": {
             "colorbar": {
              "outlinewidth": 0,
              "ticks": ""
             }
            },
            "type": "scatter"
           }
          ],
          "scatter3d": [
           {
            "line": {
             "colorbar": {
              "outlinewidth": 0,
              "ticks": ""
             }
            },
            "marker": {
             "colorbar": {
              "outlinewidth": 0,
              "ticks": ""
             }
            },
            "type": "scatter3d"
           }
          ],
          "scattercarpet": [
           {
            "marker": {
             "colorbar": {
              "outlinewidth": 0,
              "ticks": ""
             }
            },
            "type": "scattercarpet"
           }
          ],
          "scattergeo": [
           {
            "marker": {
             "colorbar": {
              "outlinewidth": 0,
              "ticks": ""
             }
            },
            "type": "scattergeo"
           }
          ],
          "scattergl": [
           {
            "marker": {
             "colorbar": {
              "outlinewidth": 0,
              "ticks": ""
             }
            },
            "type": "scattergl"
           }
          ],
          "scattermapbox": [
           {
            "marker": {
             "colorbar": {
              "outlinewidth": 0,
              "ticks": ""
             }
            },
            "type": "scattermapbox"
           }
          ],
          "scatterpolar": [
           {
            "marker": {
             "colorbar": {
              "outlinewidth": 0,
              "ticks": ""
             }
            },
            "type": "scatterpolar"
           }
          ],
          "scatterpolargl": [
           {
            "marker": {
             "colorbar": {
              "outlinewidth": 0,
              "ticks": ""
             }
            },
            "type": "scatterpolargl"
           }
          ],
          "scatterternary": [
           {
            "marker": {
             "colorbar": {
              "outlinewidth": 0,
              "ticks": ""
             }
            },
            "type": "scatterternary"
           }
          ],
          "surface": [
           {
            "colorbar": {
             "outlinewidth": 0,
             "ticks": ""
            },
            "colorscale": [
             [
              0,
              "#0d0887"
             ],
             [
              0.1111111111111111,
              "#46039f"
             ],
             [
              0.2222222222222222,
              "#7201a8"
             ],
             [
              0.3333333333333333,
              "#9c179e"
             ],
             [
              0.4444444444444444,
              "#bd3786"
             ],
             [
              0.5555555555555556,
              "#d8576b"
             ],
             [
              0.6666666666666666,
              "#ed7953"
             ],
             [
              0.7777777777777778,
              "#fb9f3a"
             ],
             [
              0.8888888888888888,
              "#fdca26"
             ],
             [
              1,
              "#f0f921"
             ]
            ],
            "type": "surface"
           }
          ],
          "table": [
           {
            "cells": {
             "fill": {
              "color": "#EBF0F8"
             },
             "line": {
              "color": "white"
             }
            },
            "header": {
             "fill": {
              "color": "#C8D4E3"
             },
             "line": {
              "color": "white"
             }
            },
            "type": "table"
           }
          ]
         },
         "layout": {
          "annotationdefaults": {
           "arrowcolor": "#2a3f5f",
           "arrowhead": 0,
           "arrowwidth": 1
          },
          "autotypenumbers": "strict",
          "coloraxis": {
           "colorbar": {
            "outlinewidth": 0,
            "ticks": ""
           }
          },
          "colorscale": {
           "diverging": [
            [
             0,
             "#8e0152"
            ],
            [
             0.1,
             "#c51b7d"
            ],
            [
             0.2,
             "#de77ae"
            ],
            [
             0.3,
             "#f1b6da"
            ],
            [
             0.4,
             "#fde0ef"
            ],
            [
             0.5,
             "#f7f7f7"
            ],
            [
             0.6,
             "#e6f5d0"
            ],
            [
             0.7,
             "#b8e186"
            ],
            [
             0.8,
             "#7fbc41"
            ],
            [
             0.9,
             "#4d9221"
            ],
            [
             1,
             "#276419"
            ]
           ],
           "sequential": [
            [
             0,
             "#0d0887"
            ],
            [
             0.1111111111111111,
             "#46039f"
            ],
            [
             0.2222222222222222,
             "#7201a8"
            ],
            [
             0.3333333333333333,
             "#9c179e"
            ],
            [
             0.4444444444444444,
             "#bd3786"
            ],
            [
             0.5555555555555556,
             "#d8576b"
            ],
            [
             0.6666666666666666,
             "#ed7953"
            ],
            [
             0.7777777777777778,
             "#fb9f3a"
            ],
            [
             0.8888888888888888,
             "#fdca26"
            ],
            [
             1,
             "#f0f921"
            ]
           ],
           "sequentialminus": [
            [
             0,
             "#0d0887"
            ],
            [
             0.1111111111111111,
             "#46039f"
            ],
            [
             0.2222222222222222,
             "#7201a8"
            ],
            [
             0.3333333333333333,
             "#9c179e"
            ],
            [
             0.4444444444444444,
             "#bd3786"
            ],
            [
             0.5555555555555556,
             "#d8576b"
            ],
            [
             0.6666666666666666,
             "#ed7953"
            ],
            [
             0.7777777777777778,
             "#fb9f3a"
            ],
            [
             0.8888888888888888,
             "#fdca26"
            ],
            [
             1,
             "#f0f921"
            ]
           ]
          },
          "colorway": [
           "#636efa",
           "#EF553B",
           "#00cc96",
           "#ab63fa",
           "#FFA15A",
           "#19d3f3",
           "#FF6692",
           "#B6E880",
           "#FF97FF",
           "#FECB52"
          ],
          "font": {
           "color": "#2a3f5f"
          },
          "geo": {
           "bgcolor": "white",
           "lakecolor": "white",
           "landcolor": "#E5ECF6",
           "showlakes": true,
           "showland": true,
           "subunitcolor": "white"
          },
          "hoverlabel": {
           "align": "left"
          },
          "hovermode": "closest",
          "mapbox": {
           "style": "light"
          },
          "paper_bgcolor": "white",
          "plot_bgcolor": "#E5ECF6",
          "polar": {
           "angularaxis": {
            "gridcolor": "white",
            "linecolor": "white",
            "ticks": ""
           },
           "bgcolor": "#E5ECF6",
           "radialaxis": {
            "gridcolor": "white",
            "linecolor": "white",
            "ticks": ""
           }
          },
          "scene": {
           "xaxis": {
            "backgroundcolor": "#E5ECF6",
            "gridcolor": "white",
            "gridwidth": 2,
            "linecolor": "white",
            "showbackground": true,
            "ticks": "",
            "zerolinecolor": "white"
           },
           "yaxis": {
            "backgroundcolor": "#E5ECF6",
            "gridcolor": "white",
            "gridwidth": 2,
            "linecolor": "white",
            "showbackground": true,
            "ticks": "",
            "zerolinecolor": "white"
           },
           "zaxis": {
            "backgroundcolor": "#E5ECF6",
            "gridcolor": "white",
            "gridwidth": 2,
            "linecolor": "white",
            "showbackground": true,
            "ticks": "",
            "zerolinecolor": "white"
           }
          },
          "shapedefaults": {
           "line": {
            "color": "#2a3f5f"
           }
          },
          "ternary": {
           "aaxis": {
            "gridcolor": "white",
            "linecolor": "white",
            "ticks": ""
           },
           "baxis": {
            "gridcolor": "white",
            "linecolor": "white",
            "ticks": ""
           },
           "bgcolor": "#E5ECF6",
           "caxis": {
            "gridcolor": "white",
            "linecolor": "white",
            "ticks": ""
           }
          },
          "title": {
           "x": 0.05
          },
          "xaxis": {
           "automargin": true,
           "gridcolor": "white",
           "linecolor": "white",
           "ticks": "",
           "title": {
            "standoff": 15
           },
           "zerolinecolor": "white",
           "zerolinewidth": 2
          },
          "yaxis": {
           "automargin": true,
           "gridcolor": "white",
           "linecolor": "white",
           "ticks": "",
           "title": {
            "standoff": 15
           },
           "zerolinecolor": "white",
           "zerolinewidth": 2
          }
         }
        },
        "title": {
         "text": "GDP and Life Expectancy With Focus On Quality Of Life - Top 20 Countries"
        },
        "xaxis": {
         "anchor": "y",
         "domain": [
          0,
          1
         ],
         "title": {
          "text": "gdp_percapita"
         },
         "type": "log"
        },
        "yaxis": {
         "anchor": "x",
         "domain": [
          0,
          1
         ],
         "title": {
          "text": "life_expectancy"
         }
        }
       }
      },
      "text/html": [
       "<div>                            <div id=\"13e10409-7c44-47fa-a300-8cc296b7b3a1\" class=\"plotly-graph-div\" style=\"height:800px; width:100%;\"></div>            <script type=\"text/javascript\">                require([\"plotly\"], function(Plotly) {                    window.PLOTLYENV=window.PLOTLYENV || {};                                    if (document.getElementById(\"13e10409-7c44-47fa-a300-8cc296b7b3a1\")) {                    Plotly.newPlot(                        \"13e10409-7c44-47fa-a300-8cc296b7b3a1\",                        [{\"hovertemplate\":\"gdp_percapita=%{x}<br>life_expectancy=%{y}<br>country_code=%{text}<extra></extra>\",\"legendgroup\":\"\",\"marker\":{\"color\":\"#636efa\",\"symbol\":\"circle\"},\"mode\":\"markers+text\",\"name\":\"\",\"orientation\":\"v\",\"showlegend\":false,\"text\":[\"JPN\",\"ITA\",\"ESP\",\"CHE\",\"ISL\",\"FRA\",\"SGP\",\"SWE\",\"AUS\",\"LUX\",\"CAN\",\"ISR\",\"MLT\",\"AUT\",\"CHL\",\"NLD\",\"GBR\",\"GRC\",\"PRT\",\"IRL\"],\"x\":[34513.36,30032.11,25717.56,81410.02,50472.94,37612.91,53628.76,50319.11,51363.9,100950.49,43349.62,35743.46,23972.98,43749.55,13469.47,44322.83,43976.42,17955.19,19225.67,60896.18],\"xaxis\":\"x\",\"y\":[83.84365854,83.4902439,83.3804878,83.19756098,82.86097561,82.67073171,82.59512195,82.55121951,82.45121951,82.22926829,82.13763415,82.05121951,81.94634146,81.84390244,81.78756098,81.70731707,81.60487805,81.58780488,81.52195122,81.50243902],\"yaxis\":\"y\",\"type\":\"scatter\",\"textposition\":\"top center\"}],                        {\"template\":{\"data\":{\"bar\":[{\"error_x\":{\"color\":\"#2a3f5f\"},\"error_y\":{\"color\":\"#2a3f5f\"},\"marker\":{\"line\":{\"color\":\"#E5ECF6\",\"width\":0.5},\"pattern\":{\"fillmode\":\"overlay\",\"size\":10,\"solidity\":0.2}},\"type\":\"bar\"}],\"barpolar\":[{\"marker\":{\"line\":{\"color\":\"#E5ECF6\",\"width\":0.5},\"pattern\":{\"fillmode\":\"overlay\",\"size\":10,\"solidity\":0.2}},\"type\":\"barpolar\"}],\"carpet\":[{\"aaxis\":{\"endlinecolor\":\"#2a3f5f\",\"gridcolor\":\"white\",\"linecolor\":\"white\",\"minorgridcolor\":\"white\",\"startlinecolor\":\"#2a3f5f\"},\"baxis\":{\"endlinecolor\":\"#2a3f5f\",\"gridcolor\":\"white\",\"linecolor\":\"white\",\"minorgridcolor\":\"white\",\"startlinecolor\":\"#2a3f5f\"},\"type\":\"carpet\"}],\"choropleth\":[{\"colorbar\":{\"outlinewidth\":0,\"ticks\":\"\"},\"type\":\"choropleth\"}],\"contour\":[{\"colorbar\":{\"outlinewidth\":0,\"ticks\":\"\"},\"colorscale\":[[0.0,\"#0d0887\"],[0.1111111111111111,\"#46039f\"],[0.2222222222222222,\"#7201a8\"],[0.3333333333333333,\"#9c179e\"],[0.4444444444444444,\"#bd3786\"],[0.5555555555555556,\"#d8576b\"],[0.6666666666666666,\"#ed7953\"],[0.7777777777777778,\"#fb9f3a\"],[0.8888888888888888,\"#fdca26\"],[1.0,\"#f0f921\"]],\"type\":\"contour\"}],\"contourcarpet\":[{\"colorbar\":{\"outlinewidth\":0,\"ticks\":\"\"},\"type\":\"contourcarpet\"}],\"heatmap\":[{\"colorbar\":{\"outlinewidth\":0,\"ticks\":\"\"},\"colorscale\":[[0.0,\"#0d0887\"],[0.1111111111111111,\"#46039f\"],[0.2222222222222222,\"#7201a8\"],[0.3333333333333333,\"#9c179e\"],[0.4444444444444444,\"#bd3786\"],[0.5555555555555556,\"#d8576b\"],[0.6666666666666666,\"#ed7953\"],[0.7777777777777778,\"#fb9f3a\"],[0.8888888888888888,\"#fdca26\"],[1.0,\"#f0f921\"]],\"type\":\"heatmap\"}],\"heatmapgl\":[{\"colorbar\":{\"outlinewidth\":0,\"ticks\":\"\"},\"colorscale\":[[0.0,\"#0d0887\"],[0.1111111111111111,\"#46039f\"],[0.2222222222222222,\"#7201a8\"],[0.3333333333333333,\"#9c179e\"],[0.4444444444444444,\"#bd3786\"],[0.5555555555555556,\"#d8576b\"],[0.6666666666666666,\"#ed7953\"],[0.7777777777777778,\"#fb9f3a\"],[0.8888888888888888,\"#fdca26\"],[1.0,\"#f0f921\"]],\"type\":\"heatmapgl\"}],\"histogram\":[{\"marker\":{\"pattern\":{\"fillmode\":\"overlay\",\"size\":10,\"solidity\":0.2}},\"type\":\"histogram\"}],\"histogram2d\":[{\"colorbar\":{\"outlinewidth\":0,\"ticks\":\"\"},\"colorscale\":[[0.0,\"#0d0887\"],[0.1111111111111111,\"#46039f\"],[0.2222222222222222,\"#7201a8\"],[0.3333333333333333,\"#9c179e\"],[0.4444444444444444,\"#bd3786\"],[0.5555555555555556,\"#d8576b\"],[0.6666666666666666,\"#ed7953\"],[0.7777777777777778,\"#fb9f3a\"],[0.8888888888888888,\"#fdca26\"],[1.0,\"#f0f921\"]],\"type\":\"histogram2d\"}],\"histogram2dcontour\":[{\"colorbar\":{\"outlinewidth\":0,\"ticks\":\"\"},\"colorscale\":[[0.0,\"#0d0887\"],[0.1111111111111111,\"#46039f\"],[0.2222222222222222,\"#7201a8\"],[0.3333333333333333,\"#9c179e\"],[0.4444444444444444,\"#bd3786\"],[0.5555555555555556,\"#d8576b\"],[0.6666666666666666,\"#ed7953\"],[0.7777777777777778,\"#fb9f3a\"],[0.8888888888888888,\"#fdca26\"],[1.0,\"#f0f921\"]],\"type\":\"histogram2dcontour\"}],\"mesh3d\":[{\"colorbar\":{\"outlinewidth\":0,\"ticks\":\"\"},\"type\":\"mesh3d\"}],\"parcoords\":[{\"line\":{\"colorbar\":{\"outlinewidth\":0,\"ticks\":\"\"}},\"type\":\"parcoords\"}],\"pie\":[{\"automargin\":true,\"type\":\"pie\"}],\"scatter\":[{\"marker\":{\"colorbar\":{\"outlinewidth\":0,\"ticks\":\"\"}},\"type\":\"scatter\"}],\"scatter3d\":[{\"line\":{\"colorbar\":{\"outlinewidth\":0,\"ticks\":\"\"}},\"marker\":{\"colorbar\":{\"outlinewidth\":0,\"ticks\":\"\"}},\"type\":\"scatter3d\"}],\"scattercarpet\":[{\"marker\":{\"colorbar\":{\"outlinewidth\":0,\"ticks\":\"\"}},\"type\":\"scattercarpet\"}],\"scattergeo\":[{\"marker\":{\"colorbar\":{\"outlinewidth\":0,\"ticks\":\"\"}},\"type\":\"scattergeo\"}],\"scattergl\":[{\"marker\":{\"colorbar\":{\"outlinewidth\":0,\"ticks\":\"\"}},\"type\":\"scattergl\"}],\"scattermapbox\":[{\"marker\":{\"colorbar\":{\"outlinewidth\":0,\"ticks\":\"\"}},\"type\":\"scattermapbox\"}],\"scatterpolar\":[{\"marker\":{\"colorbar\":{\"outlinewidth\":0,\"ticks\":\"\"}},\"type\":\"scatterpolar\"}],\"scatterpolargl\":[{\"marker\":{\"colorbar\":{\"outlinewidth\":0,\"ticks\":\"\"}},\"type\":\"scatterpolargl\"}],\"scatterternary\":[{\"marker\":{\"colorbar\":{\"outlinewidth\":0,\"ticks\":\"\"}},\"type\":\"scatterternary\"}],\"surface\":[{\"colorbar\":{\"outlinewidth\":0,\"ticks\":\"\"},\"colorscale\":[[0.0,\"#0d0887\"],[0.1111111111111111,\"#46039f\"],[0.2222222222222222,\"#7201a8\"],[0.3333333333333333,\"#9c179e\"],[0.4444444444444444,\"#bd3786\"],[0.5555555555555556,\"#d8576b\"],[0.6666666666666666,\"#ed7953\"],[0.7777777777777778,\"#fb9f3a\"],[0.8888888888888888,\"#fdca26\"],[1.0,\"#f0f921\"]],\"type\":\"surface\"}],\"table\":[{\"cells\":{\"fill\":{\"color\":\"#EBF0F8\"},\"line\":{\"color\":\"white\"}},\"header\":{\"fill\":{\"color\":\"#C8D4E3\"},\"line\":{\"color\":\"white\"}},\"type\":\"table\"}]},\"layout\":{\"annotationdefaults\":{\"arrowcolor\":\"#2a3f5f\",\"arrowhead\":0,\"arrowwidth\":1},\"autotypenumbers\":\"strict\",\"coloraxis\":{\"colorbar\":{\"outlinewidth\":0,\"ticks\":\"\"}},\"colorscale\":{\"diverging\":[[0,\"#8e0152\"],[0.1,\"#c51b7d\"],[0.2,\"#de77ae\"],[0.3,\"#f1b6da\"],[0.4,\"#fde0ef\"],[0.5,\"#f7f7f7\"],[0.6,\"#e6f5d0\"],[0.7,\"#b8e186\"],[0.8,\"#7fbc41\"],[0.9,\"#4d9221\"],[1,\"#276419\"]],\"sequential\":[[0.0,\"#0d0887\"],[0.1111111111111111,\"#46039f\"],[0.2222222222222222,\"#7201a8\"],[0.3333333333333333,\"#9c179e\"],[0.4444444444444444,\"#bd3786\"],[0.5555555555555556,\"#d8576b\"],[0.6666666666666666,\"#ed7953\"],[0.7777777777777778,\"#fb9f3a\"],[0.8888888888888888,\"#fdca26\"],[1.0,\"#f0f921\"]],\"sequentialminus\":[[0.0,\"#0d0887\"],[0.1111111111111111,\"#46039f\"],[0.2222222222222222,\"#7201a8\"],[0.3333333333333333,\"#9c179e\"],[0.4444444444444444,\"#bd3786\"],[0.5555555555555556,\"#d8576b\"],[0.6666666666666666,\"#ed7953\"],[0.7777777777777778,\"#fb9f3a\"],[0.8888888888888888,\"#fdca26\"],[1.0,\"#f0f921\"]]},\"colorway\":[\"#636efa\",\"#EF553B\",\"#00cc96\",\"#ab63fa\",\"#FFA15A\",\"#19d3f3\",\"#FF6692\",\"#B6E880\",\"#FF97FF\",\"#FECB52\"],\"font\":{\"color\":\"#2a3f5f\"},\"geo\":{\"bgcolor\":\"white\",\"lakecolor\":\"white\",\"landcolor\":\"#E5ECF6\",\"showlakes\":true,\"showland\":true,\"subunitcolor\":\"white\"},\"hoverlabel\":{\"align\":\"left\"},\"hovermode\":\"closest\",\"mapbox\":{\"style\":\"light\"},\"paper_bgcolor\":\"white\",\"plot_bgcolor\":\"#E5ECF6\",\"polar\":{\"angularaxis\":{\"gridcolor\":\"white\",\"linecolor\":\"white\",\"ticks\":\"\"},\"bgcolor\":\"#E5ECF6\",\"radialaxis\":{\"gridcolor\":\"white\",\"linecolor\":\"white\",\"ticks\":\"\"}},\"scene\":{\"xaxis\":{\"backgroundcolor\":\"#E5ECF6\",\"gridcolor\":\"white\",\"gridwidth\":2,\"linecolor\":\"white\",\"showbackground\":true,\"ticks\":\"\",\"zerolinecolor\":\"white\"},\"yaxis\":{\"backgroundcolor\":\"#E5ECF6\",\"gridcolor\":\"white\",\"gridwidth\":2,\"linecolor\":\"white\",\"showbackground\":true,\"ticks\":\"\",\"zerolinecolor\":\"white\"},\"zaxis\":{\"backgroundcolor\":\"#E5ECF6\",\"gridcolor\":\"white\",\"gridwidth\":2,\"linecolor\":\"white\",\"showbackground\":true,\"ticks\":\"\",\"zerolinecolor\":\"white\"}},\"shapedefaults\":{\"line\":{\"color\":\"#2a3f5f\"}},\"ternary\":{\"aaxis\":{\"gridcolor\":\"white\",\"linecolor\":\"white\",\"ticks\":\"\"},\"baxis\":{\"gridcolor\":\"white\",\"linecolor\":\"white\",\"ticks\":\"\"},\"bgcolor\":\"#E5ECF6\",\"caxis\":{\"gridcolor\":\"white\",\"linecolor\":\"white\",\"ticks\":\"\"}},\"title\":{\"x\":0.05},\"xaxis\":{\"automargin\":true,\"gridcolor\":\"white\",\"linecolor\":\"white\",\"ticks\":\"\",\"title\":{\"standoff\":15},\"zerolinecolor\":\"white\",\"zerolinewidth\":2},\"yaxis\":{\"automargin\":true,\"gridcolor\":\"white\",\"linecolor\":\"white\",\"ticks\":\"\",\"title\":{\"standoff\":15},\"zerolinecolor\":\"white\",\"zerolinewidth\":2}}},\"xaxis\":{\"anchor\":\"y\",\"domain\":[0.0,1.0],\"title\":{\"text\":\"gdp_percapita\"},\"type\":\"log\"},\"yaxis\":{\"anchor\":\"x\",\"domain\":[0.0,1.0],\"title\":{\"text\":\"life_expectancy\"}},\"legend\":{\"tracegroupgap\":0},\"margin\":{\"t\":60},\"title\":{\"text\":\"GDP and Life Expectancy With Focus On Quality Of Life - Top 20 Countries\"},\"height\":800},                        {\"responsive\": true}                    ).then(function(){\n",
       "                            \n",
       "var gd = document.getElementById('13e10409-7c44-47fa-a300-8cc296b7b3a1');\n",
       "var x = new MutationObserver(function (mutations, observer) {{\n",
       "        var display = window.getComputedStyle(gd).display;\n",
       "        if (!display || display === 'none') {{\n",
       "            console.log([gd, 'removed!']);\n",
       "            Plotly.purge(gd);\n",
       "            observer.disconnect();\n",
       "        }}\n",
       "}});\n",
       "\n",
       "// Listen for the removal of the full notebook cells\n",
       "var notebookContainer = gd.closest('#notebook-container');\n",
       "if (notebookContainer) {{\n",
       "    x.observe(notebookContainer, {childList: true});\n",
       "}}\n",
       "\n",
       "// Listen for the clearing of the current output cell\n",
       "var outputEl = gd.closest('.output');\n",
       "if (outputEl) {{\n",
       "    x.observe(outputEl, {childList: true});\n",
       "}}\n",
       "\n",
       "                        })                };                });            </script>        </div>"
      ]
     },
     "metadata": {},
     "output_type": "display_data"
    }
   ],
   "source": [
    "# scatter plot of 'GDP and Life Expectancy With Focus On Quality Of Life - Top 20 Countries'\n",
    "fig2 = px.scatter(df_pop_eco2015.sort_values(by ='life_expectancy', ascending = False).head(20), x =\"gdp_percapita\", y = \"life_expectancy\", text = \"country_code\", log_x = True, size_max = 60)\n",
    "fig2.update_traces(textposition ='top center')\n",
    "fig2.update_layout(\n",
    "    height = 800,\n",
    "    title_text = 'GDP and Life Expectancy With Focus On Quality Of Life - Top 20 Countries')\n",
    "fig2.show()"
   ]
  },
  {
   "cell_type": "code",
   "execution_count": 121,
   "id": "fa183fc5",
   "metadata": {},
   "outputs": [
    {
     "data": {
      "application/vnd.plotly.v1+json": {
       "config": {
        "plotlyServerURL": "https://plot.ly"
       },
       "data": [
        {
         "hovertemplate": "gdp_percapita=%{x}<br>life_expectancy=%{y}<br>country_code=%{text}<extra></extra>",
         "legendgroup": "",
         "marker": {
          "color": "#636efa",
          "symbol": "circle"
         },
         "mode": "markers+text",
         "name": "",
         "orientation": "v",
         "showlegend": false,
         "text": [
          "LUX",
          "CHE",
          "MAC",
          "QAT",
          "IRL",
          "USA",
          "SGP",
          "DNK",
          "AUS",
          "ISL"
         ],
         "textposition": "top center",
         "type": "scatter",
         "x": [
          100950.49,
          81410.02,
          70214.9,
          68004.02,
          60896.18,
          56174.94,
          53628.76,
          53237.28,
          51363.9,
          50472.94
         ],
         "xaxis": "x",
         "y": [
          82.22926829,
          83.19756098,
          80.76607317,
          78.76258537,
          81.50243902,
          78.74146341,
          82.59512195,
          81.1,
          82.45121951,
          82.86097561
         ],
         "yaxis": "y"
        }
       ],
       "layout": {
        "height": 800,
        "legend": {
         "tracegroupgap": 0
        },
        "margin": {
         "t": 60
        },
        "template": {
         "data": {
          "bar": [
           {
            "error_x": {
             "color": "#2a3f5f"
            },
            "error_y": {
             "color": "#2a3f5f"
            },
            "marker": {
             "line": {
              "color": "#E5ECF6",
              "width": 0.5
             },
             "pattern": {
              "fillmode": "overlay",
              "size": 10,
              "solidity": 0.2
             }
            },
            "type": "bar"
           }
          ],
          "barpolar": [
           {
            "marker": {
             "line": {
              "color": "#E5ECF6",
              "width": 0.5
             },
             "pattern": {
              "fillmode": "overlay",
              "size": 10,
              "solidity": 0.2
             }
            },
            "type": "barpolar"
           }
          ],
          "carpet": [
           {
            "aaxis": {
             "endlinecolor": "#2a3f5f",
             "gridcolor": "white",
             "linecolor": "white",
             "minorgridcolor": "white",
             "startlinecolor": "#2a3f5f"
            },
            "baxis": {
             "endlinecolor": "#2a3f5f",
             "gridcolor": "white",
             "linecolor": "white",
             "minorgridcolor": "white",
             "startlinecolor": "#2a3f5f"
            },
            "type": "carpet"
           }
          ],
          "choropleth": [
           {
            "colorbar": {
             "outlinewidth": 0,
             "ticks": ""
            },
            "type": "choropleth"
           }
          ],
          "contour": [
           {
            "colorbar": {
             "outlinewidth": 0,
             "ticks": ""
            },
            "colorscale": [
             [
              0,
              "#0d0887"
             ],
             [
              0.1111111111111111,
              "#46039f"
             ],
             [
              0.2222222222222222,
              "#7201a8"
             ],
             [
              0.3333333333333333,
              "#9c179e"
             ],
             [
              0.4444444444444444,
              "#bd3786"
             ],
             [
              0.5555555555555556,
              "#d8576b"
             ],
             [
              0.6666666666666666,
              "#ed7953"
             ],
             [
              0.7777777777777778,
              "#fb9f3a"
             ],
             [
              0.8888888888888888,
              "#fdca26"
             ],
             [
              1,
              "#f0f921"
             ]
            ],
            "type": "contour"
           }
          ],
          "contourcarpet": [
           {
            "colorbar": {
             "outlinewidth": 0,
             "ticks": ""
            },
            "type": "contourcarpet"
           }
          ],
          "heatmap": [
           {
            "colorbar": {
             "outlinewidth": 0,
             "ticks": ""
            },
            "colorscale": [
             [
              0,
              "#0d0887"
             ],
             [
              0.1111111111111111,
              "#46039f"
             ],
             [
              0.2222222222222222,
              "#7201a8"
             ],
             [
              0.3333333333333333,
              "#9c179e"
             ],
             [
              0.4444444444444444,
              "#bd3786"
             ],
             [
              0.5555555555555556,
              "#d8576b"
             ],
             [
              0.6666666666666666,
              "#ed7953"
             ],
             [
              0.7777777777777778,
              "#fb9f3a"
             ],
             [
              0.8888888888888888,
              "#fdca26"
             ],
             [
              1,
              "#f0f921"
             ]
            ],
            "type": "heatmap"
           }
          ],
          "heatmapgl": [
           {
            "colorbar": {
             "outlinewidth": 0,
             "ticks": ""
            },
            "colorscale": [
             [
              0,
              "#0d0887"
             ],
             [
              0.1111111111111111,
              "#46039f"
             ],
             [
              0.2222222222222222,
              "#7201a8"
             ],
             [
              0.3333333333333333,
              "#9c179e"
             ],
             [
              0.4444444444444444,
              "#bd3786"
             ],
             [
              0.5555555555555556,
              "#d8576b"
             ],
             [
              0.6666666666666666,
              "#ed7953"
             ],
             [
              0.7777777777777778,
              "#fb9f3a"
             ],
             [
              0.8888888888888888,
              "#fdca26"
             ],
             [
              1,
              "#f0f921"
             ]
            ],
            "type": "heatmapgl"
           }
          ],
          "histogram": [
           {
            "marker": {
             "pattern": {
              "fillmode": "overlay",
              "size": 10,
              "solidity": 0.2
             }
            },
            "type": "histogram"
           }
          ],
          "histogram2d": [
           {
            "colorbar": {
             "outlinewidth": 0,
             "ticks": ""
            },
            "colorscale": [
             [
              0,
              "#0d0887"
             ],
             [
              0.1111111111111111,
              "#46039f"
             ],
             [
              0.2222222222222222,
              "#7201a8"
             ],
             [
              0.3333333333333333,
              "#9c179e"
             ],
             [
              0.4444444444444444,
              "#bd3786"
             ],
             [
              0.5555555555555556,
              "#d8576b"
             ],
             [
              0.6666666666666666,
              "#ed7953"
             ],
             [
              0.7777777777777778,
              "#fb9f3a"
             ],
             [
              0.8888888888888888,
              "#fdca26"
             ],
             [
              1,
              "#f0f921"
             ]
            ],
            "type": "histogram2d"
           }
          ],
          "histogram2dcontour": [
           {
            "colorbar": {
             "outlinewidth": 0,
             "ticks": ""
            },
            "colorscale": [
             [
              0,
              "#0d0887"
             ],
             [
              0.1111111111111111,
              "#46039f"
             ],
             [
              0.2222222222222222,
              "#7201a8"
             ],
             [
              0.3333333333333333,
              "#9c179e"
             ],
             [
              0.4444444444444444,
              "#bd3786"
             ],
             [
              0.5555555555555556,
              "#d8576b"
             ],
             [
              0.6666666666666666,
              "#ed7953"
             ],
             [
              0.7777777777777778,
              "#fb9f3a"
             ],
             [
              0.8888888888888888,
              "#fdca26"
             ],
             [
              1,
              "#f0f921"
             ]
            ],
            "type": "histogram2dcontour"
           }
          ],
          "mesh3d": [
           {
            "colorbar": {
             "outlinewidth": 0,
             "ticks": ""
            },
            "type": "mesh3d"
           }
          ],
          "parcoords": [
           {
            "line": {
             "colorbar": {
              "outlinewidth": 0,
              "ticks": ""
             }
            },
            "type": "parcoords"
           }
          ],
          "pie": [
           {
            "automargin": true,
            "type": "pie"
           }
          ],
          "scatter": [
           {
            "marker": {
             "colorbar": {
              "outlinewidth": 0,
              "ticks": ""
             }
            },
            "type": "scatter"
           }
          ],
          "scatter3d": [
           {
            "line": {
             "colorbar": {
              "outlinewidth": 0,
              "ticks": ""
             }
            },
            "marker": {
             "colorbar": {
              "outlinewidth": 0,
              "ticks": ""
             }
            },
            "type": "scatter3d"
           }
          ],
          "scattercarpet": [
           {
            "marker": {
             "colorbar": {
              "outlinewidth": 0,
              "ticks": ""
             }
            },
            "type": "scattercarpet"
           }
          ],
          "scattergeo": [
           {
            "marker": {
             "colorbar": {
              "outlinewidth": 0,
              "ticks": ""
             }
            },
            "type": "scattergeo"
           }
          ],
          "scattergl": [
           {
            "marker": {
             "colorbar": {
              "outlinewidth": 0,
              "ticks": ""
             }
            },
            "type": "scattergl"
           }
          ],
          "scattermapbox": [
           {
            "marker": {
             "colorbar": {
              "outlinewidth": 0,
              "ticks": ""
             }
            },
            "type": "scattermapbox"
           }
          ],
          "scatterpolar": [
           {
            "marker": {
             "colorbar": {
              "outlinewidth": 0,
              "ticks": ""
             }
            },
            "type": "scatterpolar"
           }
          ],
          "scatterpolargl": [
           {
            "marker": {
             "colorbar": {
              "outlinewidth": 0,
              "ticks": ""
             }
            },
            "type": "scatterpolargl"
           }
          ],
          "scatterternary": [
           {
            "marker": {
             "colorbar": {
              "outlinewidth": 0,
              "ticks": ""
             }
            },
            "type": "scatterternary"
           }
          ],
          "surface": [
           {
            "colorbar": {
             "outlinewidth": 0,
             "ticks": ""
            },
            "colorscale": [
             [
              0,
              "#0d0887"
             ],
             [
              0.1111111111111111,
              "#46039f"
             ],
             [
              0.2222222222222222,
              "#7201a8"
             ],
             [
              0.3333333333333333,
              "#9c179e"
             ],
             [
              0.4444444444444444,
              "#bd3786"
             ],
             [
              0.5555555555555556,
              "#d8576b"
             ],
             [
              0.6666666666666666,
              "#ed7953"
             ],
             [
              0.7777777777777778,
              "#fb9f3a"
             ],
             [
              0.8888888888888888,
              "#fdca26"
             ],
             [
              1,
              "#f0f921"
             ]
            ],
            "type": "surface"
           }
          ],
          "table": [
           {
            "cells": {
             "fill": {
              "color": "#EBF0F8"
             },
             "line": {
              "color": "white"
             }
            },
            "header": {
             "fill": {
              "color": "#C8D4E3"
             },
             "line": {
              "color": "white"
             }
            },
            "type": "table"
           }
          ]
         },
         "layout": {
          "annotationdefaults": {
           "arrowcolor": "#2a3f5f",
           "arrowhead": 0,
           "arrowwidth": 1
          },
          "autotypenumbers": "strict",
          "coloraxis": {
           "colorbar": {
            "outlinewidth": 0,
            "ticks": ""
           }
          },
          "colorscale": {
           "diverging": [
            [
             0,
             "#8e0152"
            ],
            [
             0.1,
             "#c51b7d"
            ],
            [
             0.2,
             "#de77ae"
            ],
            [
             0.3,
             "#f1b6da"
            ],
            [
             0.4,
             "#fde0ef"
            ],
            [
             0.5,
             "#f7f7f7"
            ],
            [
             0.6,
             "#e6f5d0"
            ],
            [
             0.7,
             "#b8e186"
            ],
            [
             0.8,
             "#7fbc41"
            ],
            [
             0.9,
             "#4d9221"
            ],
            [
             1,
             "#276419"
            ]
           ],
           "sequential": [
            [
             0,
             "#0d0887"
            ],
            [
             0.1111111111111111,
             "#46039f"
            ],
            [
             0.2222222222222222,
             "#7201a8"
            ],
            [
             0.3333333333333333,
             "#9c179e"
            ],
            [
             0.4444444444444444,
             "#bd3786"
            ],
            [
             0.5555555555555556,
             "#d8576b"
            ],
            [
             0.6666666666666666,
             "#ed7953"
            ],
            [
             0.7777777777777778,
             "#fb9f3a"
            ],
            [
             0.8888888888888888,
             "#fdca26"
            ],
            [
             1,
             "#f0f921"
            ]
           ],
           "sequentialminus": [
            [
             0,
             "#0d0887"
            ],
            [
             0.1111111111111111,
             "#46039f"
            ],
            [
             0.2222222222222222,
             "#7201a8"
            ],
            [
             0.3333333333333333,
             "#9c179e"
            ],
            [
             0.4444444444444444,
             "#bd3786"
            ],
            [
             0.5555555555555556,
             "#d8576b"
            ],
            [
             0.6666666666666666,
             "#ed7953"
            ],
            [
             0.7777777777777778,
             "#fb9f3a"
            ],
            [
             0.8888888888888888,
             "#fdca26"
            ],
            [
             1,
             "#f0f921"
            ]
           ]
          },
          "colorway": [
           "#636efa",
           "#EF553B",
           "#00cc96",
           "#ab63fa",
           "#FFA15A",
           "#19d3f3",
           "#FF6692",
           "#B6E880",
           "#FF97FF",
           "#FECB52"
          ],
          "font": {
           "color": "#2a3f5f"
          },
          "geo": {
           "bgcolor": "white",
           "lakecolor": "white",
           "landcolor": "#E5ECF6",
           "showlakes": true,
           "showland": true,
           "subunitcolor": "white"
          },
          "hoverlabel": {
           "align": "left"
          },
          "hovermode": "closest",
          "mapbox": {
           "style": "light"
          },
          "paper_bgcolor": "white",
          "plot_bgcolor": "#E5ECF6",
          "polar": {
           "angularaxis": {
            "gridcolor": "white",
            "linecolor": "white",
            "ticks": ""
           },
           "bgcolor": "#E5ECF6",
           "radialaxis": {
            "gridcolor": "white",
            "linecolor": "white",
            "ticks": ""
           }
          },
          "scene": {
           "xaxis": {
            "backgroundcolor": "#E5ECF6",
            "gridcolor": "white",
            "gridwidth": 2,
            "linecolor": "white",
            "showbackground": true,
            "ticks": "",
            "zerolinecolor": "white"
           },
           "yaxis": {
            "backgroundcolor": "#E5ECF6",
            "gridcolor": "white",
            "gridwidth": 2,
            "linecolor": "white",
            "showbackground": true,
            "ticks": "",
            "zerolinecolor": "white"
           },
           "zaxis": {
            "backgroundcolor": "#E5ECF6",
            "gridcolor": "white",
            "gridwidth": 2,
            "linecolor": "white",
            "showbackground": true,
            "ticks": "",
            "zerolinecolor": "white"
           }
          },
          "shapedefaults": {
           "line": {
            "color": "#2a3f5f"
           }
          },
          "ternary": {
           "aaxis": {
            "gridcolor": "white",
            "linecolor": "white",
            "ticks": ""
           },
           "baxis": {
            "gridcolor": "white",
            "linecolor": "white",
            "ticks": ""
           },
           "bgcolor": "#E5ECF6",
           "caxis": {
            "gridcolor": "white",
            "linecolor": "white",
            "ticks": ""
           }
          },
          "title": {
           "x": 0.05
          },
          "xaxis": {
           "automargin": true,
           "gridcolor": "white",
           "linecolor": "white",
           "ticks": "",
           "title": {
            "standoff": 15
           },
           "zerolinecolor": "white",
           "zerolinewidth": 2
          },
          "yaxis": {
           "automargin": true,
           "gridcolor": "white",
           "linecolor": "white",
           "ticks": "",
           "title": {
            "standoff": 15
           },
           "zerolinecolor": "white",
           "zerolinewidth": 2
          }
         }
        },
        "title": {
         "text": "GDP and Life Expectancy With Focus On The Level Of GDP - Top 10 Countries"
        },
        "xaxis": {
         "anchor": "y",
         "domain": [
          0,
          1
         ],
         "title": {
          "text": "gdp_percapita"
         },
         "type": "log"
        },
        "yaxis": {
         "anchor": "x",
         "domain": [
          0,
          1
         ],
         "title": {
          "text": "life_expectancy"
         }
        }
       }
      },
      "text/html": [
       "<div>                            <div id=\"1b2341a0-0d64-49c3-9324-ebbaeddd28b4\" class=\"plotly-graph-div\" style=\"height:800px; width:100%;\"></div>            <script type=\"text/javascript\">                require([\"plotly\"], function(Plotly) {                    window.PLOTLYENV=window.PLOTLYENV || {};                                    if (document.getElementById(\"1b2341a0-0d64-49c3-9324-ebbaeddd28b4\")) {                    Plotly.newPlot(                        \"1b2341a0-0d64-49c3-9324-ebbaeddd28b4\",                        [{\"hovertemplate\":\"gdp_percapita=%{x}<br>life_expectancy=%{y}<br>country_code=%{text}<extra></extra>\",\"legendgroup\":\"\",\"marker\":{\"color\":\"#636efa\",\"symbol\":\"circle\"},\"mode\":\"markers+text\",\"name\":\"\",\"orientation\":\"v\",\"showlegend\":false,\"text\":[\"LUX\",\"CHE\",\"MAC\",\"QAT\",\"IRL\",\"USA\",\"SGP\",\"DNK\",\"AUS\",\"ISL\"],\"x\":[100950.49,81410.02,70214.9,68004.02,60896.18,56174.94,53628.76,53237.28,51363.9,50472.94],\"xaxis\":\"x\",\"y\":[82.22926829,83.19756098,80.76607317,78.76258537,81.50243902,78.74146341,82.59512195,81.1,82.45121951,82.86097561],\"yaxis\":\"y\",\"type\":\"scatter\",\"textposition\":\"top center\"}],                        {\"template\":{\"data\":{\"bar\":[{\"error_x\":{\"color\":\"#2a3f5f\"},\"error_y\":{\"color\":\"#2a3f5f\"},\"marker\":{\"line\":{\"color\":\"#E5ECF6\",\"width\":0.5},\"pattern\":{\"fillmode\":\"overlay\",\"size\":10,\"solidity\":0.2}},\"type\":\"bar\"}],\"barpolar\":[{\"marker\":{\"line\":{\"color\":\"#E5ECF6\",\"width\":0.5},\"pattern\":{\"fillmode\":\"overlay\",\"size\":10,\"solidity\":0.2}},\"type\":\"barpolar\"}],\"carpet\":[{\"aaxis\":{\"endlinecolor\":\"#2a3f5f\",\"gridcolor\":\"white\",\"linecolor\":\"white\",\"minorgridcolor\":\"white\",\"startlinecolor\":\"#2a3f5f\"},\"baxis\":{\"endlinecolor\":\"#2a3f5f\",\"gridcolor\":\"white\",\"linecolor\":\"white\",\"minorgridcolor\":\"white\",\"startlinecolor\":\"#2a3f5f\"},\"type\":\"carpet\"}],\"choropleth\":[{\"colorbar\":{\"outlinewidth\":0,\"ticks\":\"\"},\"type\":\"choropleth\"}],\"contour\":[{\"colorbar\":{\"outlinewidth\":0,\"ticks\":\"\"},\"colorscale\":[[0.0,\"#0d0887\"],[0.1111111111111111,\"#46039f\"],[0.2222222222222222,\"#7201a8\"],[0.3333333333333333,\"#9c179e\"],[0.4444444444444444,\"#bd3786\"],[0.5555555555555556,\"#d8576b\"],[0.6666666666666666,\"#ed7953\"],[0.7777777777777778,\"#fb9f3a\"],[0.8888888888888888,\"#fdca26\"],[1.0,\"#f0f921\"]],\"type\":\"contour\"}],\"contourcarpet\":[{\"colorbar\":{\"outlinewidth\":0,\"ticks\":\"\"},\"type\":\"contourcarpet\"}],\"heatmap\":[{\"colorbar\":{\"outlinewidth\":0,\"ticks\":\"\"},\"colorscale\":[[0.0,\"#0d0887\"],[0.1111111111111111,\"#46039f\"],[0.2222222222222222,\"#7201a8\"],[0.3333333333333333,\"#9c179e\"],[0.4444444444444444,\"#bd3786\"],[0.5555555555555556,\"#d8576b\"],[0.6666666666666666,\"#ed7953\"],[0.7777777777777778,\"#fb9f3a\"],[0.8888888888888888,\"#fdca26\"],[1.0,\"#f0f921\"]],\"type\":\"heatmap\"}],\"heatmapgl\":[{\"colorbar\":{\"outlinewidth\":0,\"ticks\":\"\"},\"colorscale\":[[0.0,\"#0d0887\"],[0.1111111111111111,\"#46039f\"],[0.2222222222222222,\"#7201a8\"],[0.3333333333333333,\"#9c179e\"],[0.4444444444444444,\"#bd3786\"],[0.5555555555555556,\"#d8576b\"],[0.6666666666666666,\"#ed7953\"],[0.7777777777777778,\"#fb9f3a\"],[0.8888888888888888,\"#fdca26\"],[1.0,\"#f0f921\"]],\"type\":\"heatmapgl\"}],\"histogram\":[{\"marker\":{\"pattern\":{\"fillmode\":\"overlay\",\"size\":10,\"solidity\":0.2}},\"type\":\"histogram\"}],\"histogram2d\":[{\"colorbar\":{\"outlinewidth\":0,\"ticks\":\"\"},\"colorscale\":[[0.0,\"#0d0887\"],[0.1111111111111111,\"#46039f\"],[0.2222222222222222,\"#7201a8\"],[0.3333333333333333,\"#9c179e\"],[0.4444444444444444,\"#bd3786\"],[0.5555555555555556,\"#d8576b\"],[0.6666666666666666,\"#ed7953\"],[0.7777777777777778,\"#fb9f3a\"],[0.8888888888888888,\"#fdca26\"],[1.0,\"#f0f921\"]],\"type\":\"histogram2d\"}],\"histogram2dcontour\":[{\"colorbar\":{\"outlinewidth\":0,\"ticks\":\"\"},\"colorscale\":[[0.0,\"#0d0887\"],[0.1111111111111111,\"#46039f\"],[0.2222222222222222,\"#7201a8\"],[0.3333333333333333,\"#9c179e\"],[0.4444444444444444,\"#bd3786\"],[0.5555555555555556,\"#d8576b\"],[0.6666666666666666,\"#ed7953\"],[0.7777777777777778,\"#fb9f3a\"],[0.8888888888888888,\"#fdca26\"],[1.0,\"#f0f921\"]],\"type\":\"histogram2dcontour\"}],\"mesh3d\":[{\"colorbar\":{\"outlinewidth\":0,\"ticks\":\"\"},\"type\":\"mesh3d\"}],\"parcoords\":[{\"line\":{\"colorbar\":{\"outlinewidth\":0,\"ticks\":\"\"}},\"type\":\"parcoords\"}],\"pie\":[{\"automargin\":true,\"type\":\"pie\"}],\"scatter\":[{\"marker\":{\"colorbar\":{\"outlinewidth\":0,\"ticks\":\"\"}},\"type\":\"scatter\"}],\"scatter3d\":[{\"line\":{\"colorbar\":{\"outlinewidth\":0,\"ticks\":\"\"}},\"marker\":{\"colorbar\":{\"outlinewidth\":0,\"ticks\":\"\"}},\"type\":\"scatter3d\"}],\"scattercarpet\":[{\"marker\":{\"colorbar\":{\"outlinewidth\":0,\"ticks\":\"\"}},\"type\":\"scattercarpet\"}],\"scattergeo\":[{\"marker\":{\"colorbar\":{\"outlinewidth\":0,\"ticks\":\"\"}},\"type\":\"scattergeo\"}],\"scattergl\":[{\"marker\":{\"colorbar\":{\"outlinewidth\":0,\"ticks\":\"\"}},\"type\":\"scattergl\"}],\"scattermapbox\":[{\"marker\":{\"colorbar\":{\"outlinewidth\":0,\"ticks\":\"\"}},\"type\":\"scattermapbox\"}],\"scatterpolar\":[{\"marker\":{\"colorbar\":{\"outlinewidth\":0,\"ticks\":\"\"}},\"type\":\"scatterpolar\"}],\"scatterpolargl\":[{\"marker\":{\"colorbar\":{\"outlinewidth\":0,\"ticks\":\"\"}},\"type\":\"scatterpolargl\"}],\"scatterternary\":[{\"marker\":{\"colorbar\":{\"outlinewidth\":0,\"ticks\":\"\"}},\"type\":\"scatterternary\"}],\"surface\":[{\"colorbar\":{\"outlinewidth\":0,\"ticks\":\"\"},\"colorscale\":[[0.0,\"#0d0887\"],[0.1111111111111111,\"#46039f\"],[0.2222222222222222,\"#7201a8\"],[0.3333333333333333,\"#9c179e\"],[0.4444444444444444,\"#bd3786\"],[0.5555555555555556,\"#d8576b\"],[0.6666666666666666,\"#ed7953\"],[0.7777777777777778,\"#fb9f3a\"],[0.8888888888888888,\"#fdca26\"],[1.0,\"#f0f921\"]],\"type\":\"surface\"}],\"table\":[{\"cells\":{\"fill\":{\"color\":\"#EBF0F8\"},\"line\":{\"color\":\"white\"}},\"header\":{\"fill\":{\"color\":\"#C8D4E3\"},\"line\":{\"color\":\"white\"}},\"type\":\"table\"}]},\"layout\":{\"annotationdefaults\":{\"arrowcolor\":\"#2a3f5f\",\"arrowhead\":0,\"arrowwidth\":1},\"autotypenumbers\":\"strict\",\"coloraxis\":{\"colorbar\":{\"outlinewidth\":0,\"ticks\":\"\"}},\"colorscale\":{\"diverging\":[[0,\"#8e0152\"],[0.1,\"#c51b7d\"],[0.2,\"#de77ae\"],[0.3,\"#f1b6da\"],[0.4,\"#fde0ef\"],[0.5,\"#f7f7f7\"],[0.6,\"#e6f5d0\"],[0.7,\"#b8e186\"],[0.8,\"#7fbc41\"],[0.9,\"#4d9221\"],[1,\"#276419\"]],\"sequential\":[[0.0,\"#0d0887\"],[0.1111111111111111,\"#46039f\"],[0.2222222222222222,\"#7201a8\"],[0.3333333333333333,\"#9c179e\"],[0.4444444444444444,\"#bd3786\"],[0.5555555555555556,\"#d8576b\"],[0.6666666666666666,\"#ed7953\"],[0.7777777777777778,\"#fb9f3a\"],[0.8888888888888888,\"#fdca26\"],[1.0,\"#f0f921\"]],\"sequentialminus\":[[0.0,\"#0d0887\"],[0.1111111111111111,\"#46039f\"],[0.2222222222222222,\"#7201a8\"],[0.3333333333333333,\"#9c179e\"],[0.4444444444444444,\"#bd3786\"],[0.5555555555555556,\"#d8576b\"],[0.6666666666666666,\"#ed7953\"],[0.7777777777777778,\"#fb9f3a\"],[0.8888888888888888,\"#fdca26\"],[1.0,\"#f0f921\"]]},\"colorway\":[\"#636efa\",\"#EF553B\",\"#00cc96\",\"#ab63fa\",\"#FFA15A\",\"#19d3f3\",\"#FF6692\",\"#B6E880\",\"#FF97FF\",\"#FECB52\"],\"font\":{\"color\":\"#2a3f5f\"},\"geo\":{\"bgcolor\":\"white\",\"lakecolor\":\"white\",\"landcolor\":\"#E5ECF6\",\"showlakes\":true,\"showland\":true,\"subunitcolor\":\"white\"},\"hoverlabel\":{\"align\":\"left\"},\"hovermode\":\"closest\",\"mapbox\":{\"style\":\"light\"},\"paper_bgcolor\":\"white\",\"plot_bgcolor\":\"#E5ECF6\",\"polar\":{\"angularaxis\":{\"gridcolor\":\"white\",\"linecolor\":\"white\",\"ticks\":\"\"},\"bgcolor\":\"#E5ECF6\",\"radialaxis\":{\"gridcolor\":\"white\",\"linecolor\":\"white\",\"ticks\":\"\"}},\"scene\":{\"xaxis\":{\"backgroundcolor\":\"#E5ECF6\",\"gridcolor\":\"white\",\"gridwidth\":2,\"linecolor\":\"white\",\"showbackground\":true,\"ticks\":\"\",\"zerolinecolor\":\"white\"},\"yaxis\":{\"backgroundcolor\":\"#E5ECF6\",\"gridcolor\":\"white\",\"gridwidth\":2,\"linecolor\":\"white\",\"showbackground\":true,\"ticks\":\"\",\"zerolinecolor\":\"white\"},\"zaxis\":{\"backgroundcolor\":\"#E5ECF6\",\"gridcolor\":\"white\",\"gridwidth\":2,\"linecolor\":\"white\",\"showbackground\":true,\"ticks\":\"\",\"zerolinecolor\":\"white\"}},\"shapedefaults\":{\"line\":{\"color\":\"#2a3f5f\"}},\"ternary\":{\"aaxis\":{\"gridcolor\":\"white\",\"linecolor\":\"white\",\"ticks\":\"\"},\"baxis\":{\"gridcolor\":\"white\",\"linecolor\":\"white\",\"ticks\":\"\"},\"bgcolor\":\"#E5ECF6\",\"caxis\":{\"gridcolor\":\"white\",\"linecolor\":\"white\",\"ticks\":\"\"}},\"title\":{\"x\":0.05},\"xaxis\":{\"automargin\":true,\"gridcolor\":\"white\",\"linecolor\":\"white\",\"ticks\":\"\",\"title\":{\"standoff\":15},\"zerolinecolor\":\"white\",\"zerolinewidth\":2},\"yaxis\":{\"automargin\":true,\"gridcolor\":\"white\",\"linecolor\":\"white\",\"ticks\":\"\",\"title\":{\"standoff\":15},\"zerolinecolor\":\"white\",\"zerolinewidth\":2}}},\"xaxis\":{\"anchor\":\"y\",\"domain\":[0.0,1.0],\"title\":{\"text\":\"gdp_percapita\"},\"type\":\"log\"},\"yaxis\":{\"anchor\":\"x\",\"domain\":[0.0,1.0],\"title\":{\"text\":\"life_expectancy\"}},\"legend\":{\"tracegroupgap\":0},\"margin\":{\"t\":60},\"title\":{\"text\":\"GDP and Life Expectancy With Focus On The Level Of GDP - Top 10 Countries\"},\"height\":800},                        {\"responsive\": true}                    ).then(function(){\n",
       "                            \n",
       "var gd = document.getElementById('1b2341a0-0d64-49c3-9324-ebbaeddd28b4');\n",
       "var x = new MutationObserver(function (mutations, observer) {{\n",
       "        var display = window.getComputedStyle(gd).display;\n",
       "        if (!display || display === 'none') {{\n",
       "            console.log([gd, 'removed!']);\n",
       "            Plotly.purge(gd);\n",
       "            observer.disconnect();\n",
       "        }}\n",
       "}});\n",
       "\n",
       "// Listen for the removal of the full notebook cells\n",
       "var notebookContainer = gd.closest('#notebook-container');\n",
       "if (notebookContainer) {{\n",
       "    x.observe(notebookContainer, {childList: true});\n",
       "}}\n",
       "\n",
       "// Listen for the clearing of the current output cell\n",
       "var outputEl = gd.closest('.output');\n",
       "if (outputEl) {{\n",
       "    x.observe(outputEl, {childList: true});\n",
       "}}\n",
       "\n",
       "                        })                };                });            </script>        </div>"
      ]
     },
     "metadata": {},
     "output_type": "display_data"
    }
   ],
   "source": [
    "# scatter plot of 'GDP and Life Expectancy With Focus On The Level Of GDP - Top 10 Countries'\n",
    "fig3 = px.scatter(df_pop_eco2015.sort_values(by ='gdp_percapita', ascending = False).head(10), x =\"gdp_percapita\", y = \"life_expectancy\", text = \"country_code\", log_x = True, size_max = 60)\n",
    "fig3.update_traces(textposition ='top center')\n",
    "fig3.update_layout(\n",
    "    height = 800,\n",
    "    title_text = 'GDP and Life Expectancy With Focus On The Level Of GDP - Top 10 Countries')\n",
    "fig3.show()"
   ]
  },
  {
   "cell_type": "code",
   "execution_count": 122,
   "id": "f530f0e7",
   "metadata": {},
   "outputs": [
    {
     "data": {
      "text/html": [
       "<div>\n",
       "<style scoped>\n",
       "    .dataframe tbody tr th:only-of-type {\n",
       "        vertical-align: middle;\n",
       "    }\n",
       "\n",
       "    .dataframe tbody tr th {\n",
       "        vertical-align: top;\n",
       "    }\n",
       "\n",
       "    .dataframe thead th {\n",
       "        text-align: right;\n",
       "    }\n",
       "</style>\n",
       "<table border=\"1\" class=\"dataframe\">\n",
       "  <thead>\n",
       "    <tr style=\"text-align: right;\">\n",
       "      <th></th>\n",
       "      <th>code</th>\n",
       "      <th>year</th>\n",
       "      <th>income_group</th>\n",
       "      <th>gross_savings</th>\n",
       "    </tr>\n",
       "  </thead>\n",
       "  <tbody>\n",
       "    <tr>\n",
       "      <th>0</th>\n",
       "      <td>AGO</td>\n",
       "      <td>2019</td>\n",
       "      <td>Lower middle income</td>\n",
       "      <td>25.524848</td>\n",
       "    </tr>\n",
       "    <tr>\n",
       "      <th>1</th>\n",
       "      <td>ALB</td>\n",
       "      <td>2019</td>\n",
       "      <td>Upper middle income</td>\n",
       "      <td>14.499826</td>\n",
       "    </tr>\n",
       "    <tr>\n",
       "      <th>2</th>\n",
       "      <td>ARG</td>\n",
       "      <td>2019</td>\n",
       "      <td>Upper middle income</td>\n",
       "      <td>14.285295</td>\n",
       "    </tr>\n",
       "    <tr>\n",
       "      <th>3</th>\n",
       "      <td>ARM</td>\n",
       "      <td>2019</td>\n",
       "      <td>Upper middle income</td>\n",
       "      <td>9.815574</td>\n",
       "    </tr>\n",
       "    <tr>\n",
       "      <th>4</th>\n",
       "      <td>ATG</td>\n",
       "      <td>2019</td>\n",
       "      <td>High income</td>\n",
       "      <td>26.383427</td>\n",
       "    </tr>\n",
       "  </tbody>\n",
       "</table>\n",
       "</div>"
      ],
      "text/plain": [
       "  code  year         income_group  gross_savings\n",
       "0  AGO  2019  Lower middle income      25.524848\n",
       "1  ALB  2019  Upper middle income      14.499826\n",
       "2  ARG  2019  Upper middle income      14.285295\n",
       "3  ARM  2019  Upper middle income       9.815574\n",
       "4  ATG  2019          High income      26.383427"
      ]
     },
     "execution_count": 122,
     "metadata": {},
     "output_type": "execute_result"
    }
   ],
   "source": [
    "# displaying the 2019 economy data\n",
    "df_economy2019.head()"
   ]
  },
  {
   "cell_type": "code",
   "execution_count": 123,
   "id": "09896d9a",
   "metadata": {},
   "outputs": [
    {
     "data": {
      "text/html": [
       "<div>\n",
       "<style scoped>\n",
       "    .dataframe tbody tr th:only-of-type {\n",
       "        vertical-align: middle;\n",
       "    }\n",
       "\n",
       "    .dataframe tbody tr th {\n",
       "        vertical-align: top;\n",
       "    }\n",
       "\n",
       "    .dataframe thead th {\n",
       "        text-align: right;\n",
       "    }\n",
       "</style>\n",
       "<table border=\"1\" class=\"dataframe\">\n",
       "  <thead>\n",
       "    <tr style=\"text-align: right;\">\n",
       "      <th></th>\n",
       "      <th>index</th>\n",
       "      <th>code</th>\n",
       "      <th>year</th>\n",
       "      <th>income_group</th>\n",
       "      <th>gross_savings</th>\n",
       "    </tr>\n",
       "  </thead>\n",
       "  <tbody>\n",
       "    <tr>\n",
       "      <th>0</th>\n",
       "      <td>20</td>\n",
       "      <td>BRN</td>\n",
       "      <td>2019</td>\n",
       "      <td>High income</td>\n",
       "      <td>53.553442</td>\n",
       "    </tr>\n",
       "    <tr>\n",
       "      <th>1</th>\n",
       "      <td>84</td>\n",
       "      <td>MAC</td>\n",
       "      <td>2019</td>\n",
       "      <td>High income</td>\n",
       "      <td>47.790588</td>\n",
       "    </tr>\n",
       "    <tr>\n",
       "      <th>2</th>\n",
       "      <td>117</td>\n",
       "      <td>QAT</td>\n",
       "      <td>2019</td>\n",
       "      <td>High income</td>\n",
       "      <td>46.150703</td>\n",
       "    </tr>\n",
       "    <tr>\n",
       "      <th>3</th>\n",
       "      <td>123</td>\n",
       "      <td>SGP</td>\n",
       "      <td>2019</td>\n",
       "      <td>High income</td>\n",
       "      <td>40.317130</td>\n",
       "    </tr>\n",
       "    <tr>\n",
       "      <th>4</th>\n",
       "      <td>17</td>\n",
       "      <td>BMU</td>\n",
       "      <td>2019</td>\n",
       "      <td>High income</td>\n",
       "      <td>39.173462</td>\n",
       "    </tr>\n",
       "    <tr>\n",
       "      <th>5</th>\n",
       "      <td>64</td>\n",
       "      <td>IRL</td>\n",
       "      <td>2019</td>\n",
       "      <td>High income</td>\n",
       "      <td>35.390303</td>\n",
       "    </tr>\n",
       "    <tr>\n",
       "      <th>6</th>\n",
       "      <td>76</td>\n",
       "      <td>KOR</td>\n",
       "      <td>2019</td>\n",
       "      <td>High income</td>\n",
       "      <td>34.780382</td>\n",
       "    </tr>\n",
       "    <tr>\n",
       "      <th>7</th>\n",
       "      <td>121</td>\n",
       "      <td>SAU</td>\n",
       "      <td>2019</td>\n",
       "      <td>High income</td>\n",
       "      <td>33.597081</td>\n",
       "    </tr>\n",
       "    <tr>\n",
       "      <th>8</th>\n",
       "      <td>105</td>\n",
       "      <td>NOR</td>\n",
       "      <td>2019</td>\n",
       "      <td>High income</td>\n",
       "      <td>32.730519</td>\n",
       "    </tr>\n",
       "    <tr>\n",
       "      <th>9</th>\n",
       "      <td>77</td>\n",
       "      <td>KWT</td>\n",
       "      <td>2019</td>\n",
       "      <td>High income</td>\n",
       "      <td>32.270222</td>\n",
       "    </tr>\n",
       "    <tr>\n",
       "      <th>10</th>\n",
       "      <td>24</td>\n",
       "      <td>CHE</td>\n",
       "      <td>2019</td>\n",
       "      <td>High income</td>\n",
       "      <td>31.863023</td>\n",
       "    </tr>\n",
       "    <tr>\n",
       "      <th>11</th>\n",
       "      <td>104</td>\n",
       "      <td>NLD</td>\n",
       "      <td>2019</td>\n",
       "      <td>High income</td>\n",
       "      <td>31.465902</td>\n",
       "    </tr>\n",
       "    <tr>\n",
       "      <th>12</th>\n",
       "      <td>38</td>\n",
       "      <td>DNK</td>\n",
       "      <td>2019</td>\n",
       "      <td>High income</td>\n",
       "      <td>30.773589</td>\n",
       "    </tr>\n",
       "    <tr>\n",
       "      <th>13</th>\n",
       "      <td>130</td>\n",
       "      <td>SWE</td>\n",
       "      <td>2019</td>\n",
       "      <td>High income</td>\n",
       "      <td>30.338386</td>\n",
       "    </tr>\n",
       "    <tr>\n",
       "      <th>14</th>\n",
       "      <td>44</td>\n",
       "      <td>EST</td>\n",
       "      <td>2019</td>\n",
       "      <td>High income</td>\n",
       "      <td>29.931715</td>\n",
       "    </tr>\n",
       "    <tr>\n",
       "      <th>15</th>\n",
       "      <td>36</td>\n",
       "      <td>DEU</td>\n",
       "      <td>2019</td>\n",
       "      <td>High income</td>\n",
       "      <td>29.636505</td>\n",
       "    </tr>\n",
       "    <tr>\n",
       "      <th>16</th>\n",
       "      <td>71</td>\n",
       "      <td>JPN</td>\n",
       "      <td>2019</td>\n",
       "      <td>High income</td>\n",
       "      <td>29.344835</td>\n",
       "    </tr>\n",
       "    <tr>\n",
       "      <th>17</th>\n",
       "      <td>92</td>\n",
       "      <td>MLT</td>\n",
       "      <td>2019</td>\n",
       "      <td>High income</td>\n",
       "      <td>28.304553</td>\n",
       "    </tr>\n",
       "    <tr>\n",
       "      <th>18</th>\n",
       "      <td>6</td>\n",
       "      <td>AUT</td>\n",
       "      <td>2019</td>\n",
       "      <td>High income</td>\n",
       "      <td>27.757990</td>\n",
       "    </tr>\n",
       "    <tr>\n",
       "      <th>19</th>\n",
       "      <td>61</td>\n",
       "      <td>HUN</td>\n",
       "      <td>2019</td>\n",
       "      <td>High income</td>\n",
       "      <td>27.633350</td>\n",
       "    </tr>\n",
       "    <tr>\n",
       "      <th>20</th>\n",
       "      <td>35</td>\n",
       "      <td>CZE</td>\n",
       "      <td>2019</td>\n",
       "      <td>High income</td>\n",
       "      <td>26.958780</td>\n",
       "    </tr>\n",
       "    <tr>\n",
       "      <th>21</th>\n",
       "      <td>129</td>\n",
       "      <td>SVN</td>\n",
       "      <td>2019</td>\n",
       "      <td>High income</td>\n",
       "      <td>26.701181</td>\n",
       "    </tr>\n",
       "    <tr>\n",
       "      <th>22</th>\n",
       "      <td>4</td>\n",
       "      <td>ATG</td>\n",
       "      <td>2019</td>\n",
       "      <td>High income</td>\n",
       "      <td>26.383427</td>\n",
       "    </tr>\n",
       "    <tr>\n",
       "      <th>23</th>\n",
       "      <td>8</td>\n",
       "      <td>BEL</td>\n",
       "      <td>2019</td>\n",
       "      <td>High income</td>\n",
       "      <td>25.092564</td>\n",
       "    </tr>\n",
       "    <tr>\n",
       "      <th>24</th>\n",
       "      <td>67</td>\n",
       "      <td>ISR</td>\n",
       "      <td>2019</td>\n",
       "      <td>High income</td>\n",
       "      <td>24.920249</td>\n",
       "    </tr>\n",
       "    <tr>\n",
       "      <th>25</th>\n",
       "      <td>59</td>\n",
       "      <td>HRV</td>\n",
       "      <td>2019</td>\n",
       "      <td>High income</td>\n",
       "      <td>24.392088</td>\n",
       "    </tr>\n",
       "    <tr>\n",
       "      <th>26</th>\n",
       "      <td>57</td>\n",
       "      <td>HKG</td>\n",
       "      <td>2019</td>\n",
       "      <td>High income</td>\n",
       "      <td>24.039231</td>\n",
       "    </tr>\n",
       "    <tr>\n",
       "      <th>27</th>\n",
       "      <td>66</td>\n",
       "      <td>ISL</td>\n",
       "      <td>2019</td>\n",
       "      <td>High income</td>\n",
       "      <td>24.038948</td>\n",
       "    </tr>\n",
       "    <tr>\n",
       "      <th>28</th>\n",
       "      <td>46</td>\n",
       "      <td>FIN</td>\n",
       "      <td>2019</td>\n",
       "      <td>High income</td>\n",
       "      <td>23.864513</td>\n",
       "    </tr>\n",
       "    <tr>\n",
       "      <th>29</th>\n",
       "      <td>48</td>\n",
       "      <td>FRA</td>\n",
       "      <td>2019</td>\n",
       "      <td>High income</td>\n",
       "      <td>23.658459</td>\n",
       "    </tr>\n",
       "    <tr>\n",
       "      <th>30</th>\n",
       "      <td>43</td>\n",
       "      <td>ESP</td>\n",
       "      <td>2019</td>\n",
       "      <td>High income</td>\n",
       "      <td>22.992832</td>\n",
       "    </tr>\n",
       "    <tr>\n",
       "      <th>31</th>\n",
       "      <td>83</td>\n",
       "      <td>LVA</td>\n",
       "      <td>2019</td>\n",
       "      <td>High income</td>\n",
       "      <td>22.586766</td>\n",
       "    </tr>\n",
       "    <tr>\n",
       "      <th>32</th>\n",
       "      <td>5</td>\n",
       "      <td>AUS</td>\n",
       "      <td>2019</td>\n",
       "      <td>High income</td>\n",
       "      <td>22.528534</td>\n",
       "    </tr>\n",
       "    <tr>\n",
       "      <th>33</th>\n",
       "      <td>108</td>\n",
       "      <td>OMN</td>\n",
       "      <td>2019</td>\n",
       "      <td>High income</td>\n",
       "      <td>22.026179</td>\n",
       "    </tr>\n",
       "    <tr>\n",
       "      <th>34</th>\n",
       "      <td>68</td>\n",
       "      <td>ITA</td>\n",
       "      <td>2019</td>\n",
       "      <td>High income</td>\n",
       "      <td>21.385311</td>\n",
       "    </tr>\n",
       "    <tr>\n",
       "      <th>35</th>\n",
       "      <td>107</td>\n",
       "      <td>NZL</td>\n",
       "      <td>2019</td>\n",
       "      <td>High income</td>\n",
       "      <td>21.057826</td>\n",
       "    </tr>\n",
       "    <tr>\n",
       "      <th>36</th>\n",
       "      <td>81</td>\n",
       "      <td>LTU</td>\n",
       "      <td>2019</td>\n",
       "      <td>High income</td>\n",
       "      <td>21.045234</td>\n",
       "    </tr>\n",
       "    <tr>\n",
       "      <th>37</th>\n",
       "      <td>128</td>\n",
       "      <td>SVK</td>\n",
       "      <td>2019</td>\n",
       "      <td>High income</td>\n",
       "      <td>21.030627</td>\n",
       "    </tr>\n",
       "    <tr>\n",
       "      <th>38</th>\n",
       "      <td>113</td>\n",
       "      <td>POL</td>\n",
       "      <td>2019</td>\n",
       "      <td>High income</td>\n",
       "      <td>20.051044</td>\n",
       "    </tr>\n",
       "    <tr>\n",
       "      <th>39</th>\n",
       "      <td>23</td>\n",
       "      <td>CAN</td>\n",
       "      <td>2019</td>\n",
       "      <td>High income</td>\n",
       "      <td>20.015422</td>\n",
       "    </tr>\n",
       "    <tr>\n",
       "      <th>40</th>\n",
       "      <td>13</td>\n",
       "      <td>BHS</td>\n",
       "      <td>2019</td>\n",
       "      <td>High income</td>\n",
       "      <td>20.001819</td>\n",
       "    </tr>\n",
       "    <tr>\n",
       "      <th>41</th>\n",
       "      <td>143</td>\n",
       "      <td>USA</td>\n",
       "      <td>2019</td>\n",
       "      <td>High income</td>\n",
       "      <td>19.494640</td>\n",
       "    </tr>\n",
       "    <tr>\n",
       "      <th>42</th>\n",
       "      <td>25</td>\n",
       "      <td>CHL</td>\n",
       "      <td>2019</td>\n",
       "      <td>High income</td>\n",
       "      <td>19.206270</td>\n",
       "    </tr>\n",
       "    <tr>\n",
       "      <th>43</th>\n",
       "      <td>114</td>\n",
       "      <td>PRT</td>\n",
       "      <td>2019</td>\n",
       "      <td>High income</td>\n",
       "      <td>18.392278</td>\n",
       "    </tr>\n",
       "    <tr>\n",
       "      <th>44</th>\n",
       "      <td>142</td>\n",
       "      <td>URY</td>\n",
       "      <td>2019</td>\n",
       "      <td>High income</td>\n",
       "      <td>16.005674</td>\n",
       "    </tr>\n",
       "    <tr>\n",
       "      <th>45</th>\n",
       "      <td>82</td>\n",
       "      <td>LUX</td>\n",
       "      <td>2019</td>\n",
       "      <td>High income</td>\n",
       "      <td>15.922005</td>\n",
       "    </tr>\n",
       "    <tr>\n",
       "      <th>46</th>\n",
       "      <td>49</td>\n",
       "      <td>GBR</td>\n",
       "      <td>2019</td>\n",
       "      <td>High income</td>\n",
       "      <td>15.193879</td>\n",
       "    </tr>\n",
       "    <tr>\n",
       "      <th>47</th>\n",
       "      <td>34</td>\n",
       "      <td>CYP</td>\n",
       "      <td>2019</td>\n",
       "      <td>High income</td>\n",
       "      <td>14.627575</td>\n",
       "    </tr>\n",
       "    <tr>\n",
       "      <th>48</th>\n",
       "      <td>132</td>\n",
       "      <td>SYC</td>\n",
       "      <td>2019</td>\n",
       "      <td>High income</td>\n",
       "      <td>12.794453</td>\n",
       "    </tr>\n",
       "    <tr>\n",
       "      <th>49</th>\n",
       "      <td>55</td>\n",
       "      <td>GRC</td>\n",
       "      <td>2019</td>\n",
       "      <td>High income</td>\n",
       "      <td>10.288100</td>\n",
       "    </tr>\n",
       "  </tbody>\n",
       "</table>\n",
       "</div>"
      ],
      "text/plain": [
       "    index code  year income_group  gross_savings\n",
       "0      20  BRN  2019  High income      53.553442\n",
       "1      84  MAC  2019  High income      47.790588\n",
       "2     117  QAT  2019  High income      46.150703\n",
       "3     123  SGP  2019  High income      40.317130\n",
       "4      17  BMU  2019  High income      39.173462\n",
       "5      64  IRL  2019  High income      35.390303\n",
       "6      76  KOR  2019  High income      34.780382\n",
       "7     121  SAU  2019  High income      33.597081\n",
       "8     105  NOR  2019  High income      32.730519\n",
       "9      77  KWT  2019  High income      32.270222\n",
       "10     24  CHE  2019  High income      31.863023\n",
       "11    104  NLD  2019  High income      31.465902\n",
       "12     38  DNK  2019  High income      30.773589\n",
       "13    130  SWE  2019  High income      30.338386\n",
       "14     44  EST  2019  High income      29.931715\n",
       "15     36  DEU  2019  High income      29.636505\n",
       "16     71  JPN  2019  High income      29.344835\n",
       "17     92  MLT  2019  High income      28.304553\n",
       "18      6  AUT  2019  High income      27.757990\n",
       "19     61  HUN  2019  High income      27.633350\n",
       "20     35  CZE  2019  High income      26.958780\n",
       "21    129  SVN  2019  High income      26.701181\n",
       "22      4  ATG  2019  High income      26.383427\n",
       "23      8  BEL  2019  High income      25.092564\n",
       "24     67  ISR  2019  High income      24.920249\n",
       "25     59  HRV  2019  High income      24.392088\n",
       "26     57  HKG  2019  High income      24.039231\n",
       "27     66  ISL  2019  High income      24.038948\n",
       "28     46  FIN  2019  High income      23.864513\n",
       "29     48  FRA  2019  High income      23.658459\n",
       "30     43  ESP  2019  High income      22.992832\n",
       "31     83  LVA  2019  High income      22.586766\n",
       "32      5  AUS  2019  High income      22.528534\n",
       "33    108  OMN  2019  High income      22.026179\n",
       "34     68  ITA  2019  High income      21.385311\n",
       "35    107  NZL  2019  High income      21.057826\n",
       "36     81  LTU  2019  High income      21.045234\n",
       "37    128  SVK  2019  High income      21.030627\n",
       "38    113  POL  2019  High income      20.051044\n",
       "39     23  CAN  2019  High income      20.015422\n",
       "40     13  BHS  2019  High income      20.001819\n",
       "41    143  USA  2019  High income      19.494640\n",
       "42     25  CHL  2019  High income      19.206270\n",
       "43    114  PRT  2019  High income      18.392278\n",
       "44    142  URY  2019  High income      16.005674\n",
       "45     82  LUX  2019  High income      15.922005\n",
       "46     49  GBR  2019  High income      15.193879\n",
       "47     34  CYP  2019  High income      14.627575\n",
       "48    132  SYC  2019  High income      12.794453\n",
       "49     55  GRC  2019  High income      10.288100"
      ]
     },
     "execution_count": 123,
     "metadata": {},
     "output_type": "execute_result"
    }
   ],
   "source": [
    "# extracting only high income group\n",
    "high_inc = df_economy2019.loc[df_economy2019['income_group'] == 'High income']\n",
    "high_inc.sort_values(by = 'gross_savings', ascending = False).reset_index()"
   ]
  },
  {
   "cell_type": "code",
   "execution_count": 124,
   "id": "71d6a28e",
   "metadata": {},
   "outputs": [
    {
     "data": {
      "text/html": [
       "<div>\n",
       "<style scoped>\n",
       "    .dataframe tbody tr th:only-of-type {\n",
       "        vertical-align: middle;\n",
       "    }\n",
       "\n",
       "    .dataframe tbody tr th {\n",
       "        vertical-align: top;\n",
       "    }\n",
       "\n",
       "    .dataframe thead th {\n",
       "        text-align: right;\n",
       "    }\n",
       "</style>\n",
       "<table border=\"1\" class=\"dataframe\">\n",
       "  <thead>\n",
       "    <tr style=\"text-align: right;\">\n",
       "      <th></th>\n",
       "      <th>index</th>\n",
       "      <th>Counts</th>\n",
       "    </tr>\n",
       "  </thead>\n",
       "  <tbody>\n",
       "    <tr>\n",
       "      <th>0</th>\n",
       "      <td>High income</td>\n",
       "      <td>50</td>\n",
       "    </tr>\n",
       "    <tr>\n",
       "      <th>1</th>\n",
       "      <td>Lower middle income</td>\n",
       "      <td>45</td>\n",
       "    </tr>\n",
       "    <tr>\n",
       "      <th>2</th>\n",
       "      <td>Upper middle income</td>\n",
       "      <td>41</td>\n",
       "    </tr>\n",
       "    <tr>\n",
       "      <th>3</th>\n",
       "      <td>Low income</td>\n",
       "      <td>15</td>\n",
       "    </tr>\n",
       "  </tbody>\n",
       "</table>\n",
       "</div>"
      ],
      "text/plain": [
       "                 index  Counts\n",
       "0          High income      50\n",
       "1  Lower middle income      45\n",
       "2  Upper middle income      41\n",
       "3           Low income      15"
      ]
     },
     "execution_count": 124,
     "metadata": {},
     "output_type": "execute_result"
    }
   ],
   "source": [
    "# getting the counts of various income groups\n",
    "inc_distribution = df_economy2019[['code', 'income_group']]\n",
    "inc_distribution['income_group'].value_counts().reset_index(name = 'Counts')"
   ]
  },
  {
   "cell_type": "code",
   "execution_count": 125,
   "id": "988c24bb",
   "metadata": {},
   "outputs": [
    {
     "data": {
      "application/vnd.plotly.v1+json": {
       "config": {
        "plotlyServerURL": "https://plot.ly"
       },
       "data": [
        {
         "hole": 0.3,
         "labels": [
          "High income",
          "Lower middle income",
          "Upper middle income",
          "Low income"
         ],
         "pull": [
          0.2,
          0,
          0,
          0
         ],
         "type": "pie",
         "values": [
          50,
          45,
          41,
          15
         ]
        }
       ],
       "layout": {
        "template": {
         "data": {
          "bar": [
           {
            "error_x": {
             "color": "#2a3f5f"
            },
            "error_y": {
             "color": "#2a3f5f"
            },
            "marker": {
             "line": {
              "color": "#E5ECF6",
              "width": 0.5
             },
             "pattern": {
              "fillmode": "overlay",
              "size": 10,
              "solidity": 0.2
             }
            },
            "type": "bar"
           }
          ],
          "barpolar": [
           {
            "marker": {
             "line": {
              "color": "#E5ECF6",
              "width": 0.5
             },
             "pattern": {
              "fillmode": "overlay",
              "size": 10,
              "solidity": 0.2
             }
            },
            "type": "barpolar"
           }
          ],
          "carpet": [
           {
            "aaxis": {
             "endlinecolor": "#2a3f5f",
             "gridcolor": "white",
             "linecolor": "white",
             "minorgridcolor": "white",
             "startlinecolor": "#2a3f5f"
            },
            "baxis": {
             "endlinecolor": "#2a3f5f",
             "gridcolor": "white",
             "linecolor": "white",
             "minorgridcolor": "white",
             "startlinecolor": "#2a3f5f"
            },
            "type": "carpet"
           }
          ],
          "choropleth": [
           {
            "colorbar": {
             "outlinewidth": 0,
             "ticks": ""
            },
            "type": "choropleth"
           }
          ],
          "contour": [
           {
            "colorbar": {
             "outlinewidth": 0,
             "ticks": ""
            },
            "colorscale": [
             [
              0,
              "#0d0887"
             ],
             [
              0.1111111111111111,
              "#46039f"
             ],
             [
              0.2222222222222222,
              "#7201a8"
             ],
             [
              0.3333333333333333,
              "#9c179e"
             ],
             [
              0.4444444444444444,
              "#bd3786"
             ],
             [
              0.5555555555555556,
              "#d8576b"
             ],
             [
              0.6666666666666666,
              "#ed7953"
             ],
             [
              0.7777777777777778,
              "#fb9f3a"
             ],
             [
              0.8888888888888888,
              "#fdca26"
             ],
             [
              1,
              "#f0f921"
             ]
            ],
            "type": "contour"
           }
          ],
          "contourcarpet": [
           {
            "colorbar": {
             "outlinewidth": 0,
             "ticks": ""
            },
            "type": "contourcarpet"
           }
          ],
          "heatmap": [
           {
            "colorbar": {
             "outlinewidth": 0,
             "ticks": ""
            },
            "colorscale": [
             [
              0,
              "#0d0887"
             ],
             [
              0.1111111111111111,
              "#46039f"
             ],
             [
              0.2222222222222222,
              "#7201a8"
             ],
             [
              0.3333333333333333,
              "#9c179e"
             ],
             [
              0.4444444444444444,
              "#bd3786"
             ],
             [
              0.5555555555555556,
              "#d8576b"
             ],
             [
              0.6666666666666666,
              "#ed7953"
             ],
             [
              0.7777777777777778,
              "#fb9f3a"
             ],
             [
              0.8888888888888888,
              "#fdca26"
             ],
             [
              1,
              "#f0f921"
             ]
            ],
            "type": "heatmap"
           }
          ],
          "heatmapgl": [
           {
            "colorbar": {
             "outlinewidth": 0,
             "ticks": ""
            },
            "colorscale": [
             [
              0,
              "#0d0887"
             ],
             [
              0.1111111111111111,
              "#46039f"
             ],
             [
              0.2222222222222222,
              "#7201a8"
             ],
             [
              0.3333333333333333,
              "#9c179e"
             ],
             [
              0.4444444444444444,
              "#bd3786"
             ],
             [
              0.5555555555555556,
              "#d8576b"
             ],
             [
              0.6666666666666666,
              "#ed7953"
             ],
             [
              0.7777777777777778,
              "#fb9f3a"
             ],
             [
              0.8888888888888888,
              "#fdca26"
             ],
             [
              1,
              "#f0f921"
             ]
            ],
            "type": "heatmapgl"
           }
          ],
          "histogram": [
           {
            "marker": {
             "pattern": {
              "fillmode": "overlay",
              "size": 10,
              "solidity": 0.2
             }
            },
            "type": "histogram"
           }
          ],
          "histogram2d": [
           {
            "colorbar": {
             "outlinewidth": 0,
             "ticks": ""
            },
            "colorscale": [
             [
              0,
              "#0d0887"
             ],
             [
              0.1111111111111111,
              "#46039f"
             ],
             [
              0.2222222222222222,
              "#7201a8"
             ],
             [
              0.3333333333333333,
              "#9c179e"
             ],
             [
              0.4444444444444444,
              "#bd3786"
             ],
             [
              0.5555555555555556,
              "#d8576b"
             ],
             [
              0.6666666666666666,
              "#ed7953"
             ],
             [
              0.7777777777777778,
              "#fb9f3a"
             ],
             [
              0.8888888888888888,
              "#fdca26"
             ],
             [
              1,
              "#f0f921"
             ]
            ],
            "type": "histogram2d"
           }
          ],
          "histogram2dcontour": [
           {
            "colorbar": {
             "outlinewidth": 0,
             "ticks": ""
            },
            "colorscale": [
             [
              0,
              "#0d0887"
             ],
             [
              0.1111111111111111,
              "#46039f"
             ],
             [
              0.2222222222222222,
              "#7201a8"
             ],
             [
              0.3333333333333333,
              "#9c179e"
             ],
             [
              0.4444444444444444,
              "#bd3786"
             ],
             [
              0.5555555555555556,
              "#d8576b"
             ],
             [
              0.6666666666666666,
              "#ed7953"
             ],
             [
              0.7777777777777778,
              "#fb9f3a"
             ],
             [
              0.8888888888888888,
              "#fdca26"
             ],
             [
              1,
              "#f0f921"
             ]
            ],
            "type": "histogram2dcontour"
           }
          ],
          "mesh3d": [
           {
            "colorbar": {
             "outlinewidth": 0,
             "ticks": ""
            },
            "type": "mesh3d"
           }
          ],
          "parcoords": [
           {
            "line": {
             "colorbar": {
              "outlinewidth": 0,
              "ticks": ""
             }
            },
            "type": "parcoords"
           }
          ],
          "pie": [
           {
            "automargin": true,
            "type": "pie"
           }
          ],
          "scatter": [
           {
            "marker": {
             "colorbar": {
              "outlinewidth": 0,
              "ticks": ""
             }
            },
            "type": "scatter"
           }
          ],
          "scatter3d": [
           {
            "line": {
             "colorbar": {
              "outlinewidth": 0,
              "ticks": ""
             }
            },
            "marker": {
             "colorbar": {
              "outlinewidth": 0,
              "ticks": ""
             }
            },
            "type": "scatter3d"
           }
          ],
          "scattercarpet": [
           {
            "marker": {
             "colorbar": {
              "outlinewidth": 0,
              "ticks": ""
             }
            },
            "type": "scattercarpet"
           }
          ],
          "scattergeo": [
           {
            "marker": {
             "colorbar": {
              "outlinewidth": 0,
              "ticks": ""
             }
            },
            "type": "scattergeo"
           }
          ],
          "scattergl": [
           {
            "marker": {
             "colorbar": {
              "outlinewidth": 0,
              "ticks": ""
             }
            },
            "type": "scattergl"
           }
          ],
          "scattermapbox": [
           {
            "marker": {
             "colorbar": {
              "outlinewidth": 0,
              "ticks": ""
             }
            },
            "type": "scattermapbox"
           }
          ],
          "scatterpolar": [
           {
            "marker": {
             "colorbar": {
              "outlinewidth": 0,
              "ticks": ""
             }
            },
            "type": "scatterpolar"
           }
          ],
          "scatterpolargl": [
           {
            "marker": {
             "colorbar": {
              "outlinewidth": 0,
              "ticks": ""
             }
            },
            "type": "scatterpolargl"
           }
          ],
          "scatterternary": [
           {
            "marker": {
             "colorbar": {
              "outlinewidth": 0,
              "ticks": ""
             }
            },
            "type": "scatterternary"
           }
          ],
          "surface": [
           {
            "colorbar": {
             "outlinewidth": 0,
             "ticks": ""
            },
            "colorscale": [
             [
              0,
              "#0d0887"
             ],
             [
              0.1111111111111111,
              "#46039f"
             ],
             [
              0.2222222222222222,
              "#7201a8"
             ],
             [
              0.3333333333333333,
              "#9c179e"
             ],
             [
              0.4444444444444444,
              "#bd3786"
             ],
             [
              0.5555555555555556,
              "#d8576b"
             ],
             [
              0.6666666666666666,
              "#ed7953"
             ],
             [
              0.7777777777777778,
              "#fb9f3a"
             ],
             [
              0.8888888888888888,
              "#fdca26"
             ],
             [
              1,
              "#f0f921"
             ]
            ],
            "type": "surface"
           }
          ],
          "table": [
           {
            "cells": {
             "fill": {
              "color": "#EBF0F8"
             },
             "line": {
              "color": "white"
             }
            },
            "header": {
             "fill": {
              "color": "#C8D4E3"
             },
             "line": {
              "color": "white"
             }
            },
            "type": "table"
           }
          ]
         },
         "layout": {
          "annotationdefaults": {
           "arrowcolor": "#2a3f5f",
           "arrowhead": 0,
           "arrowwidth": 1
          },
          "autotypenumbers": "strict",
          "coloraxis": {
           "colorbar": {
            "outlinewidth": 0,
            "ticks": ""
           }
          },
          "colorscale": {
           "diverging": [
            [
             0,
             "#8e0152"
            ],
            [
             0.1,
             "#c51b7d"
            ],
            [
             0.2,
             "#de77ae"
            ],
            [
             0.3,
             "#f1b6da"
            ],
            [
             0.4,
             "#fde0ef"
            ],
            [
             0.5,
             "#f7f7f7"
            ],
            [
             0.6,
             "#e6f5d0"
            ],
            [
             0.7,
             "#b8e186"
            ],
            [
             0.8,
             "#7fbc41"
            ],
            [
             0.9,
             "#4d9221"
            ],
            [
             1,
             "#276419"
            ]
           ],
           "sequential": [
            [
             0,
             "#0d0887"
            ],
            [
             0.1111111111111111,
             "#46039f"
            ],
            [
             0.2222222222222222,
             "#7201a8"
            ],
            [
             0.3333333333333333,
             "#9c179e"
            ],
            [
             0.4444444444444444,
             "#bd3786"
            ],
            [
             0.5555555555555556,
             "#d8576b"
            ],
            [
             0.6666666666666666,
             "#ed7953"
            ],
            [
             0.7777777777777778,
             "#fb9f3a"
            ],
            [
             0.8888888888888888,
             "#fdca26"
            ],
            [
             1,
             "#f0f921"
            ]
           ],
           "sequentialminus": [
            [
             0,
             "#0d0887"
            ],
            [
             0.1111111111111111,
             "#46039f"
            ],
            [
             0.2222222222222222,
             "#7201a8"
            ],
            [
             0.3333333333333333,
             "#9c179e"
            ],
            [
             0.4444444444444444,
             "#bd3786"
            ],
            [
             0.5555555555555556,
             "#d8576b"
            ],
            [
             0.6666666666666666,
             "#ed7953"
            ],
            [
             0.7777777777777778,
             "#fb9f3a"
            ],
            [
             0.8888888888888888,
             "#fdca26"
            ],
            [
             1,
             "#f0f921"
            ]
           ]
          },
          "colorway": [
           "#636efa",
           "#EF553B",
           "#00cc96",
           "#ab63fa",
           "#FFA15A",
           "#19d3f3",
           "#FF6692",
           "#B6E880",
           "#FF97FF",
           "#FECB52"
          ],
          "font": {
           "color": "#2a3f5f"
          },
          "geo": {
           "bgcolor": "white",
           "lakecolor": "white",
           "landcolor": "#E5ECF6",
           "showlakes": true,
           "showland": true,
           "subunitcolor": "white"
          },
          "hoverlabel": {
           "align": "left"
          },
          "hovermode": "closest",
          "mapbox": {
           "style": "light"
          },
          "paper_bgcolor": "white",
          "plot_bgcolor": "#E5ECF6",
          "polar": {
           "angularaxis": {
            "gridcolor": "white",
            "linecolor": "white",
            "ticks": ""
           },
           "bgcolor": "#E5ECF6",
           "radialaxis": {
            "gridcolor": "white",
            "linecolor": "white",
            "ticks": ""
           }
          },
          "scene": {
           "xaxis": {
            "backgroundcolor": "#E5ECF6",
            "gridcolor": "white",
            "gridwidth": 2,
            "linecolor": "white",
            "showbackground": true,
            "ticks": "",
            "zerolinecolor": "white"
           },
           "yaxis": {
            "backgroundcolor": "#E5ECF6",
            "gridcolor": "white",
            "gridwidth": 2,
            "linecolor": "white",
            "showbackground": true,
            "ticks": "",
            "zerolinecolor": "white"
           },
           "zaxis": {
            "backgroundcolor": "#E5ECF6",
            "gridcolor": "white",
            "gridwidth": 2,
            "linecolor": "white",
            "showbackground": true,
            "ticks": "",
            "zerolinecolor": "white"
           }
          },
          "shapedefaults": {
           "line": {
            "color": "#2a3f5f"
           }
          },
          "ternary": {
           "aaxis": {
            "gridcolor": "white",
            "linecolor": "white",
            "ticks": ""
           },
           "baxis": {
            "gridcolor": "white",
            "linecolor": "white",
            "ticks": ""
           },
           "bgcolor": "#E5ECF6",
           "caxis": {
            "gridcolor": "white",
            "linecolor": "white",
            "ticks": ""
           }
          },
          "title": {
           "x": 0.05
          },
          "xaxis": {
           "automargin": true,
           "gridcolor": "white",
           "linecolor": "white",
           "ticks": "",
           "title": {
            "standoff": 15
           },
           "zerolinecolor": "white",
           "zerolinewidth": 2
          },
          "yaxis": {
           "automargin": true,
           "gridcolor": "white",
           "linecolor": "white",
           "ticks": "",
           "title": {
            "standoff": 15
           },
           "zerolinecolor": "white",
           "zerolinewidth": 2
          }
         }
        },
        "title": {
         "text": "% Of Income Group Distribution"
        }
       }
      },
      "text/html": [
       "<div>                            <div id=\"26e7a947-79e3-4fb8-8eb0-84ca28521965\" class=\"plotly-graph-div\" style=\"height:525px; width:100%;\"></div>            <script type=\"text/javascript\">                require([\"plotly\"], function(Plotly) {                    window.PLOTLYENV=window.PLOTLYENV || {};                                    if (document.getElementById(\"26e7a947-79e3-4fb8-8eb0-84ca28521965\")) {                    Plotly.newPlot(                        \"26e7a947-79e3-4fb8-8eb0-84ca28521965\",                        [{\"hole\":0.3,\"labels\":[\"High income\",\"Lower middle income\",\"Upper middle income\",\"Low income\"],\"pull\":[0.2,0,0,0],\"values\":[50,45,41,15],\"type\":\"pie\"}],                        {\"template\":{\"data\":{\"bar\":[{\"error_x\":{\"color\":\"#2a3f5f\"},\"error_y\":{\"color\":\"#2a3f5f\"},\"marker\":{\"line\":{\"color\":\"#E5ECF6\",\"width\":0.5},\"pattern\":{\"fillmode\":\"overlay\",\"size\":10,\"solidity\":0.2}},\"type\":\"bar\"}],\"barpolar\":[{\"marker\":{\"line\":{\"color\":\"#E5ECF6\",\"width\":0.5},\"pattern\":{\"fillmode\":\"overlay\",\"size\":10,\"solidity\":0.2}},\"type\":\"barpolar\"}],\"carpet\":[{\"aaxis\":{\"endlinecolor\":\"#2a3f5f\",\"gridcolor\":\"white\",\"linecolor\":\"white\",\"minorgridcolor\":\"white\",\"startlinecolor\":\"#2a3f5f\"},\"baxis\":{\"endlinecolor\":\"#2a3f5f\",\"gridcolor\":\"white\",\"linecolor\":\"white\",\"minorgridcolor\":\"white\",\"startlinecolor\":\"#2a3f5f\"},\"type\":\"carpet\"}],\"choropleth\":[{\"colorbar\":{\"outlinewidth\":0,\"ticks\":\"\"},\"type\":\"choropleth\"}],\"contour\":[{\"colorbar\":{\"outlinewidth\":0,\"ticks\":\"\"},\"colorscale\":[[0.0,\"#0d0887\"],[0.1111111111111111,\"#46039f\"],[0.2222222222222222,\"#7201a8\"],[0.3333333333333333,\"#9c179e\"],[0.4444444444444444,\"#bd3786\"],[0.5555555555555556,\"#d8576b\"],[0.6666666666666666,\"#ed7953\"],[0.7777777777777778,\"#fb9f3a\"],[0.8888888888888888,\"#fdca26\"],[1.0,\"#f0f921\"]],\"type\":\"contour\"}],\"contourcarpet\":[{\"colorbar\":{\"outlinewidth\":0,\"ticks\":\"\"},\"type\":\"contourcarpet\"}],\"heatmap\":[{\"colorbar\":{\"outlinewidth\":0,\"ticks\":\"\"},\"colorscale\":[[0.0,\"#0d0887\"],[0.1111111111111111,\"#46039f\"],[0.2222222222222222,\"#7201a8\"],[0.3333333333333333,\"#9c179e\"],[0.4444444444444444,\"#bd3786\"],[0.5555555555555556,\"#d8576b\"],[0.6666666666666666,\"#ed7953\"],[0.7777777777777778,\"#fb9f3a\"],[0.8888888888888888,\"#fdca26\"],[1.0,\"#f0f921\"]],\"type\":\"heatmap\"}],\"heatmapgl\":[{\"colorbar\":{\"outlinewidth\":0,\"ticks\":\"\"},\"colorscale\":[[0.0,\"#0d0887\"],[0.1111111111111111,\"#46039f\"],[0.2222222222222222,\"#7201a8\"],[0.3333333333333333,\"#9c179e\"],[0.4444444444444444,\"#bd3786\"],[0.5555555555555556,\"#d8576b\"],[0.6666666666666666,\"#ed7953\"],[0.7777777777777778,\"#fb9f3a\"],[0.8888888888888888,\"#fdca26\"],[1.0,\"#f0f921\"]],\"type\":\"heatmapgl\"}],\"histogram\":[{\"marker\":{\"pattern\":{\"fillmode\":\"overlay\",\"size\":10,\"solidity\":0.2}},\"type\":\"histogram\"}],\"histogram2d\":[{\"colorbar\":{\"outlinewidth\":0,\"ticks\":\"\"},\"colorscale\":[[0.0,\"#0d0887\"],[0.1111111111111111,\"#46039f\"],[0.2222222222222222,\"#7201a8\"],[0.3333333333333333,\"#9c179e\"],[0.4444444444444444,\"#bd3786\"],[0.5555555555555556,\"#d8576b\"],[0.6666666666666666,\"#ed7953\"],[0.7777777777777778,\"#fb9f3a\"],[0.8888888888888888,\"#fdca26\"],[1.0,\"#f0f921\"]],\"type\":\"histogram2d\"}],\"histogram2dcontour\":[{\"colorbar\":{\"outlinewidth\":0,\"ticks\":\"\"},\"colorscale\":[[0.0,\"#0d0887\"],[0.1111111111111111,\"#46039f\"],[0.2222222222222222,\"#7201a8\"],[0.3333333333333333,\"#9c179e\"],[0.4444444444444444,\"#bd3786\"],[0.5555555555555556,\"#d8576b\"],[0.6666666666666666,\"#ed7953\"],[0.7777777777777778,\"#fb9f3a\"],[0.8888888888888888,\"#fdca26\"],[1.0,\"#f0f921\"]],\"type\":\"histogram2dcontour\"}],\"mesh3d\":[{\"colorbar\":{\"outlinewidth\":0,\"ticks\":\"\"},\"type\":\"mesh3d\"}],\"parcoords\":[{\"line\":{\"colorbar\":{\"outlinewidth\":0,\"ticks\":\"\"}},\"type\":\"parcoords\"}],\"pie\":[{\"automargin\":true,\"type\":\"pie\"}],\"scatter\":[{\"marker\":{\"colorbar\":{\"outlinewidth\":0,\"ticks\":\"\"}},\"type\":\"scatter\"}],\"scatter3d\":[{\"line\":{\"colorbar\":{\"outlinewidth\":0,\"ticks\":\"\"}},\"marker\":{\"colorbar\":{\"outlinewidth\":0,\"ticks\":\"\"}},\"type\":\"scatter3d\"}],\"scattercarpet\":[{\"marker\":{\"colorbar\":{\"outlinewidth\":0,\"ticks\":\"\"}},\"type\":\"scattercarpet\"}],\"scattergeo\":[{\"marker\":{\"colorbar\":{\"outlinewidth\":0,\"ticks\":\"\"}},\"type\":\"scattergeo\"}],\"scattergl\":[{\"marker\":{\"colorbar\":{\"outlinewidth\":0,\"ticks\":\"\"}},\"type\":\"scattergl\"}],\"scattermapbox\":[{\"marker\":{\"colorbar\":{\"outlinewidth\":0,\"ticks\":\"\"}},\"type\":\"scattermapbox\"}],\"scatterpolar\":[{\"marker\":{\"colorbar\":{\"outlinewidth\":0,\"ticks\":\"\"}},\"type\":\"scatterpolar\"}],\"scatterpolargl\":[{\"marker\":{\"colorbar\":{\"outlinewidth\":0,\"ticks\":\"\"}},\"type\":\"scatterpolargl\"}],\"scatterternary\":[{\"marker\":{\"colorbar\":{\"outlinewidth\":0,\"ticks\":\"\"}},\"type\":\"scatterternary\"}],\"surface\":[{\"colorbar\":{\"outlinewidth\":0,\"ticks\":\"\"},\"colorscale\":[[0.0,\"#0d0887\"],[0.1111111111111111,\"#46039f\"],[0.2222222222222222,\"#7201a8\"],[0.3333333333333333,\"#9c179e\"],[0.4444444444444444,\"#bd3786\"],[0.5555555555555556,\"#d8576b\"],[0.6666666666666666,\"#ed7953\"],[0.7777777777777778,\"#fb9f3a\"],[0.8888888888888888,\"#fdca26\"],[1.0,\"#f0f921\"]],\"type\":\"surface\"}],\"table\":[{\"cells\":{\"fill\":{\"color\":\"#EBF0F8\"},\"line\":{\"color\":\"white\"}},\"header\":{\"fill\":{\"color\":\"#C8D4E3\"},\"line\":{\"color\":\"white\"}},\"type\":\"table\"}]},\"layout\":{\"annotationdefaults\":{\"arrowcolor\":\"#2a3f5f\",\"arrowhead\":0,\"arrowwidth\":1},\"autotypenumbers\":\"strict\",\"coloraxis\":{\"colorbar\":{\"outlinewidth\":0,\"ticks\":\"\"}},\"colorscale\":{\"diverging\":[[0,\"#8e0152\"],[0.1,\"#c51b7d\"],[0.2,\"#de77ae\"],[0.3,\"#f1b6da\"],[0.4,\"#fde0ef\"],[0.5,\"#f7f7f7\"],[0.6,\"#e6f5d0\"],[0.7,\"#b8e186\"],[0.8,\"#7fbc41\"],[0.9,\"#4d9221\"],[1,\"#276419\"]],\"sequential\":[[0.0,\"#0d0887\"],[0.1111111111111111,\"#46039f\"],[0.2222222222222222,\"#7201a8\"],[0.3333333333333333,\"#9c179e\"],[0.4444444444444444,\"#bd3786\"],[0.5555555555555556,\"#d8576b\"],[0.6666666666666666,\"#ed7953\"],[0.7777777777777778,\"#fb9f3a\"],[0.8888888888888888,\"#fdca26\"],[1.0,\"#f0f921\"]],\"sequentialminus\":[[0.0,\"#0d0887\"],[0.1111111111111111,\"#46039f\"],[0.2222222222222222,\"#7201a8\"],[0.3333333333333333,\"#9c179e\"],[0.4444444444444444,\"#bd3786\"],[0.5555555555555556,\"#d8576b\"],[0.6666666666666666,\"#ed7953\"],[0.7777777777777778,\"#fb9f3a\"],[0.8888888888888888,\"#fdca26\"],[1.0,\"#f0f921\"]]},\"colorway\":[\"#636efa\",\"#EF553B\",\"#00cc96\",\"#ab63fa\",\"#FFA15A\",\"#19d3f3\",\"#FF6692\",\"#B6E880\",\"#FF97FF\",\"#FECB52\"],\"font\":{\"color\":\"#2a3f5f\"},\"geo\":{\"bgcolor\":\"white\",\"lakecolor\":\"white\",\"landcolor\":\"#E5ECF6\",\"showlakes\":true,\"showland\":true,\"subunitcolor\":\"white\"},\"hoverlabel\":{\"align\":\"left\"},\"hovermode\":\"closest\",\"mapbox\":{\"style\":\"light\"},\"paper_bgcolor\":\"white\",\"plot_bgcolor\":\"#E5ECF6\",\"polar\":{\"angularaxis\":{\"gridcolor\":\"white\",\"linecolor\":\"white\",\"ticks\":\"\"},\"bgcolor\":\"#E5ECF6\",\"radialaxis\":{\"gridcolor\":\"white\",\"linecolor\":\"white\",\"ticks\":\"\"}},\"scene\":{\"xaxis\":{\"backgroundcolor\":\"#E5ECF6\",\"gridcolor\":\"white\",\"gridwidth\":2,\"linecolor\":\"white\",\"showbackground\":true,\"ticks\":\"\",\"zerolinecolor\":\"white\"},\"yaxis\":{\"backgroundcolor\":\"#E5ECF6\",\"gridcolor\":\"white\",\"gridwidth\":2,\"linecolor\":\"white\",\"showbackground\":true,\"ticks\":\"\",\"zerolinecolor\":\"white\"},\"zaxis\":{\"backgroundcolor\":\"#E5ECF6\",\"gridcolor\":\"white\",\"gridwidth\":2,\"linecolor\":\"white\",\"showbackground\":true,\"ticks\":\"\",\"zerolinecolor\":\"white\"}},\"shapedefaults\":{\"line\":{\"color\":\"#2a3f5f\"}},\"ternary\":{\"aaxis\":{\"gridcolor\":\"white\",\"linecolor\":\"white\",\"ticks\":\"\"},\"baxis\":{\"gridcolor\":\"white\",\"linecolor\":\"white\",\"ticks\":\"\"},\"bgcolor\":\"#E5ECF6\",\"caxis\":{\"gridcolor\":\"white\",\"linecolor\":\"white\",\"ticks\":\"\"}},\"title\":{\"x\":0.05},\"xaxis\":{\"automargin\":true,\"gridcolor\":\"white\",\"linecolor\":\"white\",\"ticks\":\"\",\"title\":{\"standoff\":15},\"zerolinecolor\":\"white\",\"zerolinewidth\":2},\"yaxis\":{\"automargin\":true,\"gridcolor\":\"white\",\"linecolor\":\"white\",\"ticks\":\"\",\"title\":{\"standoff\":15},\"zerolinecolor\":\"white\",\"zerolinewidth\":2}}},\"title\":{\"text\":\"% Of Income Group Distribution\"}},                        {\"responsive\": true}                    ).then(function(){\n",
       "                            \n",
       "var gd = document.getElementById('26e7a947-79e3-4fb8-8eb0-84ca28521965');\n",
       "var x = new MutationObserver(function (mutations, observer) {{\n",
       "        var display = window.getComputedStyle(gd).display;\n",
       "        if (!display || display === 'none') {{\n",
       "            console.log([gd, 'removed!']);\n",
       "            Plotly.purge(gd);\n",
       "            observer.disconnect();\n",
       "        }}\n",
       "}});\n",
       "\n",
       "// Listen for the removal of the full notebook cells\n",
       "var notebookContainer = gd.closest('#notebook-container');\n",
       "if (notebookContainer) {{\n",
       "    x.observe(notebookContainer, {childList: true});\n",
       "}}\n",
       "\n",
       "// Listen for the clearing of the current output cell\n",
       "var outputEl = gd.closest('.output');\n",
       "if (outputEl) {{\n",
       "    x.observe(outputEl, {childList: true});\n",
       "}}\n",
       "\n",
       "                        })                };                });            </script>        </div>"
      ]
     },
     "metadata": {},
     "output_type": "display_data"
    }
   ],
   "source": [
    "# pie plot of \"Percentage of Income Group Distribution\"\n",
    "inc = ['High income', 'Lower middle income', 'Upper middle income', 'Low income']\n",
    "values = [50, 45, 41, 15]\n",
    "fig4 = go.Figure()\n",
    "fig4.add_trace(go.Pie(labels = inc, values = values, hole = 0.3, pull = [0.2, 0, 0, 0]))\n",
    "fig4.update_layout(title = '% Of Income Group Distribution')\n",
    "fig4.show()"
   ]
  },
  {
   "cell_type": "code",
   "execution_count": null,
   "id": "87fedddf",
   "metadata": {},
   "outputs": [],
   "source": []
  },
  {
   "cell_type": "code",
   "execution_count": null,
   "id": "fbddd5f4",
   "metadata": {},
   "outputs": [],
   "source": []
  }
 ],
 "metadata": {
  "kernelspec": {
   "display_name": "Python 3 (ipykernel)",
   "language": "python",
   "name": "python3"
  },
  "language_info": {
   "codemirror_mode": {
    "name": "ipython",
    "version": 3
   },
   "file_extension": ".py",
   "mimetype": "text/x-python",
   "name": "python",
   "nbconvert_exporter": "python",
   "pygments_lexer": "ipython3",
   "version": "3.9.12"
  }
 },
 "nbformat": 4,
 "nbformat_minor": 5
}
